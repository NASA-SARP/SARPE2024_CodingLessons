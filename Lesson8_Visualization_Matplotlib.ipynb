{
 "cells": [
  {
   "cell_type": "markdown",
   "id": "c720b1e6-98c5-4248-ba58-b6340f583266",
   "metadata": {},
   "source": [
    "# SARP-East Coding Lesson 8 - Visualization\n",
    "18 July 2024\n",
    "<br>Riley McCue"
   ]
  },
  {
   "cell_type": "markdown",
   "id": "d6a5c168-78fc-4370-9982-bc34f33c5a36",
   "metadata": {},
   "source": [
    "## 💭🧠 *\"If I can't picture it, I can't understand it.\"* 🧠💭\n",
    "<br>-Albert Einstein\n",
    "\n",
    "## 🧐 *\"The purpose of visualization is insight, not pictures.'* 🧐\n",
    "<br>-Ben Schneiderman (UMD)\n",
    "\n",
    "## 💶 *\"A picture is worth 1000 words.\"* 💶\n",
    "<br>-everybody"
   ]
  },
  {
   "cell_type": "markdown",
   "id": "9716e24e-6722-4402-802d-a982dac9bfd2",
   "metadata": {},
   "source": [
    "[OFFICE HOUR SIGNUP](https://docs.google.com/spreadsheets/d/1EDDZ7jxGzhFhAQeKTjtLBmbVYn3H6v1zb6QHUAIKUjA/edit?usp=sharing)"
   ]
  },
  {
   "cell_type": "markdown",
   "id": "5be69435-b3aa-4544-bf6f-b4ef57063804",
   "metadata": {},
   "source": [
    "## 🌏 Let's Open our Data\n",
    "We will be using our buoy data from our last lesson.\n",
    "<br> --> Note: If you did the Datetimes Lesson, you have this downloaded already. The file name is `FL_OCEAN_2019.csv`.\n",
    "\n",
    "[Buoy data!](https://buoybay.noaa.gov/data/data-download) ⛵\n",
    "<br> Select the following:\n",
    "1. Station: First Landing (FL)\n",
    "2. Year: 2019\n",
    "3. Type: Ocean\n",
    "<br> --> Get URL for download\n",
    "<br> You will likley have to enable pop-up browsers.\n",
    "\n",
    "You know the drill by now:\n",
    "1. Download your data into the cloud\n",
    "2. Enter your filepath in below\n",
    "\n",
    "This is **tabular** data, so we will be using `pandas`."
   ]
  },
  {
   "cell_type": "code",
   "execution_count": null,
   "id": "f2207ebd-f06d-451d-b018-89dd8e81f24f",
   "metadata": {},
   "outputs": [],
   "source": [
    "#Import pandas library\n",
    "import pandas as pd\n",
    "#Imports datetime library\n",
    "import datetime as dt"
   ]
  },
  {
   "cell_type": "code",
   "execution_count": null,
   "id": "988eb8d3-45db-4d7d-97cb-bf65f58abeb0",
   "metadata": {},
   "outputs": [],
   "source": [
    "#Opens data\n",
    "df = pd.read_csv('./Data_Images/FL_OCEAN_2019.csv')\n",
    "\n",
    "#I'm cleaning up the data a bit...\n",
    "\n",
    "#Drops first and second row of string labels\n",
    "df = df.drop([0,1])\n",
    "#Drops columns with QC (they are just unecessary).\n",
    "df = df.drop(['Temperature QC','Salinity QC', 'Chlorophyll QC', 'Turbidity QC', 'Oxygen QC', 'Waves QC', 'Latitude', 'Longitude'], axis=1)\n",
    "#Saves data values as floats rather than strings\n",
    "l_cols = df.columns.drop('Time (UTC)')\n",
    "df[l_cols] = df[l_cols].astype(float)\n",
    "\n",
    "#Converts our 'Time (UTC)' column to datetimes and indexes this column.\n",
    "df['Time (UTC)'] = pd.to_datetime(df['Time (UTC)'], format = '%d-%b-%y %X')\n",
    "index = df['Time (UTC)']\n",
    "df = df.set_index(index)\n",
    "\n",
    "#Resamples our data to daily rather than hourly points\n",
    "        #This is just for more visual clarity with plotting throughout this lesson\n",
    "df = df[l_cols].resample('1D').mean()\n",
    "\n",
    "#Recreates a Time column from our new datetime indicies\n",
    "df['Time (UTC)'] = df.index"
   ]
  },
  {
   "cell_type": "code",
   "execution_count": null,
   "id": "578b7ba8-316f-4268-ade8-1f691f76dd71",
   "metadata": {},
   "outputs": [],
   "source": [
    "#Let's view our data\n",
    "df"
   ]
  },
  {
   "cell_type": "code",
   "execution_count": null,
   "id": "8327ddd4-440b-440a-80bf-3f1ebe99b82d",
   "metadata": {},
   "outputs": [],
   "source": [
    "#Let's try this .plot() function to view our temperature\n",
    "df['Temperature'].plot()"
   ]
  },
  {
   "cell_type": "code",
   "execution_count": null,
   "id": "79d201aa-97e9-453b-88d7-544f204d6b8e",
   "metadata": {
    "scrolled": true
   },
   "outputs": [],
   "source": [
    "#Let's also make a scatter plots using pandas plotting functions\n",
    "df.plot.scatter(x = 'Time (UTC)', y='Temperature')"
   ]
  },
  {
   "cell_type": "markdown",
   "id": "fb1f606b-edbc-494d-a030-126c924426e9",
   "metadata": {},
   "source": [
    "This is some visualization we can do quickly with the built in visualizing functions in pandas. It is not fancy, but it can help us easily get a sense of our new data.\n",
    "\n",
    "A major aspect of working with and analyzing our data is in visualization. Today, we will primarily be talking about a library in Python called `matplotlib`."
   ]
  },
  {
   "cell_type": "markdown",
   "id": "c7149a98-7159-4ab3-8afa-162e97a5fa84",
   "metadata": {},
   "source": [
    "# 🎨👩🏾‍🎨 Visualization -- A Scientist's Canvas 👩🏾‍🎨🎨\n",
    "We, as scientific researchers, all have immense creative ability, and one scientific creative outlet we have is data visualization. This is one of the MORE FUN parts of research!!!\n",
    "\n",
    "There are many libraries and functions you can use to plot in Python, and many are based off of `matplotlib`. "
   ]
  },
  {
   "cell_type": "markdown",
   "id": "9b579581-b0ff-4f00-9bc0-fa4ef404600b",
   "metadata": {},
   "source": [
    "![VISUAL](./Data_Images/ease_vs_complexity.jpg)"
   ]
  },
  {
   "cell_type": "markdown",
   "id": "36477f5f-8e64-423b-a646-e27057ab8004",
   "metadata": {},
   "source": [
    "`matplotlib` gives us lots of control over certain aspects of our plot, but with that, it is more complex. \n",
    "\n",
    ":::{admonition} More Python Plotting Libraries\n",
    ":class: hint\n",
    "An [ARTICLE](https://www.askpython.com/python/python-plotting-and-graph-libraries) discussing uses of the 5 most common plotting libraries in Python. "
   ]
  },
  {
   "cell_type": "markdown",
   "id": "5f40c391-f9f8-41f3-990e-f9ec273ea331",
   "metadata": {},
   "source": [
    "Let's look at a LEGO analogy:"
   ]
  },
  {
   "cell_type": "markdown",
   "id": "976f14b5-44db-49f8-b962-7851d8fd317d",
   "metadata": {},
   "source": [
    "![image 1](./Data_Images/building_on_libraries-legos.jpg)\n",
    "![image 2](./Data_Images/building_on_libraries-python.jpg)"
   ]
  },
  {
   "cell_type": "markdown",
   "id": "438c9c88-69c7-4e25-91cc-637b09587994",
   "metadata": {},
   "source": [
    "You all will soon approach a time in your projects where you will want to go beyond the powers of just `.plot()`. I am going to cover the basics here, but for more in-depth questions and examples, check out [THIS matplotlib tutorial](https://matplotlib.org/stable/tutorials/pyplot.html)."
   ]
  },
  {
   "cell_type": "markdown",
   "id": "410282bb-b354-4dab-bd1d-22fc5f83670f",
   "metadata": {},
   "source": [
    "## 🎨**Now to `matplotlib`**"
   ]
  },
  {
   "cell_type": "markdown",
   "id": "1a6ac972-61d2-4f3b-86fa-a411d25bfd9d",
   "metadata": {},
   "source": [
    "To begin, let's import our NEW library!"
   ]
  },
  {
   "cell_type": "code",
   "execution_count": null,
   "id": "831ccc46-2a91-4ee5-a3cb-c05c3cfd0cce",
   "metadata": {},
   "outputs": [],
   "source": [
    "#Import our matplotlib library\n",
    "import matplotlib.pyplot as plt"
   ]
  },
  {
   "cell_type": "markdown",
   "id": "6aa3a5fc-1f16-4472-8729-e0538a5db44a",
   "metadata": {},
   "source": [
    "...and let's dive into some concepts first."
   ]
  },
  {
   "cell_type": "markdown",
   "id": "0e0ffd20-90e3-48be-844b-d92c99187ac6",
   "metadata": {},
   "source": [
    "### 🛍️ **Concept 1** Each Part of a Graph is a Separate *Object*\n",
    "Plots in Matplotlib are organized as a collection of overlapping objects. Each object can be created and accessed independently, although it doesn't have to be.\n",
    "\n",
    "A few of the most important objects to start with are **figure**, **axes** and **axis**."
   ]
  },
  {
   "cell_type": "markdown",
   "id": "67fe586c-a40a-469a-9225-f5104eaeed74",
   "metadata": {},
   "source": [
    "<img src=\"https://files.realpython.com/media/fig_map.bc8c7cabd823.png\">"
   ]
  },
  {
   "cell_type": "markdown",
   "id": "ad28daed-ee1f-41ea-9996-dde8c0b8b3dc",
   "metadata": {},
   "source": [
    "#### Setting a Figure and Axes"
   ]
  },
  {
   "cell_type": "code",
   "execution_count": null,
   "id": "3f50334c-0cae-41bc-90c5-7aa8005c7352",
   "metadata": {},
   "outputs": [],
   "source": [
    "#Creates a figure\n",
    "fig1 = plt.figure()\n",
    "\n",
    "#Creates a set of axes\n",
    "ax1 = plt.axes()"
   ]
  },
  {
   "cell_type": "code",
   "execution_count": null,
   "id": "41db33bf-c01d-4758-9ec6-78a876fc6c05",
   "metadata": {},
   "outputs": [],
   "source": [
    "#Let's change the colors of these now\n",
    "fig1 = plt.figure().set_facecolor('pink')\n",
    "ax1 = plt.axes().set_facecolor('purple')"
   ]
  },
  {
   "cell_type": "markdown",
   "id": "cb63c9b6-07a7-4a47-af31-b23d95c18b2f",
   "metadata": {},
   "source": [
    "## 📚**Concept 2** Objects are *Stacked*"
   ]
  },
  {
   "cell_type": "markdown",
   "id": "6a3d57d9-9456-4bb7-be09-2f9a76a8cffc",
   "metadata": {},
   "source": [
    "Each time you add a new object to a matplotlib figure, it gets layered on top of the current plot. Objects are added in the order they are created. \n",
    "\n",
    "Think of painting --> You paint something, and you let it dry. If you choose to add more to the painting later, you can only paint on top of what is already there. \n",
    "\n",
    "Let's look at a simple example with 2 dots:"
   ]
  },
  {
   "cell_type": "code",
   "execution_count": null,
   "id": "6bd427ab-9579-4649-ae04-6bc4d99d5b92",
   "metadata": {},
   "outputs": [],
   "source": [
    "#Creates a black dot\n",
    "plt.plot([0], [0], color='black', marker='o', markersize=100)\n",
    "\n",
    "#Creates a smaller red dot in the same location\n",
    "plt.plot([0], [0], color='red', marker = 'o', markersize=50)"
   ]
  },
  {
   "cell_type": "markdown",
   "id": "2f32ee73-2cdf-44b4-a710-7a29f530eed3",
   "metadata": {},
   "source": [
    "Now let's create these objects in the opposite order."
   ]
  },
  {
   "cell_type": "code",
   "execution_count": null,
   "id": "1d4098a5-78fb-4a89-b4c6-f44dca9ea2fb",
   "metadata": {},
   "outputs": [],
   "source": [
    "#Creates a small red dot\n",
    "plt.plot([0], [0], color='red', marker = 'o', markersize=50)\n",
    "\n",
    "#Creates a larger black dot in the same location\n",
    "plt.plot([0], [0], color='black', marker='o', markersize=100)"
   ]
  },
  {
   "cell_type": "markdown",
   "id": "c27db2dd-4c54-4f60-8e58-a99eb4b144ec",
   "metadata": {},
   "source": [
    "In the second figure, we cannot see the red dot because it was created before the black dot. The black dot is layered over the top. The red dot still exist underneath, but we cannot see it because of the order in which we created our objects."
   ]
  },
  {
   "cell_type": "markdown",
   "id": "a54a4a7c-70c3-4742-adb4-66cbb8147b32",
   "metadata": {},
   "source": [
    ":::{admonition} 🦁More on Rendering Order\n",
    ":class: hint\n",
    "As with most things in science, there are always exceptions. There are some slight caveats to what we went over here. To read more about the technicality of layering, checkout the [zorder matplotlib demo](https://matplotlib.org/stable/gallery/misc/zorder_demo.html)."
   ]
  },
  {
   "cell_type": "markdown",
   "id": "d4b3f613-fefd-4d59-b184-55124bf846bc",
   "metadata": {},
   "source": [
    "# 👩🏾‍💻 Application Interfaces (API) in `matplotlib`\n",
    "An application interface is a set of protocols that enable different components to communicate. <br>In `matplotlib`, we actually have 2 options for this:\n",
    "1. *Implicit pyplot interface* - uses `plt.plot()` to change the plot.\n",
    "<br>--> This is often less code and easier to approach.\n",
    "2. *Explicit axes (object-oriented) interface* - changes are made by manipulating the figure and axes directly with `fig` and `ax`.\n",
    "<br> --> This is often more code, more complex, but gives you more artistic freedom!"
   ]
  },
  {
   "cell_type": "markdown",
   "id": "b314a1d9-668e-4644-92bb-71b49a1af3f5",
   "metadata": {},
   "source": [
    ":::{admonition} More on APIs\n",
    ":class: hint\n",
    "For more information on the difference between APIs, check out [this website](https://matplotlib.org/stable/users/explain/figure/api_interfaces.html#api-interfaces)."
   ]
  },
  {
   "cell_type": "markdown",
   "id": "79fb7992-d2ec-48e6-9884-23e4db5f7f27",
   "metadata": {},
   "source": [
    "## 🛖 **Method 1** The `pyplot` API"
   ]
  },
  {
   "cell_type": "markdown",
   "id": "3f80aafc-8113-4163-b899-18a1e787b3eb",
   "metadata": {},
   "source": [
    "The `plt.plot()` method is a one-line command to make a plot.\n",
    "<br>The format is:\n",
    "```\n",
    "plt.plot(x, y)\n",
    "```\n",
    "Where `x` and `y` are arrays of data that you want on each the `x`(horizontal) and `y`(vertical)."
   ]
  },
  {
   "cell_type": "markdown",
   "id": "59e4511b-1118-4cf5-ab5e-716fa13e7075",
   "metadata": {},
   "source": [
    "### 🌏To our Real Data\n",
    "We already have our data opened, let's view it again."
   ]
  },
  {
   "cell_type": "code",
   "execution_count": null,
   "id": "a691798d-ae85-47da-9c21-f0457af9a107",
   "metadata": {},
   "outputs": [],
   "source": [
    "df"
   ]
  },
  {
   "cell_type": "markdown",
   "id": "b7a63fc2-638a-494e-982f-eb2aa6111872",
   "metadata": {},
   "source": [
    "We are going to use the `pyplot` method to create some figures. Let try to build off of our time series of temperature we viewed earlier with pandas tools, but this time, with `matplotlib`."
   ]
  },
  {
   "cell_type": "code",
   "execution_count": null,
   "id": "8b886e32-54dd-4e11-95d8-fb35d0795a76",
   "metadata": {},
   "outputs": [],
   "source": [
    "# STEP 1 - Organize data\n",
    "\n",
    "#Let's name our x and y data we want to plot\n",
    "x = df['Time (UTC)']\n",
    "y = df['Temperature']"
   ]
  },
  {
   "cell_type": "code",
   "execution_count": null,
   "id": "46203197-1a20-47b9-a620-4f2163ada65c",
   "metadata": {},
   "outputs": [],
   "source": [
    "# STEP 2 - Make our Graph\n",
    "plt.plot(x, y)"
   ]
  },
  {
   "cell_type": "markdown",
   "id": "4d933c3d-9c3e-4135-94dc-c13524a85dd1",
   "metadata": {},
   "source": [
    "Even though we didn’t explicitly create a figure, axes, axis, line, axis labels, or tick marks they were all created together with `plt.plot()`. If we want to change something about any of those elements or add elements that don’t exist right now we do that by using *methods* on the plt object.\n",
    "\n",
    ":::{admonition} More on `pyplot` Method\n",
    ":class: hint\n",
    "Check out the [pyplot documentation](https://matplotlib.org/stable/api/pyplot_summary.html) to learn more!"
   ]
  },
  {
   "cell_type": "markdown",
   "id": "10427dc3-3dc8-493c-810a-f1deca6ee9f3",
   "metadata": {},
   "source": [
    "Let's add some labels and narrow in our plot a little more."
   ]
  },
  {
   "cell_type": "code",
   "execution_count": null,
   "id": "cdae5920-ae84-4a19-b559-08a248cb9fb9",
   "metadata": {},
   "outputs": [],
   "source": [
    "#Creates the plot from the given data\n",
    "plt.plot(x, y)\n",
    "\n",
    "# Sets the x axis scale -- Looking only at spring months\n",
    "plt.xlim(dt.date(2019, 3, 1), dt.date(2019, 6, 1))\n",
    "\n",
    "# Sets the y axis scale\n",
    "plt.ylim(10,20)\n",
    "\n",
    "# Adds a title for the plot\n",
    "plt.title('Spring Temperature Timeseries')  # adding a title\n",
    "\n",
    "# Adds an x-axis label\n",
    "plt.xlabel('Date')\n",
    "\n",
    "# Adds a y-axis label\n",
    "plt.ylabel('Temperature')  # adding a label on the y axis"
   ]
  },
  {
   "cell_type": "markdown",
   "id": "ad5eb61a-9964-45a2-bb27-e0b5bd8e5e56",
   "metadata": {},
   "source": [
    "We just explored some methods like `.xlim()` and `.ylim()`, `.title()`, and `.xlabel()` and `.ylabel()`. \n",
    "\n",
    "We can explore a few more below:"
   ]
  },
  {
   "cell_type": "code",
   "execution_count": null,
   "id": "2ab9b969-8304-4985-b062-56fccd6d2253",
   "metadata": {},
   "outputs": [],
   "source": [
    "# Changes the size of the figure\n",
    "plt.rcParams[\"figure.figsize\"] = (15,3) "
   ]
  },
  {
   "cell_type": "code",
   "execution_count": null,
   "id": "5422f989-1c33-466b-b02d-4b566f06df0a",
   "metadata": {},
   "outputs": [],
   "source": [
    "# Changes our marker to an x\n",
    "plt.plot(x, y, 'x')"
   ]
  },
  {
   "cell_type": "code",
   "execution_count": null,
   "id": "15b85e80-6f52-4b50-a443-fccc379a4f1a",
   "metadata": {},
   "outputs": [],
   "source": [
    "# Creates a bar plot rather than a typical line plot\n",
    "plt.bar(x,y)"
   ]
  },
  {
   "cell_type": "markdown",
   "id": "4dd6cf57-2ee2-4ab5-a719-ec878851cbd2",
   "metadata": {},
   "source": [
    "There are countless methods to manipulate plots.\n",
    "\n",
    ":::{admonition} More Examples for `pyplot`\n",
    ":class: hint\n",
    "Scroll to the bottom of [this page](https://matplotlib.org/stable/api/_as_gen/matplotlib.pyplot.plot.html) for some sick examples using `pyplot`!\n",
    ":::"
   ]
  },
  {
   "cell_type": "markdown",
   "id": "cb636566-7a36-4513-a23d-43479bc00ec2",
   "metadata": {},
   "source": [
    "## 🏘️ **Method 2** Object-Oriented API\n",
    "This method is more complex, with broader functionality.\n",
    "\n",
    "The biggest difference is that, in order to do anything with our `fig` or `ax`, we need to use the command to create the figures and axes objects.\n",
    "\n",
    "It is important to keep track of the class of our objects. \n",
    ":::{admonition} Tip for Object-Oriented Plotting\n",
    ":class: note\n",
    "Use `.__class__` to check the classification of your objects. This is similar to the `type()` function we have been using."
   ]
  },
  {
   "cell_type": "code",
   "execution_count": null,
   "id": "79ee5746-77f9-4c5f-a835-9144e15ff58a",
   "metadata": {},
   "outputs": [],
   "source": [
    "#Let's create our figure and axes\n",
    "fig, ax  = plt.subplots()"
   ]
  },
  {
   "cell_type": "code",
   "execution_count": null,
   "id": "471d235f-bc60-4d9f-97ba-7c351bac1a15",
   "metadata": {},
   "outputs": [],
   "source": [
    "# View the class of our figure and axes\n",
    "print(fig.__class__)\n",
    "print(ax.__class__)"
   ]
  },
  {
   "cell_type": "code",
   "execution_count": null,
   "id": "0dbf9a84-8a76-4a1f-9aac-aba3983b4a6b",
   "metadata": {},
   "outputs": [],
   "source": [
    "# NOTE -- You can name your figure and axes ANYTHING you want, they are just variable names\n",
    "hi, bye = plt.subplots()\n",
    "\n",
    "# And python will still know the class\n",
    "print('hi is a ', hi.__class__)\n",
    "print('bye is a ', bye.__class__)"
   ]
  },
  {
   "cell_type": "markdown",
   "id": "b2ffb395-20ae-4c4b-a761-897db94371b5",
   "metadata": {},
   "source": [
    "#### 🌏 To our Real Data\n",
    "Let's view the same data we have been working with."
   ]
  },
  {
   "cell_type": "code",
   "execution_count": null,
   "id": "cdb46d80-e389-4e39-b506-c24dc56c73f1",
   "metadata": {},
   "outputs": [],
   "source": [
    "#Open up our figure\n",
    "fig, ax = plt.subplots()\n",
    "\n",
    "#Give our axes data to plot -- Note we use ax.plot() instead of plt.plot()\n",
    "ax.plot(x, y) \n",
    "\n",
    "#Gives our axes a title\n",
    "ax.set_title('Temperature')"
   ]
  },
  {
   "cell_type": "markdown",
   "id": "0dc4d810-7708-4b53-9a91-1d69ec9f7e1b",
   "metadata": {},
   "source": [
    "And we seemed to have arrived at the same spot as we have in our two previous methods. So why go through the extra work for this????"
   ]
  },
  {
   "cell_type": "code",
   "execution_count": null,
   "id": "27c7d834-4476-4b61-819d-90c1bec273f0",
   "metadata": {
    "scrolled": true
   },
   "outputs": [],
   "source": [
    "#Creates one figure with two subplots with different axes\n",
    "fig, (ax1, ax2) = plt.subplots(1, 2)\n",
    "        #We define two sets of axes, and tell it we want 1 row and 2 columns of plots\n",
    "\n",
    "#Sets size of the figure\n",
    "fig.set_size_inches(15, 5)\n",
    "\n",
    "#Creates plot from data for the first subplot\n",
    "ax1.scatter(x, y)\n",
    "#Creates title and labels for the first set of axes\n",
    "ax1.set_xlabel('Time')\n",
    "ax1.set_ylabel('Temperature')\n",
    "ax1.set_title('Scatter of Temperature Time Series')\n",
    "\n",
    "#Creates plot from data for the second subplot\n",
    "ax2.plot(x, y)\n",
    "#Creates a title for the second set of axes\n",
    "ax2.set_xlabel('Time')\n",
    "ax2.set_ylabel('Temperature')\n",
    "ax2.set_title('Line Plot of Temperature Time Series')\n",
    "\n",
    "#We can also give our figure a title\n",
    "fig.suptitle('Two plots at once!!')"
   ]
  },
  {
   "cell_type": "markdown",
   "id": "0a20d8fd-5207-4f08-8d39-4930f2594e01",
   "metadata": {},
   "source": [
    "It may be more work to do the basic plot, but you are able to add much more past the basics. "
   ]
  },
  {
   "cell_type": "markdown",
   "id": "1456dd2e-4f39-49ea-8460-299ebd3a7081",
   "metadata": {},
   "source": [
    ":::{admonition} Examples using OOP subplots\n",
    ":class: hint\n",
    "Scroll to the bottom of [this page](https://matplotlib.org/stable/api/_as_gen/matplotlib.pyplot.subplots.html) for examples!"
   ]
  },
  {
   "cell_type": "markdown",
   "id": "890cd18e-15c8-49cd-b760-8fd82f4ca93b",
   "metadata": {},
   "source": [
    ":::{admonition} 3D Plots\n",
    ":class: hint\n",
    "Check out [this page](https://matplotlib.org/stable/api/toolkits/mplot3d.html) for how to make 3-dimensional plots using matplotlib object-oriented approach!"
   ]
  },
  {
   "cell_type": "markdown",
   "id": "c646b1fe-904a-40c0-8aeb-ac9916478304",
   "metadata": {},
   "source": [
    ":::{admonition} More! and More! and More!\n",
    ":class: hint\n",
    "Scroll through the topics on the left hand side of [THIS WEBSITE](https://matplotlib.org/stable/api/matplotlib_configuration_api.html) to browse all the capablities of matplotlib."
   ]
  },
  {
   "attachments": {},
   "cell_type": "markdown",
   "id": "fe007505-61d2-4eb9-811d-5f0dad8f28f4",
   "metadata": {},
   "source": [
    "## 🇬 Googling\n",
    "Google will be your friend with this. Knowing what words to use in google is important, so here is a breakdown of some common verbage to use when referring to different parts of the plot.\n",
    "\n",
    "<img src='https://files.realpython.com/media/anatomy.7d033ebbfbc8.png'>"
   ]
  },
  {
   "cell_type": "markdown",
   "id": "52fb2837-bd8e-44cd-a868-b4b97ba3e0cc",
   "metadata": {},
   "source": [
    "# 😟😿 Which Approach do I take?!?!?!\n",
    "* For getting a general sense of your data after you've opened it, use the trusty `.plot()`\n",
    "After you have your data and analysis:\n",
    "1. Google an example of the type of plot you are trying to make, and follow that method.\n",
    "2. Start with `pyplot` (using `plt.plot()`) since it is simpler, and switch to object-oriented if necessary.\n",
    "   <br>--> Switching methods may cause more work.\n",
    "4. Start with object-oriented (`plt.subplots()`) so you never have to change methods\n",
    "   <br>--> If you only need simple plots, you may do more work than necessary (but practice is always good!)"
   ]
  },
  {
   "cell_type": "markdown",
   "id": "b9431e25-f2b6-4c91-8dbd-72878bb888a3",
   "metadata": {},
   "source": [
    "# Static vs Interactive Visualization\n",
    ":::{admonition} Interactive Visualization\n",
    ":class: note\n",
    "`matplotlib` is mainly for static visualization. Everything I walked you through today is for *static* visualization, meaning you give your computer data to create an output that is a single image. You might choose to make many images and flash them together to simulate movement, but ultimately, each graph is static itself.\n",
    "\n",
    "Some of you may want to explore interactive visualization, which are visuals in which you can click and move around in the output. If you are interested in this, check out this introduction to the [bokeh library](https://www.geeksforgeeks.org/python-bokeh-tutorial-interactive-data-visualization-with-bokeh/).\n"
   ]
  },
  {
   "cell_type": "markdown",
   "id": "97388da0-f2e7-445a-bb98-4be53aa817b7",
   "metadata": {
    "editable": true,
    "slideshow": {
     "slide_type": ""
    },
    "tags": []
   },
   "source": [
    "# 🏁 Wrap-up\n",
    "I did not provide you all any practice problems because you all have data to practice with! If you are struggling applying these concepts to your project data, experiment with the pandas Dataframe we used in this lesson to help solidify the concepts!\n",
    "\n",
    "## **ENJOY YOUR DAY!!!**"
   ]
  }
 ],
 "metadata": {
  "kernelspec": {
   "display_name": "Python 3 (ipykernel)",
   "language": "python",
   "name": "python3"
  },
  "language_info": {
   "codemirror_mode": {
    "name": "ipython",
    "version": 3
   },
   "file_extension": ".py",
   "mimetype": "text/x-python",
   "name": "python",
   "nbconvert_exporter": "python",
   "pygments_lexer": "ipython3",
   "version": "3.11.9"
  }
 },
 "nbformat": 4,
 "nbformat_minor": 5
}
