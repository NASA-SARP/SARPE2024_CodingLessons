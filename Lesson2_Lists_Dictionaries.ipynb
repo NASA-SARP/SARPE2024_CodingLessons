{
 "cells": [
  {
   "cell_type": "markdown",
   "id": "f6538252-9fcc-41d0-b579-25a05609e1ea",
   "metadata": {
    "editable": true,
    "slideshow": {
     "slide_type": ""
    },
    "tags": []
   },
   "source": [
    "# SARP-East Coding Lesson 2\n",
    "02 July 2024\n",
    "<br>Riley McCue\n",
    "<br><br>\n",
    "## 🔥 *The mind is not a vessel to be filled, but a fire to be kindled.* 🔥\n",
    "<br><br>This lesson is based off of one on the [SARP Programming Website](https://nasa-sarp.github.io/sarp_lessons/index.html)\n",
    "<br> -->Lessons -->General Python -->Lists and Dictionaries\n",
    "<br><br>For extra practice after this lesson, see \n",
    "<br>-->Practice -->General Python Practice -->Lists and Dictionaries Practice AND -->Lists and Dictionaries Answers"
   ]
  },
  {
   "cell_type": "markdown",
   "id": "214f4041-4076-4739-a802-6c6d38188b99",
   "metadata": {},
   "source": [
    ":::{admonition} 🧠 Recap of Yesterday\n",
    ":class: tip\n",
    "1. What are the four types of data in Python?\n",
    "2. Why is data type important?\n",
    "3. When we get an error, where do we start reading it?\n",
    "\n",
    ":::{admonition} 🙋🏻‍♀️Answers\n",
    ":class: note, dropdown\n",
    "1. The four data types are:\n",
    "```\n",
    "Strings - text\n",
    "Integers - whole numbers\n",
    "Floats - decimal numbers\n",
    "Booleans - True/False\n",
    "```\n",
    "Tip: to check the data type of a variable, use the command `type()`\n",
    "<br>To change the data types of variables, you can use the following commands:\n",
    "```\n",
    "str()\n",
    "int()\n",
    "float()\n",
    "bool()\n",
    "```\n",
    "<br>2. Data type gives the computer more information on what a value is, and what it can do with it. \n",
    "<br>3. We read from the bottom up! The type of error is given on the last line of the error message. "
   ]
  },
  {
   "cell_type": "markdown",
   "id": "fb79c56d-68d9-4c56-950d-11be0dc6e0c7",
   "metadata": {},
   "source": [
    "**A Common Naming Convention** \n",
    "<br>To help keep track of *data types*, you can use a naming convention in which the name of the variable begins with `type_variablename`. We can simplify by using only the firsts letter of the data type.\n",
    "<br> s_age = '23' --> string\n",
    "<br> i_age = 23 --> integer\n",
    "<br> f_age = 23.0 --> float"
   ]
  },
  {
   "cell_type": "markdown",
   "id": "730b835f-c6ae-4aff-b2d0-7bc8165aee0a",
   "metadata": {},
   "source": [
    "## ⛩️ *Context: Data Types 🛬 Data Structures*\n",
    "Data types are the first level of building blocks in code. Using data types we can build increasingly more complex objects which we call **data structures**. \n",
    ":::{admonition} 🔠Coding Vocabulary\n",
    ":class: warning\n",
    "**Data Structures** - composed of types of data, organized differently based on structure; a way in which we begin to organize data.\n",
    ":::\n",
    "Today, we are learning about two data structures:\n",
    "<br> 1. Lists\n",
    "<br> 2. Dictionaries"
   ]
  },
  {
   "cell_type": "markdown",
   "id": "6a71b0eb-37cf-46db-becb-110d770991a5",
   "metadata": {},
   "source": [
    "## 📋Lists\n",
    ":::{admonition} 🔠 Coding Vocabulary\n",
    ":class: warning\n",
    "**Lists** - data structure representing a group of values.\n",
    "<br> *Syntax:* square brackets [] surrounding data separated by commas , .\n",
    ":::\n",
    "List can contain any data type, and have the following format.<br>\n",
    ">`name_of_list = [object 1, object 2, object 3, .... object infinity]`\n",
    "\n",
    "Notice how we can assign a list a name with the assignment operator `=`. Let's look at some examples:"
   ]
  },
  {
   "cell_type": "code",
   "execution_count": null,
   "id": "9b02aa5e-2d29-4f3e-89f5-413b7ac2dcce",
   "metadata": {},
   "outputs": [],
   "source": [
    "#A list of strings.\n",
    "l_strings = ['a', 'b', 'c', 'd', 'e']\n",
    "\n",
    "#A list of integers.\n",
    "l_integers = [1, 2, 3, 4, 5, 6]\n",
    "\n",
    "#A list of floats.\n",
    "l_floats = [1.0, 1.1, 1.2, 1.3, 1.4, 1.5]\n",
    "\n",
    "#A list of booleans.\n",
    "l_booleans = [True, True, False, True, False, False]\n",
    "\n",
    "#A list of everything!\n",
    "l_random = [6, False, 'artic', True, 9.9, 0]"
   ]
  },
  {
   "cell_type": "markdown",
   "id": "a8b3f661-dc51-49ec-964f-494a01306b78",
   "metadata": {},
   "source": [
    "Notice the naming convention I chose. To tell myself the variable is a list, I began each name with `l_`, similar to the convention we used for data types. Yes, sometimes this naming convention can make things look a bit messier, but in the long run, using it whenever possible can really help you keep a better grasps on what is happening in your code."
   ]
  },
  {
   "cell_type": "markdown",
   "id": "78adf704-f3eb-4670-bb10-61953a68d9f9",
   "metadata": {},
   "source": [
    "### 🧮Indexing Lists\n",
    ":::{admonition} 🔠Coding Vocabulary\n",
    ":class: warning\n",
    "**Index** - a number which represents the position of an item in a data structure. \n",
    "<br> **Indexing** as a verb refers to getting the value of an item using its index.\n",
    "<br>*Syntax:* name_of_list[position]\n",
    ":::\n",
    "```\n",
    "l_colors = ['red', 'orange', 'yellow', 'green', 'blue', 'purple']\n",
    "    Index --> 0        1         2        3        4        5\n",
    "```\n",
    "Indexes allow us to access individual items in a list.\n",
    "<br>Note: Throughout the entire Python language, indexing starts at 0."
   ]
  },
  {
   "cell_type": "code",
   "execution_count": null,
   "id": "93d8eb91-881a-464d-8194-1a0c5277abc4",
   "metadata": {},
   "outputs": [],
   "source": [
    "#What number is in index 3 of l_integers?\n",
    "l_integers = [1, 2, 3, 4, 5, 6]\n",
    "l_integers[3]"
   ]
  },
  {
   "cell_type": "code",
   "execution_count": null,
   "id": "27dc9bed-0f98-4249-8a78-85205b9134ea",
   "metadata": {},
   "outputs": [],
   "source": [
    "#What are the first three items in the list l_random?\n",
    "l_random[0:3]"
   ]
  },
  {
   "cell_type": "markdown",
   "id": "d5fcfdc4-4143-43a6-b860-978f2fb8c619",
   "metadata": {},
   "source": [
    "The *syntax* for finding consecutive items in a list is \n",
    ">`l_name[start:end+1]`.\n",
    "\n",
    "The last index value is not included, so if you want the first three items, you need to call to the fourth item, as we did above.\n",
    "<br> It may feel a bit weird that you must include `end+1`, but a trick:\n",
    ">Subtract your `end` from your `start` to get the total number of items in your list."
   ]
  },
  {
   "cell_type": "markdown",
   "id": "8a3b3176-8c77-4ad5-9bbd-f3938429ca68",
   "metadata": {},
   "source": [
    ":::{admonition} 🧬Patterns\n",
    ":class: note\n",
    "The way we index lists in Python is fairly universal in the language. \n",
    "<br> *Syntax* is `[number]` or `[number_start:number_end]`"
   ]
  },
  {
   "cell_type": "markdown",
   "id": "f7d9ef21-b5e7-4414-9806-36ce6e97112d",
   "metadata": {},
   "source": [
    "To learn more about indexes, checkout [this article](https://railsware.com/blog/indexing-and-slicing-for-lists-tuples-strings-sequential-types/) by Railware."
   ]
  },
  {
   "cell_type": "markdown",
   "id": "7202c47a-ead2-4fd7-a739-ffa82a73f5e2",
   "metadata": {},
   "source": [
    "## 🏋🏽‍♀️*Functions and Methods -- Doing things to Lists*\n",
    "So we have variables that we have organized into data types and then data structures, but how do we make changes to them? \n",
    "<br><br> In comparision to the English language: Data Structures are nouns and **Functions** and **Methods** are verbs -- they act on nouns.\n",
    "<br><br> Note: Functions and Methods are different, but for our purposes right now, they are the same.\n",
    "\n",
    ":::{admonition} 🔠Coding Vocabulary\n",
    ":class: warning\n",
    "**Function/Method** - action you use to manipulate or inspect an object or data structure.\n"
   ]
  },
  {
   "cell_type": "markdown",
   "id": "8b02857e-58af-4ed7-ab2d-4e0201760016",
   "metadata": {},
   "source": [
    ":::{admonition} 🤔What are some actions you could potentially want to do on a list?\n",
    ":class: hint\n",
    "1. See how many items are in your list\n",
    "2. Add an item to your list\n",
    "3. Delete an item from your list\n",
    "4. Reassign a value"
   ]
  },
  {
   "cell_type": "markdown",
   "id": "dac7e895-b3e0-4e76-8b38-34a3d32e23a2",
   "metadata": {},
   "source": [
    "### 📏Length *len()*\n",
    "The `len()` function outputs the number of items in a list -- it gives the length."
   ]
  },
  {
   "cell_type": "code",
   "execution_count": null,
   "id": "d8b9151d-904a-46b6-8855-85a1ef6d3310",
   "metadata": {},
   "outputs": [],
   "source": [
    "#Find the length of the following list.\n",
    "l_pollutants = ['co', 'co2', 'ch4', 'no2', 'o3', 'so2']\n",
    "len(l_pollutants)"
   ]
  },
  {
   "cell_type": "markdown",
   "id": "9e73bcb1-acb8-4836-aa0e-9caf22a436a6",
   "metadata": {},
   "source": [
    "### ➕Add a new value *.append()*\n",
    "If you want to add a new value to your list, we can use the method `.append()`. This method adds the new value to the end."
   ]
  },
  {
   "cell_type": "code",
   "execution_count": null,
   "id": "7446b7ae-bcef-4c55-89fb-46d131e0e730",
   "metadata": {},
   "outputs": [],
   "source": [
    "#Let's begin with our list of pollutants\n",
    "l_pollutants = ['co', 'co2', 'ch4', 'no2', 'o3', 'so2']\n",
    "#We also found some VOCs in the air, let's add 'voc' to the list.\n",
    "l_pollutants.append('voc')\n",
    "#Let's print the list to be sure it added the item.\n",
    "print(l_pollutants)"
   ]
  },
  {
   "cell_type": "markdown",
   "id": "e96c611b-770e-4b64-8489-b92f119b78e7",
   "metadata": {},
   "source": [
    "What we give to the function/method is called an **arguement**. In this case, the arguement we gave `.append()` was `'voc'`.\n",
    ":::{admonition} 🔠Coding Vocabulary\n",
    ":class: warning\n",
    "**Argument** - the input to a function/method"
   ]
  },
  {
   "cell_type": "markdown",
   "id": "e8b46f07-fe4f-47e7-b5e3-f338facb8c88",
   "metadata": {},
   "source": [
    ":::{admonition} 🧬Patterns\n",
    ":class: note\n",
    "The way functions/methods are named and applied in Python follows a common trend of `shortname(object)`. We see this in the example of `len()`."
   ]
  },
  {
   "cell_type": "markdown",
   "id": "9db556ae-0c49-4779-b4f8-27c6defef36b",
   "metadata": {},
   "source": [
    "### 🪙Changing an Item in a List\n",
    "To change an item in a list, there is no specific function. We can do this by simply reassinging the index with the new variable with the assignment operator `=`. \n",
    "```\n",
    "l_name[desired_index#] = new_value\n",
    "```"
   ]
  },
  {
   "cell_type": "code",
   "execution_count": null,
   "id": "769c6f99-695f-48e6-a903-0cfeaa722be7",
   "metadata": {},
   "outputs": [],
   "source": [
    "#Let's look at an example. Consider the list pollutants from before.\n",
    "l_pollutants = ['co', 'co2', 'ch4', 'no2', 'o3', 'so2', 'voc']\n",
    "#Let's change 'ch4' to 'methane'.\n",
    "l_pollutants[2] = 'methane'\n",
    "#Let's see if the change worked as desired.\n",
    "l_pollutants"
   ]
  },
  {
   "cell_type": "markdown",
   "id": "c314bd4e-e803-4b86-a1f8-6e46b4844ea3",
   "metadata": {},
   "source": [
    ":::{admonition} ✍🏽Check your Understanding\n",
    ":class: tip\n",
    "**Level 1** \n",
    "<br> 1)Which of the following is the correct syntax for creating a list of co2 concentrations?\n",
    ">a. `l_co2 = [10.4, 12.0, 14.1, 13.7, 999, 999, 999]`\n",
    "><br>b. `l_co2 10.4, 12.0, 14.1, 13.7, 999, 999, 999]`\n",
    "><br>c. `l_co2(10.4, 12.0, 14.1, 13.7, 999, 999, 999)`\n",
    "><br>d. all of the above are correct\n",
    "\n",
    "2)What is the index of the value 10.4 in `l_co2`?\n",
    "<br>\n",
    "**Level 2**\n",
    "<br>3)Add the value 14.0 to the list of co2 concentrations.\n",
    "<br>\n",
    "**Level 3**\n",
    "<br>4)Create a new list of only the invalid data points (999) from the l_co2.\n",
    "<br> \n",
    "**Level 4**\n",
    "<br>5)Create a list of the names of different air pollutants. "
   ]
  },
  {
   "cell_type": "code",
   "execution_count": null,
   "id": "c8b74e79-a87e-4a74-99c4-b938c1950958",
   "metadata": {},
   "outputs": [],
   "source": [
    "#1"
   ]
  },
  {
   "cell_type": "code",
   "execution_count": null,
   "id": "1716e2e1-c6a3-48da-bb0e-89de3793ab6f",
   "metadata": {},
   "outputs": [],
   "source": [
    "#2"
   ]
  },
  {
   "cell_type": "code",
   "execution_count": null,
   "id": "aa596220-8503-4666-992e-c465cb281a4b",
   "metadata": {},
   "outputs": [],
   "source": [
    "#3"
   ]
  },
  {
   "cell_type": "code",
   "execution_count": null,
   "id": "29f544a3-9e58-43f9-a9c2-212d989f5b4e",
   "metadata": {},
   "outputs": [],
   "source": [
    "#4"
   ]
  },
  {
   "cell_type": "code",
   "execution_count": null,
   "id": "9524a8bd-33c9-4473-89ed-8552e9b25e53",
   "metadata": {},
   "outputs": [],
   "source": [
    "#5"
   ]
  },
  {
   "cell_type": "markdown",
   "id": "2c6cd99d-c6a9-4b98-bbf3-bc0e4200c4c0",
   "metadata": {},
   "source": [
    ":::{admonition} 🙋🏻‍♀️Answers\n",
    ":class: note, dropdown\n",
    "1. a\n",
    "2. 0\n",
    "3. `l_co2.append(14.0)`\n",
    "4. `l_co2_invalid = l_co2[4:7]`\n",
    "5. *One possible example-* `l_pollutants = ['co2', 'no2', 'ch4', 'so2']`"
   ]
  },
  {
   "cell_type": "markdown",
   "id": "318dee6e-817a-44ae-89a3-6953ebab79dd",
   "metadata": {},
   "source": [
    "To learn more about functions, and the most common ones, check out [this link](https://docs.python.org/3/library/functions.html)\n",
    "<br> To learn more about lists and lists methods, check out [this link](https://www.w3schools.com/python/python_lists_methods.asp) "
   ]
  },
  {
   "cell_type": "markdown",
   "id": "406b1e49-90c2-4c5b-9602-2f7eabeb5c72",
   "metadata": {},
   "source": [
    "## 📕 *Dictionaries*\n",
    "**Dictionaries** are the second data structure we will be exploring today. They are one-step more complex than lists. Each **value** in a dictionary is given a name called a **key**, rather than an index. In comparison to an English dictionary: Keys are the words and values are the defintions. Each item in a dictionary is called a **key-value pair**, and are separated by commas.\n",
    "<br><br>*Keys* can be any of the four basic types: strings, integers, floats, or booleans. They are unique and a dictionary cannot have two of the same key. If you attempt to add a key that already exists to a dictionary, you will rewrite over the original.\n",
    "<br>*Values* can be any sort of data type or structure we have explored: strings, integers, floats, booleans, lists, or even another dictionary! Values can be repeated.\n",
    "\n",
    ":::{admonition} 🔠Coding Vocabulary\n",
    ":class: warning\n",
    "**Dictionary** - data structures that represent a group of values that have names called keys\n",
    ":::\n",
    "\n",
    ":::{admonition} 🔠Coding Vocabulary\n",
    ":class: warning\n",
    "**Key** - the first object in each key-value pair --> the words in an English dictionary\n",
    "<br> **Value** - the second object in a key-value pair --> the definitions in a dictionary\n",
    "<br> *Syntax* \n",
    "```\n",
    "d_name = {\n",
    "    key1:value1,\n",
    "    key2:value2,\n",
    "    key3:value3}\n",
    "```"
   ]
  },
  {
   "cell_type": "markdown",
   "id": "3fa535e5-5007-44aa-b385-0e5746b7a1ce",
   "metadata": {},
   "source": [
    "Here is a visual of what I mean by this. <br>\n",
    "\n",
    "![Dictionaries](https://www.learnbyexample.org/wp-content/uploads/python/Dictionary-Key-Value-Pairs-Illustration.png)\n",
    "\n",
    "<br> In code, this would look like:"
   ]
  },
  {
   "cell_type": "code",
   "execution_count": null,
   "id": "9a5ccea6-12b0-4832-a253-42dd90318ffc",
   "metadata": {},
   "outputs": [],
   "source": [
    "d_name = {\n",
    "    'name': 'Bob',\n",
    "    'age': 25,\n",
    "    'job': 'Dev',\n",
    "    'city': 'New York',\n",
    "    'email': 'bob@web.com'}"
   ]
  },
  {
   "cell_type": "markdown",
   "id": "16a1528f-0f7d-4748-baad-7dd76aec7ef4",
   "metadata": {},
   "source": [
    "Note: You can write dictionaries all in one line, but this is customarily the format coders have come to display them in. "
   ]
  },
  {
   "cell_type": "markdown",
   "id": "a97f7bf6-91a1-4432-8107-00ac7806c454",
   "metadata": {},
   "source": [
    "### 🔍*Inspecting a Dictionary*\n",
    "We can use the method `.keys()` to view a list of all the keys in a dictionary. Similarily, we can use the method `.values()` to view a list of all the values in a dictionary.\n",
    "> `d_name.keys()`\n",
    "> <br> `d_name.values()`\n",
    "\n",
    "We can view a particular value of a dictionary by using square brackets and its key.\n",
    "> `d_name['key']`\n",
    "\n",
    "<br> Let's take a look."
   ]
  },
  {
   "cell_type": "code",
   "execution_count": null,
   "id": "0c2434bf-59cb-4ba3-9b47-b93a7d0adf71",
   "metadata": {},
   "outputs": [],
   "source": [
    "#First, create a dictionary.\n",
    "d_metadata = {\n",
    "    'location': 'Newport News, VA', \n",
    "    'quality_flag': 5, \n",
    "    'zenith': 60, \n",
    "    'clouds': True,\n",
    "    'data_center': ['LPDAAC', 'ASDC']}\n",
    "    #Metadata is information about a particular dataset. It contains important parameters on how, when, and where the data was taken."
   ]
  },
  {
   "cell_type": "code",
   "execution_count": null,
   "id": "291bab45-baa0-41b6-8a97-fb58ea34e53f",
   "metadata": {},
   "outputs": [],
   "source": [
    "#Let's view all of the keys.\n",
    "d_metadata.keys()"
   ]
  },
  {
   "cell_type": "code",
   "execution_count": null,
   "id": "3826c194-d5eb-4e55-89b7-7d750dcc162f",
   "metadata": {},
   "outputs": [],
   "source": [
    "#And all the values.\n",
    "d_metadata.values()"
   ]
  },
  {
   "cell_type": "code",
   "execution_count": null,
   "id": "f9b267fd-f9be-4bed-9a2f-f53821122729",
   "metadata": {
    "editable": true,
    "slideshow": {
     "slide_type": ""
    },
    "tags": []
   },
   "outputs": [],
   "source": [
    "#Let's see what data centers this data was taken at.\n",
    "d_metadata['data_center']"
   ]
  },
  {
   "cell_type": "markdown",
   "id": "caecb3af-b2fe-4650-b029-4bf1b606d6bd",
   "metadata": {
    "editable": true,
    "slideshow": {
     "slide_type": ""
    },
    "tags": []
   },
   "source": [
    "### 🛠️*Updating a Dictionary*\n",
    "In addition to inspecting items in a dictionary, we can also change their items.\n",
    "<br>To update a *value* in a dictionary, we call to its key and use the assignment operator `=`.\n",
    "<br> <br>*Syntax*\n",
    "> `d_name[key] = new_value`\n",
    "\n",
    "We can use this same syntax to add a new value to the dictionary. If the dictionary does not already contain the key, it will automatically create a new key-value pair.\n",
    "<br> Let's look at what this means in code."
   ]
  },
  {
   "cell_type": "code",
   "execution_count": null,
   "id": "4893643e-dad8-4598-8d8b-b1dbf0ded4bc",
   "metadata": {},
   "outputs": [],
   "source": [
    "#Let's print our dictionary to see what we have.\n",
    "print(d_metadata)"
   ]
  },
  {
   "cell_type": "code",
   "execution_count": null,
   "id": "7f897fa4-a15c-455b-8274-de8477ad3528",
   "metadata": {},
   "outputs": [],
   "source": [
    "#Oh no, our data was actually taken in Wallops Island, VA. Let's update this.\n",
    "d_metadata['location'] = 'Wallops Island, VA'"
   ]
  },
  {
   "cell_type": "code",
   "execution_count": null,
   "id": "440e2135-1ca4-4add-b3df-34226e09556b",
   "metadata": {
    "editable": true,
    "slideshow": {
     "slide_type": ""
    },
    "tags": []
   },
   "outputs": [],
   "source": [
    "#Let's see what file type our data was saved in.\n",
    "d_metadata['file_type']"
   ]
  },
  {
   "cell_type": "markdown",
   "id": "696fef60-6a33-47d9-bcae-69d68723fb15",
   "metadata": {
    "editable": true,
    "slideshow": {
     "slide_type": ""
    },
    "tags": []
   },
   "source": [
    ":::{admonition} ❤️‍🩹 KeyError\n",
    ":class: danger\n",
    "**KeyError** - the given key cannot be found in the dictionary.\n",
    "<br> *Tip:* Check spelling."
   ]
  },
  {
   "cell_type": "code",
   "execution_count": null,
   "id": "c5aba436-d681-4d30-ab1e-f739f5fabcb9",
   "metadata": {},
   "outputs": [],
   "source": [
    "#We forgot to include the file type! Silly us, let's add it.\n",
    "d_metadata['file_type'] = '.csv'"
   ]
  },
  {
   "cell_type": "code",
   "execution_count": null,
   "id": "d58b6708-66e1-440a-a4bf-b412fccd5803",
   "metadata": {
    "editable": true,
    "slideshow": {
     "slide_type": ""
    },
    "tags": []
   },
   "outputs": [],
   "source": [
    "#Let's print the dictionary again.\n",
    "print(d_metadata)"
   ]
  },
  {
   "cell_type": "markdown",
   "id": "dee501e0-9e05-4b26-bf8d-ee4396c7f814",
   "metadata": {},
   "source": [
    "Lists and Dictionaries are data structures. The type of structure you choose for your data determines how you work with your data and what you can do with it. Not all data is compatible with all data structures, so understanding different data structures is crucial to knowing which to choose. This is one reason a stronger coding foundation can make you a better scientific researcher!\n",
    "<br><br> When considering lists and dictionaries:\n",
    ">Lists are better for data where order matters.\n",
    "><br>Dictionaries are better for data where you need to be able to lookup certain values."
   ]
  },
  {
   "cell_type": "markdown",
   "id": "de7dddb5-48bf-4593-951d-a2fd99e211f3",
   "metadata": {},
   "source": [
    ":::{admonition} ✍🏽Check you Understanding\n",
    ":class: tip\n",
    "Consider the following dictionary:\n",
    "```\n",
    "d_precipitation ={\n",
    "    'rain': 202,\n",
    "    'snow': 37,\n",
    "    'hail': 15,\n",
    "    'none': 127}\n",
    "```\n",
    "**Level 1**\n",
    "<br>1. How many key-value pairs are there?\n",
    "<br>2. List the keys and list the values of the dictionary d_precipitation.\n",
    "<br>\n",
    "**Level 2**\n",
    "<br>3. Increase the number of days it hailed from 15 to 20.\n",
    "<br>4. Output a list of the values of d_precipitation. Save it as a list.\n",
    "<br>\n",
    "**Level 3**\n",
    "<br>5. Create a new dictionary of the 3 largest US cities and their respective states."
   ]
  },
  {
   "cell_type": "code",
   "execution_count": null,
   "id": "11f95ab6-cf0e-4bc5-a7f3-865cb57c980d",
   "metadata": {},
   "outputs": [],
   "source": [
    "#1"
   ]
  },
  {
   "cell_type": "code",
   "execution_count": null,
   "id": "ace35b9a-d813-4085-ab96-48ecf73730d3",
   "metadata": {},
   "outputs": [],
   "source": [
    "#2"
   ]
  },
  {
   "cell_type": "code",
   "execution_count": null,
   "id": "147a9013-b941-4172-9ed2-84a2af9dc700",
   "metadata": {},
   "outputs": [],
   "source": [
    "#3"
   ]
  },
  {
   "cell_type": "code",
   "execution_count": null,
   "id": "fba2b265-3d68-4445-acb3-85875461e3c0",
   "metadata": {},
   "outputs": [],
   "source": [
    "#4"
   ]
  },
  {
   "cell_type": "code",
   "execution_count": null,
   "id": "a6fa3e10-4369-4d0f-a1df-d7b986900f24",
   "metadata": {},
   "outputs": [],
   "source": [
    "#5"
   ]
  },
  {
   "cell_type": "markdown",
   "id": "22b8b574-69f4-4980-8806-60d696771b53",
   "metadata": {},
   "source": [
    ":::{admonition} 🙋🏻‍♀️Answers\n",
    ":class: note, dropdown\n",
    "**Level 1**\n",
    "<br>1. 4\n",
    "<br>2. Keys: 'rain', 'snow', 'hail', 'none'\n",
    "<br> Values: 202, 37, 15, 127\n",
    "<br>**Level 2**\n",
    "<br>3. `d_precipitation['hail'] = 15`\n",
    "<br>4. `l_values_prec = list(d_precipitation.keys())`\n",
    "<br>**Level 3**\n",
    "<br>5. \n",
    "```\n",
    "   d_cities = {\n",
    "   'New York City': 'New York',\n",
    "   'Los Angeles': 'California',\n",
    "   'Chicago': 'Illinois'}\n",
    "   ```"
   ]
  },
  {
   "cell_type": "markdown",
   "id": "67bc2563-f719-46e4-9738-6640bb36e151",
   "metadata": {},
   "source": [
    "If you did not #4, you may have gotten an **AttributeError** if you did not use the `list()` function.\n",
    "<br><br> I have not shown you all the `list()` command yet. This basically takes whatever is inside and turns it into a list (if the operation is possible).\n",
    "\n",
    ":::{admonition} ❤️‍🩹AttributeError\n",
    ":class: danger\n",
    "**AttributeError** - occurs when an object does not posses the necessary attributes to execute an assignment, reference, or operation.\n",
    "<br> *Tip* - Check the data type or structure of your variable with `type()`."
   ]
  },
  {
   "cell_type": "markdown",
   "id": "1748bf6d-4d51-4e51-bf0a-ddd738d2b6e8",
   "metadata": {},
   "source": [
    ":::{admonition} ✍🏽Check your Understanding\n",
    ":class: tip\n",
    "Decide whether you would use a list or dictionary in the following scenaries, and give a brief explanation as to why.\n",
    "1. A student's exam grades for a class.\n",
    "2. The temperatures in America's 10 major cities on one day.\n",
    "3. Populations of Latin American countries. \n",
    "4. The temperatures in America's 10 major cities everyday for a year.\n",
    "\n",
    ":::{admonition} Answer\n",
    ":class: dropdown\n",
    "1. List - this is fairly little information, and the grades are for just one student.\n",
    "2. I would use a list to structure this data if the identity of the city is not important. I would use a dictionary if you want to know how hot it was in each specific city.\n",
    "3. Similar to #2: I would use a list if I only care about the values of each country's population. If I want to be able to lookup the population of any specific country, I would use a dictionary to organize my data.\n",
    "4. Dictionary & List - I would use a dictionary as my \"outer\" structure, and I would use lists to structure my values. Essentially, I would create a dictionary with 10 key values, each being a major American city. The value for each key would be a list of length 364, and contain the temperature of each day in that city.\n",
    "```\n",
    "d_city_temps = {\n",
    "    'city1': l_temps1,\n",
    "    'city2': l_temps2,\n",
    "    ...\n",
    "    'city10': l_temps10}\n",
    "where l_temps# = [temp#Jan1, temp#Jan2, temp#Jan3, ...].\n",
    "```"
   ]
  },
  {
   "cell_type": "markdown",
   "id": "ec4eb29e-3714-4a63-a741-dce5854bab30",
   "metadata": {
    "editable": true,
    "slideshow": {
     "slide_type": ""
    },
    "tags": []
   },
   "source": [
    "# 🏁 Wrap-up: Think, Pair, Share!\n",
    "## Think!\n",
    "Take 3 minutes and review on your own what you learned, and write a summary. This can be in paragraph style, bullet points, drawings, whatever makes sense to you. Feel free to create a cell below (either a Markdown or a Code cell) and play around!\n",
    "## Pair!\n",
    "Take 4 minutes and discuss at your tables what you all learned today.\n",
    "## Share!\n",
    ":::{admonition} Riley's Version\n",
    ":class: note, dropdown\n",
    "1. You can go to the SARP website for extra practice problems on each lesson.\n",
    "2. Including the data type in naming the variable is a good habit.\n",
    "3. We organize our data into data structures. Some data structures are better for handling certain types of data.\n",
    "4. Lists and dictionaries are two common data structures.\n",
    "```\n",
    "list_name = [object1, object2, object3,...]\n",
    "\n",
    "dictionary_name = {\n",
    "    key1:value1,\n",
    "    key2:value2,\n",
    "    key3:value3,\n",
    "    ... }\n",
    "```\n",
    "5. Lists are indexed, beginning at 0. \n",
    "6. Dictionaries have keys and values that are paired. You can call to a key in a dictionary to obtain its value.\n",
    "7. Functions and methods help us do things with our data structures. Some we have worked with thus far are: print(), type(), len(), list(), .append(), .keys(), .values().\n",
    "8. Understanding how data structures work is important as a scientific programmer so you can choose the best data structure to work with your data!"
   ]
  },
  {
   "cell_type": "markdown",
   "id": "0104ca37-58cd-4a01-8a7f-c726af3806dc",
   "metadata": {},
   "source": [
    "## For Tomorrow\n",
    "Today, we were introduced to data structures -- we learned about lists and dictionaries. Tomorrow, I will introduce you to two more types of data structures, ones that are made in Python for working with specific types of data.\n",
    "<br> We will work with **pandas**, which is for working with tabular data. (10:15-11:15)\n",
    "<br> We will work with **xarray**, which is for working with gridded data. (11:30-12:30)"
   ]
  },
  {
   "cell_type": "markdown",
   "id": "6a2a2ad3-ebf0-4ee0-893f-ff7531b3bb1b",
   "metadata": {},
   "source": [
    "### 🎊YAYYYY - second coding lesson is complete!\n",
    "<br> 🇩🇪Prost und Guten Tag!\n",
    "<br> 🇪🇸¡Saludos y Buen Día!\n",
    "<br> 🇵🇹Felicidades e bom dia!\n",
    "<br> 🇬🇧Cheers and Good Day!"
   ]
  }
 ],
 "metadata": {
  "kernelspec": {
   "display_name": "Python 3 (ipykernel)",
   "language": "python",
   "name": "python3"
  },
  "language_info": {
   "codemirror_mode": {
    "name": "ipython",
    "version": 3
   },
   "file_extension": ".py",
   "mimetype": "text/x-python",
   "name": "python",
   "nbconvert_exporter": "python",
   "pygments_lexer": "ipython3",
   "version": "3.11.9"
  }
 },
 "nbformat": 4,
 "nbformat_minor": 5
}
