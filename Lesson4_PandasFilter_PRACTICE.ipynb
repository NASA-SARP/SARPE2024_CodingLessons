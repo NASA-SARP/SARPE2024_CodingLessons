{
 "cells": [
  {
   "cell_type": "markdown",
   "id": "8c966cb6",
   "metadata": {},
   "source": [
    "# **PRACTICE - Pandas Filtering and Groupby**"
   ]
  },
  {
   "cell_type": "markdown",
   "id": "c6bf45ba",
   "metadata": {},
   "source": [
    "## Part 1"
   ]
  },
  {
   "cell_type": "markdown",
   "id": "5dd715f5",
   "metadata": {},
   "source": [
    "Run the following cells to import and clean the [USGS data](https://raw.githubusercontent.com/NASA-SARP/sarp_lessons/main/lessons/tabular_data/data/englewood_3_12_21_usgs_water.tsv) for the practice problems in part 1."
   ]
  },
  {
   "cell_type": "code",
   "execution_count": null,
   "id": "f4db946c",
   "metadata": {},
   "outputs": [],
   "source": [
    "import random\n",
    "import pandas as pd"
   ]
  },
  {
   "cell_type": "code",
   "execution_count": null,
   "id": "4e62f9f1",
   "metadata": {},
   "outputs": [],
   "source": [
    "# Read in the data\n",
    "df_water_vars = pd.read_csv('./englewood_3_12_21_usgs_water.tsv', sep='\\t', skiprows=30)\n",
    "# There are a lot of variables here, so let's shorten our dataframe to a few variables\n",
    "df_water_vars = df_water_vars[['datetime', '210920_00060', '210922_00010', '210924_00300', '210925_00400']]\n",
    "# Get rid of the first row of hard-coded datatype info\n",
    "df_water_vars = df_water_vars.drop(0)\n",
    "# Rename the columns from their USGS codes to more human-readible names\n",
    "l_name_codes = {'210920_00060': 'discharge','210922_00010': 'temperature', '210924_00300': 'dissolved oxygen', '210925_00400': 'pH'}\n",
    "df_water_vars = df_water_vars.rename(columns=l_name_codes)\n",
    "# Convert columns with numbers to a numeric type\n",
    "df_water_vars['discharge'] = pd.to_numeric(df_water_vars['discharge'])\n",
    "df_water_vars['temperature'] = pd.to_numeric(df_water_vars['temperature'])\n",
    "df_water_vars['dissolved oxygen'] = pd.to_numeric(df_water_vars['dissolved oxygen'])\n",
    "df_water_vars['pH'] = pd.to_numeric(df_water_vars['pH'])\n",
    "\n",
    "df_water_vars['dam release'] = [random.choice([True, False]) for x in range(len(df_water_vars))]\n",
    "df_water_vars['safety level'] = [random.choice(['low', 'medium', 'high']) for x in range(len(df_water_vars))]\n",
    "df_water_vars"
   ]
  },
  {
   "cell_type": "markdown",
   "id": "58dca6f4",
   "metadata": {},
   "source": [
    "### Filtering"
   ]
  },
  {
   "cell_type": "markdown",
   "id": "dbdbe85d",
   "metadata": {},
   "source": [
    "1. Look at the output of `df_water_vars['safety level'] == 'high'`.  What is the output telling us?  Was the safety level high during the observation at index 3?"
   ]
  },
  {
   "cell_type": "code",
   "execution_count": null,
   "id": "008d57e5",
   "metadata": {},
   "outputs": [],
   "source": [
    "df_water_vars['safety level'] == 'high'"
   ]
  },
  {
   "cell_type": "markdown",
   "id": "89822997-70c0-4741-bb0d-471b6eb30079",
   "metadata": {},
   "source": []
  },
  {
   "cell_type": "markdown",
   "id": "1c48de69",
   "metadata": {},
   "source": [
    "2. Create a dataframe showing which obersvations in `df_water_vars` recorded temperature less than 8."
   ]
  },
  {
   "cell_type": "code",
   "execution_count": null,
   "id": "cbe2482b",
   "metadata": {},
   "outputs": [],
   "source": []
  },
  {
   "cell_type": "markdown",
   "id": "7ef9d19e",
   "metadata": {},
   "source": [
    "3. Create a dataframe showing which obersvations in `df_water_vars` recorded either dissolved oxygen less than or equal to 8 or pH greater than 8."
   ]
  },
  {
   "cell_type": "code",
   "execution_count": null,
   "id": "8440b42f-deb3-475e-830f-0138823dc0f5",
   "metadata": {},
   "outputs": [],
   "source": []
  },
  {
   "cell_type": "markdown",
   "id": "87362be2",
   "metadata": {},
   "source": [
    "4. Create a dataframe showing which obersvations in `df_water_vars` recorded discharge between 46 and 49."
   ]
  },
  {
   "cell_type": "code",
   "execution_count": null,
   "id": "b0cfab6f",
   "metadata": {},
   "outputs": [],
   "source": []
  },
  {
   "cell_type": "markdown",
   "id": "b40fd640",
   "metadata": {},
   "source": [
    "### Named Indexes"
   ]
  },
  {
   "cell_type": "markdown",
   "id": "9b7ad660",
   "metadata": {},
   "source": [
    "The following bits of code add a new column to the dataframe made up of random letters and assigns them to a new column called `'sample id'`.  Run them before doing the next problems."
   ]
  },
  {
   "cell_type": "code",
   "execution_count": null,
   "id": "9b01abef",
   "metadata": {},
   "outputs": [],
   "source": [
    "import string"
   ]
  },
  {
   "cell_type": "code",
   "execution_count": null,
   "id": "56cd3302",
   "metadata": {},
   "outputs": [],
   "source": [
    "l_letter_ids = [''.join(random.choice(string.ascii_lowercase) for i in range(5)) for x in range(146)]"
   ]
  },
  {
   "cell_type": "code",
   "execution_count": null,
   "id": "d0ce591a",
   "metadata": {},
   "outputs": [],
   "source": [
    "df_water_vars['sample id'] = l_letter_ids\n",
    "df_water_vars"
   ]
  },
  {
   "cell_type": "markdown",
   "id": "f766702b",
   "metadata": {},
   "source": [
    "5. Use the new `'sample id'` column and set it as the index in the `water_vars` dataframe."
   ]
  },
  {
   "cell_type": "code",
   "execution_count": null,
   "id": "67ef6c5d",
   "metadata": {},
   "outputs": [],
   "source": []
  },
  {
   "cell_type": "markdown",
   "id": "9ba8dfd9",
   "metadata": {},
   "source": [
    "6. Pick a sample id and get the data for just that row."
   ]
  },
  {
   "cell_type": "code",
   "execution_count": null,
   "id": "2fdde3ba",
   "metadata": {},
   "outputs": [],
   "source": []
  },
  {
   "cell_type": "markdown",
   "id": "40ce2fa2",
   "metadata": {},
   "source": [
    "7. We have mostly been looking at boolean comparisons with numbers, but you can also interrogate strings with special methods and get a list of booleans as a result.  Consider the following bit of code:"
   ]
  },
  {
   "cell_type": "code",
   "execution_count": null,
   "id": "5ccf5bd5",
   "metadata": {
    "scrolled": true
   },
   "outputs": [],
   "source": [
    "df_water_vars.index.str.contains('k')"
   ]
  },
  {
   "cell_type": "markdown",
   "id": "43356872",
   "metadata": {},
   "source": [
    "This code is telling us True/False for which indexes contain the letter k in them.\n",
    "\n",
    "Using what you know about pandas filtering, use `df_water_vars.loc[]` and the code above (`df_water_vars.index.str.contains('k')`) to filter the data frame to only return the rows which have an index containing the letter k."
   ]
  },
  {
   "cell_type": "code",
   "execution_count": null,
   "id": "65cb1b69",
   "metadata": {},
   "outputs": [],
   "source": []
  },
  {
   "cell_type": "markdown",
   "id": "11d59934",
   "metadata": {},
   "source": [
    "### Groupby"
   ]
  },
  {
   "cell_type": "markdown",
   "id": "53a131b0",
   "metadata": {},
   "source": [
    "8. Fill in the three groupby questions for the following scenario:\n",
    "\n",
    "**Given the environmental sustainbility index (ESI) for every country, what is the minimum ESI on each continent?**\n",
    "\n",
    "* _Which variable to group together?_\n",
    "* _How do we want to group?_\n",
    "* _What variable do we want to look at?_ "
   ]
  },
  {
   "cell_type": "markdown",
   "id": "e0facb78-f256-4994-bf71-d18bee978001",
   "metadata": {},
   "source": []
  },
  {
   "cell_type": "markdown",
   "id": "aaa6e250",
   "metadata": {},
   "source": [
    "9. Fill in the three groupby questions for the following scenario:\n",
    "\n",
    "**Given the graduation rates of many high school, what is the average graduation rate in public vs. private schools?**\n",
    "\n",
    "* _Which variable to group together?_ \n",
    "* _How do we want to group?_\n",
    "* _What variable do we want to look at?_ "
   ]
  },
  {
   "cell_type": "markdown",
   "id": "f21281db-84a6-4b49-841a-96b84bad5331",
   "metadata": {},
   "source": []
  },
  {
   "cell_type": "markdown",
   "id": "7d52ceae",
   "metadata": {},
   "source": [
    "10. Find the mean values of all of the columns at each safety level"
   ]
  },
  {
   "cell_type": "code",
   "execution_count": null,
   "id": "e3c71c39-1710-48ba-90cf-da33f4a0ee1c",
   "metadata": {},
   "outputs": [],
   "source": []
  },
  {
   "cell_type": "markdown",
   "id": "89282376",
   "metadata": {},
   "source": [
    "11. Find the mean values of all of the columns at each discharge (less meaningful, but just for practice)"
   ]
  },
  {
   "cell_type": "code",
   "execution_count": null,
   "id": "5e48fd39",
   "metadata": {},
   "outputs": [],
   "source": []
  },
  {
   "cell_type": "markdown",
   "id": "aedc3244",
   "metadata": {},
   "source": [
    "12. Find the number of non-nan observations for each column at each safety level"
   ]
  },
  {
   "cell_type": "code",
   "execution_count": null,
   "id": "ed333cc3",
   "metadata": {},
   "outputs": [],
   "source": []
  },
  {
   "cell_type": "markdown",
   "id": "e54b34d7",
   "metadata": {},
   "source": [
    "13. Display the mean values of just the temperature column at each safety level"
   ]
  },
  {
   "cell_type": "code",
   "execution_count": null,
   "id": "3032dd96",
   "metadata": {},
   "outputs": [],
   "source": []
  },
  {
   "cell_type": "markdown",
   "id": "3e502538",
   "metadata": {},
   "source": [
    "## Part 2"
   ]
  },
  {
   "cell_type": "markdown",
   "id": "4573cd34",
   "metadata": {},
   "source": [
    "For the next set of practice problems, we are going to use the WAS 2020 SARP data.\n",
    "\n",
    "I placed this data in shared-public>DATA. Write the relative file path to open it!"
   ]
  },
  {
   "cell_type": "code",
   "execution_count": null,
   "id": "outside-corner",
   "metadata": {},
   "outputs": [],
   "source": [
    "import pandas as pd\n",
    "was_2020_filepath = \"ENTER FILE PATH\"\n",
    "df_was_2020 = pd.read_excel(was_2020_filepath, \"INPUT\", skipfooter=7)\n",
    "df_was_2020"
   ]
  },
  {
   "cell_type": "markdown",
   "id": "b79fde76",
   "metadata": {},
   "source": [
    "### Question 1\n",
    "\n",
    "**A)** Using `df_was_2020` find data samples where `'CO2 (ppmv)'` was greater than 420."
   ]
  },
  {
   "cell_type": "code",
   "execution_count": null,
   "id": "c4280ebe",
   "metadata": {},
   "outputs": [],
   "source": []
  },
  {
   "cell_type": "markdown",
   "id": "1cd56dfc",
   "metadata": {},
   "source": [
    "**B)** How many data samples had CO2 over 420?"
   ]
  },
  {
   "cell_type": "code",
   "execution_count": null,
   "id": "b56d9798",
   "metadata": {},
   "outputs": [],
   "source": []
  },
  {
   "cell_type": "markdown",
   "id": "8a8e2acd",
   "metadata": {},
   "source": [
    "### Question 2\n",
    "\n",
    "**A)** What is the mean value of `'Isoprene (E/B)'` accross all the samples?"
   ]
  },
  {
   "cell_type": "code",
   "execution_count": null,
   "id": "9bbd9fb8",
   "metadata": {},
   "outputs": [],
   "source": []
  },
  {
   "cell_type": "markdown",
   "id": "9463e344",
   "metadata": {},
   "source": [
    "**B)** How many data samples had values of `'Isoprene (E/B)'` below 10?"
   ]
  },
  {
   "cell_type": "code",
   "execution_count": null,
   "id": "0540bc24",
   "metadata": {},
   "outputs": [],
   "source": []
  },
  {
   "cell_type": "markdown",
   "id": "1c7050bd",
   "metadata": {},
   "source": [
    "**C)** Print out the values of isoprene from the previous part of the question which are less than 10.  Do you notice anything unusual about the values?"
   ]
  },
  {
   "cell_type": "code",
   "execution_count": null,
   "id": "cf5d0c72",
   "metadata": {},
   "outputs": [],
   "source": []
  },
  {
   "cell_type": "markdown",
   "id": "9259f237",
   "metadata": {},
   "source": [
    "**D)** Looking at the values in the previous question you might see that several values are marked with -888.  This is likely a nodata value (but its always good to check the data documentation to be sure).\n",
    "\n",
    "Knowing that there are now nodata values, go back and amend your code to find the rows where isoprene is less than 10 but also not equal to -888.  Now how many rows are there?"
   ]
  },
  {
   "cell_type": "code",
   "execution_count": null,
   "id": "70f7068d",
   "metadata": {},
   "outputs": [],
   "source": []
  },
  {
   "cell_type": "markdown",
   "id": "e79a45c4",
   "metadata": {},
   "source": [
    "**E)** What is the true mean value of isoprene?"
   ]
  },
  {
   "cell_type": "code",
   "execution_count": null,
   "id": "aaa01c48",
   "metadata": {},
   "outputs": [],
   "source": []
  },
  {
   "cell_type": "markdown",
   "id": "26456e4d",
   "metadata": {},
   "source": [
    "_This question was brought to you today as a gentle reminder to always be on the lookout for nodata 🙂_"
   ]
  },
  {
   "cell_type": "markdown",
   "id": "73f6eb70",
   "metadata": {},
   "source": [
    "### Question 3\n",
    "\n",
    "There are a lot of data columns in this dataset, many more than we can reasonably view in the preview.  To help us explore our data better we might want to view a smaller subset of the data at once.\n",
    "\n",
    "**A)** Create a dataframe that includes only the following columns from the `df_was_2020` dataset: `'Can #'`, `'State'`, `'Date'`, `'CO (ppbv)'`, and `'OCS (MS)'`."
   ]
  },
  {
   "cell_type": "code",
   "execution_count": null,
   "id": "6f076c0a",
   "metadata": {},
   "outputs": [],
   "source": []
  },
  {
   "cell_type": "markdown",
   "id": "a7953ea9",
   "metadata": {},
   "source": [
    "**B)** Let's say you would like to view all of the columns of CFCs together.  There are several columns that all start with `CFC-`: 'CFC-12 (C/D)', 'CFC-11 (D/MS)', 'CFC-113 (D)', 'CFC-114 (MS)'.\n",
    "\n",
    "Create a dataframe that includes just the columns whose names start with \"CFC-\"."
   ]
  },
  {
   "cell_type": "code",
   "execution_count": null,
   "id": "51d0b5ea",
   "metadata": {},
   "outputs": [],
   "source": []
  },
  {
   "cell_type": "markdown",
   "id": "0a4e02c0",
   "metadata": {},
   "source": [
    "**Google help:** - Try googling \"pandas filter by column name string\".  [This stackoverflow](https://stackoverflow.com/questions/21285380/find-column-whose-name-contains-a-specific-string) also has several options. I was only able to solve this using a `.filter()` method. Check out [this link](#https://www.statology.org/pandas-select-columns-containing-string/)."
   ]
  },
  {
   "cell_type": "markdown",
   "id": "d6388c25",
   "metadata": {},
   "source": [
    "**C)** Use the subset of data you created in part B and return just the columns of CFCs and only the rows of samples that were taken in Arizona."
   ]
  },
  {
   "cell_type": "code",
   "execution_count": null,
   "id": "56e95d44",
   "metadata": {},
   "outputs": [],
   "source": []
  },
  {
   "cell_type": "markdown",
   "id": "7d0d86d7",
   "metadata": {},
   "source": [
    "### Question 4\n",
    "\n",
    "`groupby` questions\n",
    "\n",
    "**A)** What are the mean values of `'CO (ppbv)'` from each box?\n",
    "\n"
   ]
  },
  {
   "cell_type": "code",
   "execution_count": null,
   "id": "9dd68494",
   "metadata": {},
   "outputs": [],
   "source": []
  },
  {
   "cell_type": "markdown",
   "id": "c54e62f2",
   "metadata": {},
   "source": [
    "**B)** What is the minimum value of `'CH4 (ppmv height)'` for each `Weather` condition?"
   ]
  },
  {
   "cell_type": "code",
   "execution_count": null,
   "id": "87a6f705",
   "metadata": {},
   "outputs": [],
   "source": []
  },
  {
   "cell_type": "markdown",
   "id": "19d6ca2e",
   "metadata": {},
   "source": [
    "**C)** How many samples were taken in each state?"
   ]
  },
  {
   "cell_type": "code",
   "execution_count": null,
   "id": "545436ee",
   "metadata": {},
   "outputs": [],
   "source": []
  },
  {
   "cell_type": "markdown",
   "id": "441492dd",
   "metadata": {},
   "source": [
    "### Question 5\n",
    "\n",
    "`.groupby` also allows you to group on multiple fields.  So instead of saying \"what is the mean value of CO in each state?\", we can be more specific, and ask, \"What is the mean value of CO in each state at every wind speed?\"\n",
    "\n",
    "We do this by using a `list` of values in the `.groupby()` argument instead of just a single column string.\n",
    "\n",
    "`.groupby([\"Box\", \"Wind Spd (mph)\"])`"
   ]
  },
  {
   "cell_type": "markdown",
   "id": "7bd437cf",
   "metadata": {},
   "source": [
    "**A)** Try using this syntax to find the mean value of CO in each state at every wind speed"
   ]
  },
  {
   "cell_type": "code",
   "execution_count": null,
   "id": "cfa5e75e",
   "metadata": {},
   "outputs": [],
   "source": []
  },
  {
   "cell_type": "markdown",
   "id": "767c87a1",
   "metadata": {},
   "source": [
    "**B)** What was the mean value of CO in Georgia when the wind speed was 8 mph?"
   ]
  },
  {
   "cell_type": "code",
   "execution_count": null,
   "id": "e8dc3066",
   "metadata": {},
   "outputs": [],
   "source": []
  },
  {
   "cell_type": "markdown",
   "id": "2f47a76d",
   "metadata": {},
   "source": [
    "### Question 6\n",
    "\n",
    "The current `.groupby` function allows to use a single aggregation function at once -- we can see either the means for every columns, or the max of every column, and so on.\n",
    "\n",
    "To look use different aggregation functions for different columns we drop the aggregation function and instead use `.agg()`.\n",
    "\n",
    "Here is an example using the water dataset:"
   ]
  },
  {
   "cell_type": "code",
   "execution_count": null,
   "id": "6402e177",
   "metadata": {
    "scrolled": true
   },
   "outputs": [],
   "source": [
    "df_water_vars.groupby(\"dam release\").agg(\n",
    "    max_discharge=pd.NamedAgg(column='discharge', aggfunc='max'), \n",
    "    mean_doxy=pd.NamedAgg(column=\"dissolved oxygen\", aggfunc='mean')\n",
    ")"
   ]
  },
  {
   "cell_type": "markdown",
   "id": "7aa2102e",
   "metadata": {},
   "source": [
    "**A.** Use the `.agg()` function to find the maximum values of `'CH4 (ppmv height)'`, the mean values of `'4-Ethyltoluene (MS)'`, and the total number of samples `'Can #'` for each state."
   ]
  },
  {
   "cell_type": "code",
   "execution_count": null,
   "id": "0095d292",
   "metadata": {},
   "outputs": [],
   "source": []
  },
  {
   "cell_type": "markdown",
   "id": "972a9fd1-2b2c-4aa3-8496-b7ea31fe1a79",
   "metadata": {},
   "source": [
    "WOOHOO -- If you made it this far, give yourself (and whoever you were working with) a HIGH-FIVE BRO!\n",
    "\n",
    "Go checkout [geopandas](https://nasa-sarp.github.io/sarp_lessons/lessons/tabular_data/3_geopandas.html) on the SARP website and play around!"
   ]
  }
 ],
 "metadata": {
  "kernelspec": {
   "display_name": "Python 3 (ipykernel)",
   "language": "python",
   "name": "python3"
  },
  "language_info": {
   "codemirror_mode": {
    "name": "ipython",
    "version": 3
   },
   "file_extension": ".py",
   "mimetype": "text/x-python",
   "name": "python",
   "nbconvert_exporter": "python",
   "pygments_lexer": "ipython3",
   "version": "3.11.9"
  },
  "vscode": {
   "interpreter": {
    "hash": "c6a7549e0a21eb75b694ff081490f6e8db8aea94086d29d6a7e085c556b251de"
   }
  }
 },
 "nbformat": 4,
 "nbformat_minor": 5
}
