{
 "cells": [
  {
   "cell_type": "markdown",
   "id": "70c2f67f-6685-45ab-9d05-e97974b4148f",
   "metadata": {},
   "source": [
    "# SARP-East Coding Lesson 7 - Datetimes\n",
    "12 July 2024\n",
    "<br>Riley McCue"
   ]
  },
  {
   "cell_type": "markdown",
   "id": "d7abb072-0b13-4b43-8118-d0734fd61d6f",
   "metadata": {},
   "source": [
    "## 🛌🏼 🛌🏼 🛌🏼 *\"Sometimes it's pays to stay in bed on Monday, rather than spending the rest of the week debugging Monday's code.\"* 🛌🏼 🛌🏼 🛌🏼 \n",
    "<br>-Dan Salomon"
   ]
  },
  {
   "cell_type": "markdown",
   "id": "7c0cbc11-10d3-4928-8737-f9bd6ea528e0",
   "metadata": {},
   "source": [
    "[OFFICE HOUR SIGNUP](https://docs.google.com/spreadsheets/d/1EDDZ7jxGzhFhAQeKTjtLBmbVYn3H6v1zb6QHUAIKUjA/edit?usp=sharing)"
   ]
  },
  {
   "cell_type": "markdown",
   "id": "6d187e18-88c0-43e4-a48e-13e57ed8a265",
   "metadata": {},
   "source": [
    "What do we always start with as earth science researchers? Data. Let's get some data."
   ]
  },
  {
   "cell_type": "markdown",
   "id": "7f9d1396-82da-43b5-91b3-6f835ba6ef55",
   "metadata": {},
   "source": [
    "# 📂 Opening Our Data"
   ]
  },
  {
   "cell_type": "markdown",
   "id": "42a69da4-3148-4733-be00-daaf3616ad4a",
   "metadata": {},
   "source": [
    "Let's check out some [bouy data!](https://buoybay.noaa.gov/data/data-download) ⛵\n",
    "<br> Select the following\n",
    "1. Station: First Landing (FL)\n",
    "2. Year: 2019\n",
    "3. Type: Ocean\n",
    "<br> --> Get URL for download\n",
    "<br> You will likley have to enable pop-up browsers.\n",
    "<br> Fun fact: This data was taken from a bouy by the bridge we had to cross to go to Wallops!\n",
    "\n",
    "You know the drill by now:\n",
    "1. Download your data into the cloud\n",
    "2. Enter your filepath in below\n",
    "\n",
    "This is **tabular** data, so we will be using `pandas`."
   ]
  },
  {
   "cell_type": "code",
   "execution_count": null,
   "id": "6cc63fbc-a445-46c1-b658-db836992f6c1",
   "metadata": {},
   "outputs": [],
   "source": [
    "#Imports pandas library"
   ]
  },
  {
   "cell_type": "code",
   "execution_count": null,
   "id": "b7001e0a-06af-4df7-b5f1-30fdd3b5e6da",
   "metadata": {},
   "outputs": [],
   "source": [
    "#Opens data\n",
    "df = pd.read_csv('FILEPATH')"
   ]
  },
  {
   "cell_type": "code",
   "execution_count": null,
   "id": "7d80de96-9ba6-4478-885d-745d66922e19",
   "metadata": {},
   "outputs": [],
   "source": [
    "#I'm cleaning up the data a bit...\n",
    "\n",
    "#Drops first and second row of string labels\n",
    "df = df.drop([0,1])\n",
    "#Drops columns with QC (they are just unecessary).\n",
    "df = df.drop(['Temperature QC','Salinity QC', 'Chlorophyll QC', 'Turbidity QC', 'Oxygen QC', 'Waves QC'], axis=1)\n",
    "#Saves temperature values as floats rather than strings\n",
    "df['Temperature'] = df['Temperature'].astype(float)"
   ]
  },
  {
   "cell_type": "markdown",
   "id": "88a6e935-ccc1-4caf-90bc-874cc6ea5231",
   "metadata": {},
   "source": [
    "Let's view our Dataframe."
   ]
  },
  {
   "cell_type": "code",
   "execution_count": null,
   "id": "481d6bf6-71b1-4854-8bb3-d89a685ac737",
   "metadata": {},
   "outputs": [],
   "source": [
    "#View Dataframe\n"
   ]
  },
  {
   "cell_type": "markdown",
   "id": "3437a7cd-235a-40ef-8480-3deb09587cde",
   "metadata": {},
   "source": [
    "We are interested in temperature here. Let's plot our temperature series to get an idea of what we are looking at."
   ]
  },
  {
   "cell_type": "code",
   "execution_count": null,
   "id": "1544a3b6-73ee-409e-b627-09eccdb7f615",
   "metadata": {},
   "outputs": [],
   "source": [
    "#Plot 'Temperature' series\n"
   ]
  },
  {
   "cell_type": "markdown",
   "id": "6c94f2d5-430a-48e8-80ed-c75de07cff20",
   "metadata": {},
   "source": [
    "A plot! Woohoo! But what is this telling us? When was this taken?"
   ]
  },
  {
   "cell_type": "markdown",
   "id": "75fdad99-977e-4dc8-a1d3-bf6f69ac9259",
   "metadata": {},
   "source": [
    "# Our Data is Open... Now what?"
   ]
  },
  {
   "cell_type": "markdown",
   "id": "bdfce357-cbe8-4838-9ca8-6f6e45dcd72b",
   "metadata": {},
   "source": [
    "## 🔎 Finding a New Library"
   ]
  },
  {
   "cell_type": "markdown",
   "id": "d368992e-1a96-4872-a78c-db4f01fbdd51",
   "metadata": {},
   "source": [
    "It'd be great if we had DATES and TIMES on our plot, and if we could organize our data by dates and times.\n",
    "\n",
    "Hmmmm..... I wonder if there are any available libraries in Python for working with dates and times?"
   ]
  },
  {
   "cell_type": "markdown",
   "id": "bd39c0e1-aa01-4e51-ac9e-f3003a2f5381",
   "metadata": {},
   "source": [
    ":::{admonition} Activity\n",
    ":class: note\n",
    "Google \"Python library dates and times\" and try to find the following:\n",
    "1. A Python library that helps us manipulate dates and times.\n",
    "2. Some classes, attributes, objects, etc. of this library.\n",
    "3. Some general syntax to utilize this library.\n",
    "4. What we can use this library for?\n",
    "\n",
    "<!-- https://docs.python.org/3/library/datetime.html -->"
   ]
  },
  {
   "cell_type": "markdown",
   "id": "ea89a7ec-1955-4be8-9b59-9b76b9a46c8f",
   "metadata": {},
   "source": [
    "## 📖 Documentation"
   ]
  },
  {
   "cell_type": "markdown",
   "id": "8658c3ce-a957-4c18-9638-a010fe06fa3e",
   "metadata": {},
   "source": [
    "As we are becoming independent programmers, the ability to read documentation is a huge skill to develop. Being said, it also has a huge learning curve (similar to the nature of coding in general). \n",
    "\n",
    "You all will have to use libraries and classes and functions that you have never seen or heard of before as you get deeper and deeper into your projects. Even though it is hard, you are capable!\n",
    "\n",
    "Some things to note about documention:\n",
    "1. Documentation is not meant to be read thoroughly from top to botom (usually). The amount you have to read will depend on how in-depth you will be using it and your current knowledge of it.\n",
    "2. YOU SHOULD NOT UNDERSTAND EVERYTHING HERE.\n",
    "3. While it can be overwhelming at first, documentation is our FRIEND. It is everything the authors left us to be able to use their new programming tool.\n",
    "4. TIP: If you run into errors, you can `Command+f` the documentation to see if that specific error holds a certain meaning.\n",
    "5. Important things to look for are: Required input arguements, the purpose of the libarry, available functions, attributes, classes, methods, and maybe some examples.\n",
    "\n",
    "If you really want to get more into programming, I would get comfortable reading documentation."
   ]
  },
  {
   "cell_type": "markdown",
   "id": "1b6176bf-2375-4f7f-8902-8fc1cd92a2bb",
   "metadata": {},
   "source": [
    "## 🕰️ `Datetime` Library"
   ]
  },
  {
   "cell_type": "markdown",
   "id": "bb71e898-70f0-409f-8135-9e04aaf9daf6",
   "metadata": {},
   "source": [
    "You all likely found [this link](https://docs.python.org/3/library/datetime.html#datetime.date.month). This is the main datetime library in Python.\n",
    "\n",
    "What did we learn from our searching?\n",
    "<!-- <br>PURPOSE:\n",
    "<br>CLASSES:\n",
    "<br>ATTRIBUTES: -->\n",
    "\n",
    "Pandas has their own datetime functions built in. However, they are all built off of this main datetime library, and the concepts hold true.\n",
    "\n",
    "We will be utilizing pandas `.to_datetime()` function here ([documentation](https://pandas.pydata.org/docs/reference/api/pandas.to_datetime.html))."
   ]
  },
  {
   "cell_type": "markdown",
   "id": "79224ea3-8186-457f-b20b-614e37000d25",
   "metadata": {},
   "source": [
    "Big picture concept: The `datetime` library takes dates saved as other data types (usually strings) and saves them in a formatted object that allows python to efficiently read the different parts of a datetime (day, month, year, minute, second,...)."
   ]
  },
  {
   "cell_type": "markdown",
   "id": "90c98b28-9265-4837-877f-5875c4cede8f",
   "metadata": {},
   "source": [
    "### ⏳ Datetime Objects"
   ]
  },
  {
   "cell_type": "markdown",
   "id": "1dfb25f0-d2e7-4cd2-b1c9-2ea4c3362920",
   "metadata": {},
   "source": [
    "Let's convert our column of strings 'Time (UTC)' to a column of datetimes.\n",
    "\n",
    "The syntax for the pandas `.to_datetime()` method is:\n",
    "\n",
    "\n",
    "`pd.to_datetime(column, format=`[check me out!](https://strftime.org/))\n"
   ]
  },
  {
   "cell_type": "markdown",
   "id": "cdcf8e6c-bd44-4986-a050-f82c7c3f3df3",
   "metadata": {},
   "source": [
    "#### ⛵ To our Data\n",
    "First, let's see what our time objects currently look like."
   ]
  },
  {
   "cell_type": "code",
   "execution_count": null,
   "id": "3dabc373-dff5-4569-a053-46832f625c55",
   "metadata": {},
   "outputs": [],
   "source": [
    "#Views a specific time object.\n"
   ]
  },
  {
   "cell_type": "markdown",
   "id": "85531f82-b31e-4d19-b98b-f237cc98576c",
   "metadata": {},
   "source": [
    "and let's see what data type this is..."
   ]
  },
  {
   "cell_type": "code",
   "execution_count": null,
   "id": "af2f3eb9-6e0d-4ecd-a32b-5f247f441fc2",
   "metadata": {},
   "outputs": [],
   "source": [
    "#Checks data type() of our time object.\n"
   ]
  },
  {
   "cell_type": "markdown",
   "id": "68c295a1-f2b2-4728-95f9-41b3e94d886a",
   "metadata": {},
   "source": [
    "We want to make these strings `datetimes` -- let's do the whole column."
   ]
  },
  {
   "cell_type": "code",
   "execution_count": null,
   "id": "22a69c76-d8ce-43ae-951e-d7351b103aaa",
   "metadata": {},
   "outputs": [],
   "source": [
    "#Let's convert our 'Time (UTC)' column to datetimes.\n"
   ]
  },
  {
   "cell_type": "markdown",
   "id": "317cb2e8-2783-4a38-9cb6-e2ea6dc41184",
   "metadata": {},
   "source": [
    "The `format=` command is to tell the computer how our datetime is currently saved in the string. We need to give it the skeleton, and there are special simplified commands for this.\n",
    "\n",
    "Now, let's save these datetime objects as a column."
   ]
  },
  {
   "cell_type": "code",
   "execution_count": null,
   "id": "13934c65-d694-4d35-8481-047726b9a287",
   "metadata": {},
   "outputs": [],
   "source": [
    "# We are going to rewrite our old column.\n"
   ]
  },
  {
   "cell_type": "code",
   "execution_count": null,
   "id": "50a79748-8ca8-4726-ad58-041428034094",
   "metadata": {},
   "outputs": [],
   "source": [
    "# Let's look at the datatype of a value in our new datetime column \n"
   ]
  },
  {
   "cell_type": "markdown",
   "id": "d98f325b-2b19-4353-8b10-8c3493cdae3f",
   "metadata": {},
   "source": [
    "WOOHOO! We created our first datetime objects!"
   ]
  },
  {
   "cell_type": "code",
   "execution_count": null,
   "id": "1cef8608-53d5-4ace-83bf-30e5ff5efacd",
   "metadata": {},
   "outputs": [],
   "source": [
    "# Let's view our dataframe now.\n"
   ]
  },
  {
   "cell_type": "markdown",
   "id": "98e98b2f-f73c-479f-a7e2-28ea858bf04f",
   "metadata": {},
   "source": [
    "Now that these are datetime objects, we can do lots of fun stuff.\n",
    "<br> Examples of attributes:\n",
    "* .date\n",
    "* .time\n",
    "* .year\n",
    "* .month\n",
    "* .day\n",
    "* .day_of_week\n",
    "* .hour\n",
    "* .minute\n",
    "* .second\n",
    "\n",
    "Syntax\n",
    "```\n",
    "data_series.dt.ATTRIBUTE\n",
    "```"
   ]
  },
  {
   "cell_type": "code",
   "execution_count": null,
   "id": "c0efbed3-a7ec-4910-8756-aefbbd769e0b",
   "metadata": {},
   "outputs": [],
   "source": [
    "#Let's view just the dates from our data\n"
   ]
  },
  {
   "cell_type": "markdown",
   "id": "d1a614aa-7134-47c6-a968-e3805a9d09a1",
   "metadata": {},
   "source": [
    ":::{admonition} Practice Problem\n",
    ":class: tip\n",
    "1. Select just the months from your datetimes.\n",
    "2. Save this as a new column in your Dataframe.\n",
    "\n",
    ":::{admonition} Extra Level\n",
    ":class: dropdown\n",
    "After creating your column of months, find the mean temperature values over each month (Hint: groupby)."
   ]
  },
  {
   "cell_type": "markdown",
   "id": "082de653-8660-4c21-8b1c-0bc88d0684ed",
   "metadata": {},
   "source": [
    "Let's set our datetime series as the index."
   ]
  },
  {
   "cell_type": "code",
   "execution_count": null,
   "id": "f7ce0769-3b10-423d-a126-842219bf023a",
   "metadata": {},
   "outputs": [],
   "source": [
    "#Sets column 'Time (UTC)' as index and rewrites over the dataframe\n"
   ]
  },
  {
   "cell_type": "code",
   "execution_count": null,
   "id": "1f525551-4759-493e-86ab-806926a55936",
   "metadata": {},
   "outputs": [],
   "source": [
    "#Let's view our data now.\n"
   ]
  },
  {
   "cell_type": "markdown",
   "id": "c87c489f-ae94-4e30-8bfa-d21f6fed4b77",
   "metadata": {},
   "source": [
    "Let's try plotting again, and see if anything has changed."
   ]
  },
  {
   "cell_type": "code",
   "execution_count": null,
   "id": "abb0d8d6-96a4-4eca-9a3e-ed6253ca7e1d",
   "metadata": {},
   "outputs": [],
   "source": [
    "#Plot our data."
   ]
  },
  {
   "cell_type": "markdown",
   "id": "2c7264b4-b3cb-455f-903d-e370b5606c27",
   "metadata": {},
   "source": [
    "We can see that the horizontal axis is labeled with dates now! Python knows very well how to handle datetime objects once we create them."
   ]
  },
  {
   "attachments": {
    "0b5f6fff-15b8-4aa7-9ab6-6a1c0867657d.png": {
     "image/png": "[encoded data removed]"
    },
    "775a5739-472d-47cd-9ef6-ce70961b1582.png": {
     "image/png": "[encoded data removed]"
    }
   },
   "cell_type": "markdown",
   "id": "64b51970-391f-47fe-aacd-e1d96adafeda",
   "metadata": {},
   "source": [
    "### 🧹🧹🧹 How can we clean this up more?\n",
    "This plot is better, but it's not great. \n",
    "\n",
    "We are given hourly values, but we really only need an average over each day. \n",
    "\n",
    "# **LET'S ASK GOOGLE** how we might do this.\n",
    "![image.png](attachment:775a5739-472d-47cd-9ef6-ce70961b1582.png)![image.png](attachment:0b5f6fff-15b8-4aa7-9ab6-6a1c0867657d.png) \n",
    "\n",
    "<!-- Target: .resample() -->"
   ]
  },
  {
   "cell_type": "markdown",
   "id": "d686209e-b287-41c4-aa44-b788f4648c4e",
   "metadata": {},
   "source": [
    "### `Resampling`\n",
    "It looks like `pandas` has a [resample](https://pandas.pydata.org/docs/reference/api/pandas.DataFrame.resample.html#pandas.DataFrame.resample) method we can apply to DataFrames, which is specifically made to utilize datetimes.\n",
    "\n",
    "The general syntax is:\n",
    "```\n",
    "data_structure.resample(timeframe).aggregation()\n",
    "```\n",
    "Let's resample our temperatures values to be by day rather than by hour."
   ]
  },
  {
   "cell_type": "code",
   "execution_count": null,
   "id": "8d20044d-055d-4b55-9ad5-6188aede5b46",
   "metadata": {},
   "outputs": [],
   "source": [
    "#Use .resample() to find the daily averages\n"
   ]
  },
  {
   "cell_type": "code",
   "execution_count": null,
   "id": "da6577b5-9551-4e5d-9595-9d0e5673c863",
   "metadata": {},
   "outputs": [],
   "source": [
    "#And let's plot it!\n"
   ]
  },
  {
   "cell_type": "markdown",
   "id": "75ada99c-c238-4bad-9e59-59c242f52354",
   "metadata": {},
   "source": [
    "Much of the noise is gone, and this plot looks much better now. We can see that Python has labeled our horizontal axis by just month now too!"
   ]
  },
  {
   "cell_type": "markdown",
   "id": "ae23d03f-5297-4b90-90f5-dae4cedcbba1",
   "metadata": {},
   "source": [
    "Other timeframe options for resampling are:\n",
    "* '#min' = # minutes\n",
    "* '#h' = # hours\n",
    "* '#D' = # days\n",
    "* '#W' = # weeks\n",
    "* '#ME' = # months\n",
    "* '#YE' = # years\n",
    "\n",
    "Note: The smaller \"timescale\" you use, the longer the computation takes. For example, grouping by '1h' is significantly quickly than grouping by '60min', although they are the same amount of time. "
   ]
  },
  {
   "cell_type": "markdown",
   "id": "ca242779-f558-428c-be5c-743f22c7a8fd",
   "metadata": {},
   "source": [
    ":::{admonition} Extra: `timedelta`\n",
    ":class: dropdown\n",
    "A timedelta object represents a duration -- the difference between two datetime or date instances. For those of you who want to chunk your data by even increments of dates or times, it may be of interest to you.\n",
    "\n",
    "For more info, check out [this link](https://docs.python.org/3/library/datetime.html#timedelta-objects) and click **timedelta** in the Table of Contents on the left. "
   ]
  },
  {
   "cell_type": "markdown",
   "id": "cf6a0d43-c4cb-4ce5-baef-ccbff814838a",
   "metadata": {
    "editable": true,
    "slideshow": {
     "slide_type": ""
    },
    "tags": []
   },
   "source": [
    "# 🏁 Wrap-up: Think & Pair!\n",
    "## Think!\n",
    "Take a few minutes and review on your own what you learned. How might you use datetimes in your research?\n",
    "## Pair!\n",
    "Take a few minutes and discuss at your table what you learned today."
   ]
  },
  {
   "cell_type": "markdown",
   "id": "c4f9f8fd-1de3-4049-9284-46ed2b05b93c",
   "metadata": {},
   "source": [
    "### 🎊YAYYYY - seventh coding lesson is complete!\n",
    "I am so proud of you all for how hard you have worked on coding thus far! There has been A LOT of information for you all, and I have no expectations that you would absorb all of it. I hope that you learned a few things, and that I have planted the seed for many other topics you may dive deeper into in the future. And most importantly, I hope you have improved your relationship with coding and increased your confidence! Remember, if you are struggling, you are learning, and that is the only thing between where you are now and where you want to be!\n",
    "\n",
    "\n",
    "<br> 🇩🇪Prost und Guten Tag!\n",
    "<br> 🇪🇸¡Saludos y Buen Día!\n",
    "<br> 🇵🇹Felicidades e bom dia!\n",
    "<br> 🇬🇧Cheers and Good Day!"
   ]
  }
 ],
 "metadata": {
  "kernelspec": {
   "display_name": "Python 3 (ipykernel)",
   "language": "python",
   "name": "python3"
  },
  "language_info": {
   "codemirror_mode": {
    "name": "ipython",
    "version": 3
   },
   "file_extension": ".py",
   "mimetype": "text/x-python",
   "name": "python",
   "nbconvert_exporter": "python",
   "pygments_lexer": "ipython3",
   "version": "3.11.9"
  }
 },
 "nbformat": 4,
 "nbformat_minor": 5
}
