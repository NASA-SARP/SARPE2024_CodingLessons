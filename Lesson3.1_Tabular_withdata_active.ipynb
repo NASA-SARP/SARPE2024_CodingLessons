{
 "cells": [
  {
   "cell_type": "markdown",
   "id": "7556fa45-5951-4201-a6a7-c64c684f75d7",
   "metadata": {},
   "source": [
    "# SARP-East Coding Lesson 3.1 -Tabular Data\n",
    "03 July 2024\n",
    "<br>Riley McCue"
   ]
  },
  {
   "cell_type": "markdown",
   "id": "e9c62d8c-e2dc-4ac7-925d-a7f51d204c9a",
   "metadata": {},
   "source": [
    "## 🚃👣 *The journey is long, but the goal is in each step.* 👣🚃\n",
    "<br>- Sri Sri Ravi Shankar "
   ]
  },
  {
   "cell_type": "markdown",
   "id": "01dbbf45-aac1-4081-9dd3-f7e00e8e45b5",
   "metadata": {},
   "source": [
    ":::{admonition} Recap\n",
    ":class: tip\n",
    "**Level 1**\n",
    "<br>1)Write a skeleton structure of a list and a dictionary.\n",
    "<Br>2)At what value does indexing start in Python?\n",
    "<br>**Level 2**\n",
    "<br>3)Change the invalid data points to 0 in the following list.\n",
    "```\n",
    "l_greeness = [6.1, 4.5, 9999, 5.3, 9999]\n",
    "```\n",
    "4)Add today's temperature and conditions to the following dictionary. (Today is Wednesday.)\n",
    "```\n",
    "d_weather = {\n",
    "    'Friday': ['hot', 88],\n",
    "    'Saturday': ['humid', 92],\n",
    "    'Sunday': ['rain', 84]}\n",
    "```\n",
    ":::{admonition} Answer\n",
    ":class: dropdown\n",
    "1. `list = [obj1, obj2, obj3,...]`\n",
    "```\n",
    "dictionary ={\n",
    "    key1:value1,\n",
    "    key2:value2,\n",
    "    key3:value3,\n",
    "    ...}\n",
    "```\n",
    "2. 0\n",
    "3. `l_greeness[2] = 0` OR `l_greeness[len(l_greeness)-3] = 0`\n",
    "<br>`l_greeness[4] = 0` OR `l_greeness[len(l_greeness)-1] = 0`\n",
    "4. `d_weather['Wednesday'] = ['humid', 87]`"
   ]
  },
  {
   "cell_type": "code",
   "execution_count": 1,
   "id": "31af5b92-f136-4301-9d0e-f662dbcb5911",
   "metadata": {},
   "outputs": [],
   "source": [
    "#1\n"
   ]
  },
  {
   "cell_type": "code",
   "execution_count": 2,
   "id": "b8f4ed2c-8ca6-47be-8f57-20416d60a739",
   "metadata": {},
   "outputs": [],
   "source": [
    "#2\n"
   ]
  },
  {
   "cell_type": "code",
   "execution_count": 3,
   "id": "56cb33bf-52e0-4351-ab39-caccab9f4a4b",
   "metadata": {},
   "outputs": [],
   "source": [
    "#3\n"
   ]
  },
  {
   "cell_type": "code",
   "execution_count": 4,
   "id": "4fc2420e-c1d4-4eef-b1ac-1d8dd98df908",
   "metadata": {},
   "outputs": [],
   "source": [
    "#4\n"
   ]
  },
  {
   "cell_type": "markdown",
   "id": "b10c4291-bd4b-46fd-bd9f-051162685742",
   "metadata": {},
   "source": [
    "## ⛩️*Context - More Data Structures!*\n",
    "### 📚 Libraries\n",
    "There is a set of **libraries** that come inherent to Python, and many others that you can `import`. You can even create your own library! Libraries typically contain functions that are useful to us. You only need to import a library once per file.\n",
    "<br><br>Think of libraries as you would an \"extras\" package in a boardgame like Settlers of Catan. You can play the game without the \"extras\", but you can only do certain moves in the game with it!\n",
    "\n",
    ":::{admonition} Coding Vocabulary\n",
    ":class: warning\n",
    "**Library** - a collection of precompiled code; contain objects and functions that are useful for specific tasks\n",
    "<br>*You download libraries through the `import` command.*\n",
    "<br> *You can shorten their name for ease of use through: `import` 'name of library' `as` 'nickname'*"
   ]
  },
  {
   "cell_type": "markdown",
   "id": "e874c4ed-a263-441c-a91f-8968686cbf10",
   "metadata": {},
   "source": [
    "Let's look at a common library - `math`"
   ]
  },
  {
   "cell_type": "code",
   "execution_count": 5,
   "id": "70077fd8-8dbb-442c-a683-3bbb55e8d238",
   "metadata": {},
   "outputs": [],
   "source": [
    "#Let's import the math library into our notebook\n",
    "import math"
   ]
  },
  {
   "cell_type": "markdown",
   "id": "7f6bc31e-3507-43e6-9973-5752879a2632",
   "metadata": {},
   "source": [
    "How do I use a libary? How do I know what functions a libary holds?\n",
    "<br><br>\n",
    "Let's use the `help()` function."
   ]
  },
  {
   "cell_type": "code",
   "execution_count": 6,
   "id": "75079048-c023-459b-adc2-3ef9b42a7f97",
   "metadata": {},
   "outputs": [],
   "source": [
    "#help(math)"
   ]
  },
  {
   "cell_type": "markdown",
   "id": "0d4ebdb3-e91e-4c92-93c5-a6f77fc6eeb4",
   "metadata": {},
   "source": [
    "The `help()` function give you basic information about the library, most importantly, the functions is holds. \n",
    "<br> -->You can use this `help()` command for more than libaries. Try it out for a few of the other data types or structures we've learnt about! A lot of the output may not make total sense right now, but that's okay -- reading it can help build your understanding of how the computer thinks."
   ]
  },
  {
   "cell_type": "markdown",
   "id": "a4501e0f-7b57-4398-9964-c97f6eb9e595",
   "metadata": {},
   "source": [
    ":::{admonition} Patterns\n",
    ":class: note\n",
    "Knowing the formal names of things helps in many ways. Here, it helps us know what arguement to give the `help()` function."
   ]
  },
  {
   "cell_type": "code",
   "execution_count": 7,
   "id": "ab699278-24c9-4a34-b014-04a9b8ef0ba6",
   "metadata": {},
   "outputs": [
    {
     "data": {
      "text/plain": [
       "8"
      ]
     },
     "execution_count": 7,
     "metadata": {},
     "output_type": "execute_result"
    }
   ],
   "source": [
    "#Let's use the pow() function from math\n",
    "pow(2,3)"
   ]
  },
  {
   "cell_type": "markdown",
   "id": "80a6729d-f450-4740-9811-2cd2af78a5f5",
   "metadata": {},
   "source": [
    "The `math` library has many useful functions, but it is not the main focus of today's lesson. If you would like to learn more about the math library, check out [this link](https://docs.python.org/3/library/math.html0)."
   ]
  },
  {
   "cell_type": "markdown",
   "id": "88a23a7b-c62f-4fe4-8af6-929692c08e52",
   "metadata": {},
   "source": [
    "## 🐼🐼🐼🐼Pandas🐼🐼🐼🐼\n",
    "`pandas` is a **Dataframe** that models **tabular data**.\n",
    ":::{admonition} Coding Vocabulary\n",
    ":class: warning\n",
    "**Dataframe** - a 2-dimensional labeled data structure\n",
    ":::\n",
    ":::{admonition} Coding Vocabulary\n",
    ":class: warning\n",
    "**Tabular Data** - data labeled in rows(horizontal) and columns(vertical); a form of 2-dimensional data\n",
    "\n",
    ":::\n",
    "You have likely worked with most tabular data in Microsoft Excel or Google Sheets before. It commonly comes in a CSV (comma-separated values) file format. It is common for tabular data to be indexed, which uniquely labels the rows. The `pandas` dataframe in Python will give you much more capability for analysis once you have a grasps of the associated concept and syntax."
   ]
  },
  {
   "cell_type": "markdown",
   "id": "22313fef-302e-4d30-b769-d70777f70779",
   "metadata": {},
   "source": [
    "<img src=\"https://www.statology.org/wp-content/uploads/2022/03/tabular2.jpg\" width = 620>\n",
    "\n",
    "Image from [statology](https://www.statology.org/tabular-data/)."
   ]
  },
  {
   "cell_type": "code",
   "execution_count": 8,
   "id": "0ad013f7-aa59-4cda-bec6-21d10a4927bf",
   "metadata": {},
   "outputs": [],
   "source": [
    "#Let's jump-in and import this dataframe!\n",
    "import pandas as pd\n",
    "#Now, rather than calling to the pandas library, we can call to pd. This is a common shorthand for the pandas dataframe.\n",
    "#pd is basically a nickname we gave pandas here"
   ]
  },
  {
   "cell_type": "markdown",
   "id": "b84d58c2-b00e-42cb-b770-efbac9d0d987",
   "metadata": {},
   "source": [
    "### 🐼`pandas` Data Structures\n",
    "There are 2 primary `pandas` data structures:\n",
    "1. `pd.Series`\n",
    "2. `pd.DataFrame`\n",
    "\n",
    "The primary structure of these two is a `DataFrame` and a `Series` is a simpler version of a `DataFrame`. It is important to know both for when you run into errors."
   ]
  },
  {
   "cell_type": "markdown",
   "id": "ee046c0d-6d57-475e-b23f-3d0bc718e3fe",
   "metadata": {},
   "source": [
    "### 🖼️ **`pd.DataFrame`** 🖼️\n",
    "In `pandas`, a `dataframe` is a data structure organized into rows and columns. The columns are named and the rows are indexed (beginning at 0).\n",
    "<br><br> The general *syntax* for creating a dataframe is:\n",
    "```\n",
    "dataframe_name = pd.DataFrame(data)\n",
    "```\n",
    "<br><br>Let's make a dataframe from something we know -- a dictionary!"
   ]
  },
  {
   "cell_type": "code",
   "execution_count": 9,
   "id": "3a5c6edd-122b-471b-bbfa-246a59d693c2",
   "metadata": {},
   "outputs": [],
   "source": [
    "#Let's create some data - a dictionary.\n",
    "d_city_temps = {\n",
    "    'New York': [90, 94, 88, 89, 96, 95],\n",
    "    'Los Angeles': [98, 99, 96, 92, 90, 97],\n",
    "    'Chicago': [85, 88, 89, 78, 90, 91]}"
   ]
  },
  {
   "cell_type": "code",
   "execution_count": 34,
   "id": "f75ca16a-29ea-460c-a099-a1d2cd4990ec",
   "metadata": {
    "scrolled": true
   },
   "outputs": [
    {
     "data": {
      "text/html": [
       "<div>\n",
       "<style scoped>\n",
       "    .dataframe tbody tr th:only-of-type {\n",
       "        vertical-align: middle;\n",
       "    }\n",
       "\n",
       "    .dataframe tbody tr th {\n",
       "        vertical-align: top;\n",
       "    }\n",
       "\n",
       "    .dataframe thead th {\n",
       "        text-align: right;\n",
       "    }\n",
       "</style>\n",
       "<table border=\"1\" class=\"dataframe\">\n",
       "  <thead>\n",
       "    <tr style=\"text-align: right;\">\n",
       "      <th></th>\n",
       "      <th>New York</th>\n",
       "      <th>Los Angeles</th>\n",
       "      <th>Chicago</th>\n",
       "    </tr>\n",
       "  </thead>\n",
       "  <tbody>\n",
       "    <tr>\n",
       "      <th>0</th>\n",
       "      <td>90</td>\n",
       "      <td>98</td>\n",
       "      <td>85</td>\n",
       "    </tr>\n",
       "    <tr>\n",
       "      <th>1</th>\n",
       "      <td>94</td>\n",
       "      <td>99</td>\n",
       "      <td>88</td>\n",
       "    </tr>\n",
       "    <tr>\n",
       "      <th>2</th>\n",
       "      <td>88</td>\n",
       "      <td>96</td>\n",
       "      <td>89</td>\n",
       "    </tr>\n",
       "    <tr>\n",
       "      <th>3</th>\n",
       "      <td>89</td>\n",
       "      <td>92</td>\n",
       "      <td>78</td>\n",
       "    </tr>\n",
       "    <tr>\n",
       "      <th>4</th>\n",
       "      <td>96</td>\n",
       "      <td>90</td>\n",
       "      <td>90</td>\n",
       "    </tr>\n",
       "    <tr>\n",
       "      <th>5</th>\n",
       "      <td>95</td>\n",
       "      <td>97</td>\n",
       "      <td>91</td>\n",
       "    </tr>\n",
       "  </tbody>\n",
       "</table>\n",
       "</div>"
      ],
      "text/plain": [
       "   New York  Los Angeles  Chicago\n",
       "0        90           98       85\n",
       "1        94           99       88\n",
       "2        88           96       89\n",
       "3        89           92       78\n",
       "4        96           90       90\n",
       "5        95           97       91"
      ]
     },
     "execution_count": 34,
     "metadata": {},
     "output_type": "execute_result"
    }
   ],
   "source": [
    "#Now, let's use our pandas library to convert our dictionary into a dataframe!\n",
    "df_city_temps = pd.DataFrame(d_city_temps)\n",
    "df_city_temps"
   ]
  },
  {
   "cell_type": "markdown",
   "id": "39e76ba6-5318-49e4-bd85-fca572b164d2",
   "metadata": {},
   "source": [
    "We just created our first dataframe! WOOHOO, happy dance!🕺🏻👯\n",
    "<br><br> We can see the <span style='color: red;'>columns</span> are <span style='color: red;'>labeled</span> by the city names, or what were the <span style='color: red;'>keys</span> of the dictionary. The <span style='color: green;'>rows</span> are <span style='color: green;'>indexed</span>, beginning at <span style='color: green;'>0</span>.\n",
    "<br><br> If you want to index your own rows, the *syntax* is:\n",
    "```\n",
    "dataframe_name = pd.DataFrame(data, index = index_list_name)\n",
    "```"
   ]
  },
  {
   "cell_type": "code",
   "execution_count": 35,
   "id": "33ea89d6-7acc-4a2b-bd5f-fb58f0b9cd62",
   "metadata": {},
   "outputs": [],
   "source": [
    "#Let's revisit the same dictionary as before.\n",
    "d_city_temps = {\n",
    "    'New York': [90, 94, 88, 89, 96, 95],\n",
    "    'Los Angeles': [98, 99, 96, 92, 90, 97],\n",
    "    'Chicago': [85, 88, 89, 78, 90, 91]}"
   ]
  },
  {
   "cell_type": "code",
   "execution_count": 36,
   "id": "16295998-ff1c-4a61-a731-dfff0f1bffc4",
   "metadata": {
    "scrolled": true
   },
   "outputs": [
    {
     "ename": "ValueError",
     "evalue": "Length of values (6) does not match length of index (3)",
     "output_type": "error",
     "traceback": [
      "\u001b[0;31m---------------------------------------------------------------------------\u001b[0m",
      "\u001b[0;31mValueError\u001b[0m                                Traceback (most recent call last)",
      "Cell \u001b[0;32mIn[36], line 3\u001b[0m\n\u001b[1;32m      1\u001b[0m \u001b[38;5;66;03m#Let's index our own rows. First, we must create a list.\u001b[39;00m\n\u001b[1;32m      2\u001b[0m d_index \u001b[38;5;241m=\u001b[39m [\u001b[38;5;124m'\u001b[39m\u001b[38;5;124mJun1\u001b[39m\u001b[38;5;124m'\u001b[39m,\u001b[38;5;124m'\u001b[39m\u001b[38;5;124mJun2\u001b[39m\u001b[38;5;124m'\u001b[39m,\u001b[38;5;124m'\u001b[39m\u001b[38;5;124mJun3\u001b[39m\u001b[38;5;124m'\u001b[39m]\n\u001b[0;32m----> 3\u001b[0m df_city_temps \u001b[38;5;241m=\u001b[39m \u001b[43mpd\u001b[49m\u001b[38;5;241;43m.\u001b[39;49m\u001b[43mDataFrame\u001b[49m\u001b[43m(\u001b[49m\u001b[43md_city_temps\u001b[49m\u001b[43m,\u001b[49m\u001b[43mindex\u001b[49m\u001b[43m \u001b[49m\u001b[38;5;241;43m=\u001b[39;49m\u001b[43m \u001b[49m\u001b[43md_index\u001b[49m\u001b[43m)\u001b[49m\n\u001b[1;32m      4\u001b[0m df_city_temps\n",
      "File \u001b[0;32m/srv/conda/envs/notebook/lib/python3.11/site-packages/pandas/core/frame.py:778\u001b[0m, in \u001b[0;36mDataFrame.__init__\u001b[0;34m(self, data, index, columns, dtype, copy)\u001b[0m\n\u001b[1;32m    772\u001b[0m     mgr \u001b[38;5;241m=\u001b[39m \u001b[38;5;28mself\u001b[39m\u001b[38;5;241m.\u001b[39m_init_mgr(\n\u001b[1;32m    773\u001b[0m         data, axes\u001b[38;5;241m=\u001b[39m{\u001b[38;5;124m\"\u001b[39m\u001b[38;5;124mindex\u001b[39m\u001b[38;5;124m\"\u001b[39m: index, \u001b[38;5;124m\"\u001b[39m\u001b[38;5;124mcolumns\u001b[39m\u001b[38;5;124m\"\u001b[39m: columns}, dtype\u001b[38;5;241m=\u001b[39mdtype, copy\u001b[38;5;241m=\u001b[39mcopy\n\u001b[1;32m    774\u001b[0m     )\n\u001b[1;32m    776\u001b[0m \u001b[38;5;28;01melif\u001b[39;00m \u001b[38;5;28misinstance\u001b[39m(data, \u001b[38;5;28mdict\u001b[39m):\n\u001b[1;32m    777\u001b[0m     \u001b[38;5;66;03m# GH#38939 de facto copy defaults to False only in non-dict cases\u001b[39;00m\n\u001b[0;32m--> 778\u001b[0m     mgr \u001b[38;5;241m=\u001b[39m \u001b[43mdict_to_mgr\u001b[49m\u001b[43m(\u001b[49m\u001b[43mdata\u001b[49m\u001b[43m,\u001b[49m\u001b[43m \u001b[49m\u001b[43mindex\u001b[49m\u001b[43m,\u001b[49m\u001b[43m \u001b[49m\u001b[43mcolumns\u001b[49m\u001b[43m,\u001b[49m\u001b[43m \u001b[49m\u001b[43mdtype\u001b[49m\u001b[38;5;241;43m=\u001b[39;49m\u001b[43mdtype\u001b[49m\u001b[43m,\u001b[49m\u001b[43m \u001b[49m\u001b[43mcopy\u001b[49m\u001b[38;5;241;43m=\u001b[39;49m\u001b[43mcopy\u001b[49m\u001b[43m,\u001b[49m\u001b[43m \u001b[49m\u001b[43mtyp\u001b[49m\u001b[38;5;241;43m=\u001b[39;49m\u001b[43mmanager\u001b[49m\u001b[43m)\u001b[49m\n\u001b[1;32m    779\u001b[0m \u001b[38;5;28;01melif\u001b[39;00m \u001b[38;5;28misinstance\u001b[39m(data, ma\u001b[38;5;241m.\u001b[39mMaskedArray):\n\u001b[1;32m    780\u001b[0m     \u001b[38;5;28;01mfrom\u001b[39;00m \u001b[38;5;21;01mnumpy\u001b[39;00m\u001b[38;5;21;01m.\u001b[39;00m\u001b[38;5;21;01mma\u001b[39;00m \u001b[38;5;28;01mimport\u001b[39;00m mrecords\n",
      "File \u001b[0;32m/srv/conda/envs/notebook/lib/python3.11/site-packages/pandas/core/internals/construction.py:503\u001b[0m, in \u001b[0;36mdict_to_mgr\u001b[0;34m(data, index, columns, dtype, typ, copy)\u001b[0m\n\u001b[1;32m    499\u001b[0m     \u001b[38;5;28;01melse\u001b[39;00m:\n\u001b[1;32m    500\u001b[0m         \u001b[38;5;66;03m# dtype check to exclude e.g. range objects, scalars\u001b[39;00m\n\u001b[1;32m    501\u001b[0m         arrays \u001b[38;5;241m=\u001b[39m [x\u001b[38;5;241m.\u001b[39mcopy() \u001b[38;5;28;01mif\u001b[39;00m \u001b[38;5;28mhasattr\u001b[39m(x, \u001b[38;5;124m\"\u001b[39m\u001b[38;5;124mdtype\u001b[39m\u001b[38;5;124m\"\u001b[39m) \u001b[38;5;28;01melse\u001b[39;00m x \u001b[38;5;28;01mfor\u001b[39;00m x \u001b[38;5;129;01min\u001b[39;00m arrays]\n\u001b[0;32m--> 503\u001b[0m \u001b[38;5;28;01mreturn\u001b[39;00m \u001b[43marrays_to_mgr\u001b[49m\u001b[43m(\u001b[49m\u001b[43marrays\u001b[49m\u001b[43m,\u001b[49m\u001b[43m \u001b[49m\u001b[43mcolumns\u001b[49m\u001b[43m,\u001b[49m\u001b[43m \u001b[49m\u001b[43mindex\u001b[49m\u001b[43m,\u001b[49m\u001b[43m \u001b[49m\u001b[43mdtype\u001b[49m\u001b[38;5;241;43m=\u001b[39;49m\u001b[43mdtype\u001b[49m\u001b[43m,\u001b[49m\u001b[43m \u001b[49m\u001b[43mtyp\u001b[49m\u001b[38;5;241;43m=\u001b[39;49m\u001b[43mtyp\u001b[49m\u001b[43m,\u001b[49m\u001b[43m \u001b[49m\u001b[43mconsolidate\u001b[49m\u001b[38;5;241;43m=\u001b[39;49m\u001b[43mcopy\u001b[49m\u001b[43m)\u001b[49m\n",
      "File \u001b[0;32m/srv/conda/envs/notebook/lib/python3.11/site-packages/pandas/core/internals/construction.py:119\u001b[0m, in \u001b[0;36marrays_to_mgr\u001b[0;34m(arrays, columns, index, dtype, verify_integrity, typ, consolidate)\u001b[0m\n\u001b[1;32m    116\u001b[0m         index \u001b[38;5;241m=\u001b[39m ensure_index(index)\n\u001b[1;32m    118\u001b[0m     \u001b[38;5;66;03m# don't force copy because getting jammed in an ndarray anyway\u001b[39;00m\n\u001b[0;32m--> 119\u001b[0m     arrays, refs \u001b[38;5;241m=\u001b[39m \u001b[43m_homogenize\u001b[49m\u001b[43m(\u001b[49m\u001b[43marrays\u001b[49m\u001b[43m,\u001b[49m\u001b[43m \u001b[49m\u001b[43mindex\u001b[49m\u001b[43m,\u001b[49m\u001b[43m \u001b[49m\u001b[43mdtype\u001b[49m\u001b[43m)\u001b[49m\n\u001b[1;32m    120\u001b[0m     \u001b[38;5;66;03m# _homogenize ensures\u001b[39;00m\n\u001b[1;32m    121\u001b[0m     \u001b[38;5;66;03m#  - all(len(x) == len(index) for x in arrays)\u001b[39;00m\n\u001b[1;32m    122\u001b[0m     \u001b[38;5;66;03m#  - all(x.ndim == 1 for x in arrays)\u001b[39;00m\n\u001b[0;32m   (...)\u001b[0m\n\u001b[1;32m    125\u001b[0m \n\u001b[1;32m    126\u001b[0m \u001b[38;5;28;01melse\u001b[39;00m:\n\u001b[1;32m    127\u001b[0m     index \u001b[38;5;241m=\u001b[39m ensure_index(index)\n",
      "File \u001b[0;32m/srv/conda/envs/notebook/lib/python3.11/site-packages/pandas/core/internals/construction.py:630\u001b[0m, in \u001b[0;36m_homogenize\u001b[0;34m(data, index, dtype)\u001b[0m\n\u001b[1;32m    627\u001b[0m         val \u001b[38;5;241m=\u001b[39m lib\u001b[38;5;241m.\u001b[39mfast_multiget(val, oindex\u001b[38;5;241m.\u001b[39m_values, default\u001b[38;5;241m=\u001b[39mnp\u001b[38;5;241m.\u001b[39mnan)\n\u001b[1;32m    629\u001b[0m     val \u001b[38;5;241m=\u001b[39m sanitize_array(val, index, dtype\u001b[38;5;241m=\u001b[39mdtype, copy\u001b[38;5;241m=\u001b[39m\u001b[38;5;28;01mFalse\u001b[39;00m)\n\u001b[0;32m--> 630\u001b[0m     \u001b[43mcom\u001b[49m\u001b[38;5;241;43m.\u001b[39;49m\u001b[43mrequire_length_match\u001b[49m\u001b[43m(\u001b[49m\u001b[43mval\u001b[49m\u001b[43m,\u001b[49m\u001b[43m \u001b[49m\u001b[43mindex\u001b[49m\u001b[43m)\u001b[49m\n\u001b[1;32m    631\u001b[0m     refs\u001b[38;5;241m.\u001b[39mappend(\u001b[38;5;28;01mNone\u001b[39;00m)\n\u001b[1;32m    633\u001b[0m homogenized\u001b[38;5;241m.\u001b[39mappend(val)\n",
      "File \u001b[0;32m/srv/conda/envs/notebook/lib/python3.11/site-packages/pandas/core/common.py:573\u001b[0m, in \u001b[0;36mrequire_length_match\u001b[0;34m(data, index)\u001b[0m\n\u001b[1;32m    569\u001b[0m \u001b[38;5;250m\u001b[39m\u001b[38;5;124;03m\"\"\"\u001b[39;00m\n\u001b[1;32m    570\u001b[0m \u001b[38;5;124;03mCheck the length of data matches the length of the index.\u001b[39;00m\n\u001b[1;32m    571\u001b[0m \u001b[38;5;124;03m\"\"\"\u001b[39;00m\n\u001b[1;32m    572\u001b[0m \u001b[38;5;28;01mif\u001b[39;00m \u001b[38;5;28mlen\u001b[39m(data) \u001b[38;5;241m!=\u001b[39m \u001b[38;5;28mlen\u001b[39m(index):\n\u001b[0;32m--> 573\u001b[0m     \u001b[38;5;28;01mraise\u001b[39;00m \u001b[38;5;167;01mValueError\u001b[39;00m(\n\u001b[1;32m    574\u001b[0m         \u001b[38;5;124m\"\u001b[39m\u001b[38;5;124mLength of values \u001b[39m\u001b[38;5;124m\"\u001b[39m\n\u001b[1;32m    575\u001b[0m         \u001b[38;5;124mf\u001b[39m\u001b[38;5;124m\"\u001b[39m\u001b[38;5;124m(\u001b[39m\u001b[38;5;132;01m{\u001b[39;00m\u001b[38;5;28mlen\u001b[39m(data)\u001b[38;5;132;01m}\u001b[39;00m\u001b[38;5;124m) \u001b[39m\u001b[38;5;124m\"\u001b[39m\n\u001b[1;32m    576\u001b[0m         \u001b[38;5;124m\"\u001b[39m\u001b[38;5;124mdoes not match length of index \u001b[39m\u001b[38;5;124m\"\u001b[39m\n\u001b[1;32m    577\u001b[0m         \u001b[38;5;124mf\u001b[39m\u001b[38;5;124m\"\u001b[39m\u001b[38;5;124m(\u001b[39m\u001b[38;5;132;01m{\u001b[39;00m\u001b[38;5;28mlen\u001b[39m(index)\u001b[38;5;132;01m}\u001b[39;00m\u001b[38;5;124m)\u001b[39m\u001b[38;5;124m\"\u001b[39m\n\u001b[1;32m    578\u001b[0m     )\n",
      "\u001b[0;31mValueError\u001b[0m: Length of values (6) does not match length of index (3)"
     ]
    }
   ],
   "source": [
    "#Let's index our own rows. First, we must create a list.\n",
    "d_index = ['Jun1','Jun2','Jun3']\n",
    "df_city_temps = pd.DataFrame(d_city_temps,index = d_index)\n",
    "df_city_temps"
   ]
  },
  {
   "cell_type": "markdown",
   "id": "65a2506c-db84-4f24-953b-f6bcbd296859",
   "metadata": {},
   "source": [
    ":::{admonition} **ValueError**\n",
    ":class: danger\n",
    "**ValueError** - occurs when the value condition of two things necessary for an operation to occur are not met.\n",
    "<br>*Tip* - check the length of your objects."
   ]
  },
  {
   "cell_type": "code",
   "execution_count": 37,
   "id": "2a7e3486-5c71-42eb-8716-0fbdced61e7a",
   "metadata": {},
   "outputs": [
    {
     "data": {
      "text/html": [
       "<div>\n",
       "<style scoped>\n",
       "    .dataframe tbody tr th:only-of-type {\n",
       "        vertical-align: middle;\n",
       "    }\n",
       "\n",
       "    .dataframe tbody tr th {\n",
       "        vertical-align: top;\n",
       "    }\n",
       "\n",
       "    .dataframe thead th {\n",
       "        text-align: right;\n",
       "    }\n",
       "</style>\n",
       "<table border=\"1\" class=\"dataframe\">\n",
       "  <thead>\n",
       "    <tr style=\"text-align: right;\">\n",
       "      <th></th>\n",
       "      <th>New York</th>\n",
       "      <th>Los Angeles</th>\n",
       "      <th>Chicago</th>\n",
       "    </tr>\n",
       "  </thead>\n",
       "  <tbody>\n",
       "    <tr>\n",
       "      <th>Jun1</th>\n",
       "      <td>90</td>\n",
       "      <td>98</td>\n",
       "      <td>85</td>\n",
       "    </tr>\n",
       "    <tr>\n",
       "      <th>Jun2</th>\n",
       "      <td>94</td>\n",
       "      <td>99</td>\n",
       "      <td>88</td>\n",
       "    </tr>\n",
       "    <tr>\n",
       "      <th>Jun3</th>\n",
       "      <td>88</td>\n",
       "      <td>96</td>\n",
       "      <td>89</td>\n",
       "    </tr>\n",
       "    <tr>\n",
       "      <th>Jun4</th>\n",
       "      <td>89</td>\n",
       "      <td>92</td>\n",
       "      <td>78</td>\n",
       "    </tr>\n",
       "    <tr>\n",
       "      <th>Jun5</th>\n",
       "      <td>96</td>\n",
       "      <td>90</td>\n",
       "      <td>90</td>\n",
       "    </tr>\n",
       "    <tr>\n",
       "      <th>Jun6</th>\n",
       "      <td>95</td>\n",
       "      <td>97</td>\n",
       "      <td>91</td>\n",
       "    </tr>\n",
       "  </tbody>\n",
       "</table>\n",
       "</div>"
      ],
      "text/plain": [
       "      New York  Los Angeles  Chicago\n",
       "Jun1        90           98       85\n",
       "Jun2        94           99       88\n",
       "Jun3        88           96       89\n",
       "Jun4        89           92       78\n",
       "Jun5        96           90       90\n",
       "Jun6        95           97       91"
      ]
     },
     "execution_count": 37,
     "metadata": {},
     "output_type": "execute_result"
    }
   ],
   "source": [
    "#Let's fix it.\n",
    "d_index = ['Jun1','Jun2','Jun3','Jun4','Jun5','Jun6']\n",
    "df_city_temps = pd.DataFrame(d_city_temps,index = d_index)\n",
    "df_city_temps"
   ]
  },
  {
   "cell_type": "markdown",
   "id": "e8f2c021-3388-491d-ba85-a1bb6b18906d",
   "metadata": {},
   "source": [
    "### 🥭🍎🍌 **`pd.Series`** 🥭🍎🍌\n",
    "Let's look at a visual example of how a Series and DataFrame in `pandas` are related."
   ]
  },
  {
   "cell_type": "markdown",
   "id": "d6dc266c-186f-4179-b8d0-405386d01922",
   "metadata": {},
   "source": [
    "<img src=\"https://www.datasciencemadesimple.com/wp-content/uploads/2020/05/create-series-in-python-pandas-0.png\" width=620>\n",
    "\n",
    "_Image from \n",
    "[Data Science Made Simple](https://www.datasciencemadesimple.com/create-series-in-python-pandas/)._"
   ]
  },
  {
   "cell_type": "markdown",
   "id": "83ea7435-dbc9-45c9-9445-d2002262d356",
   "metadata": {},
   "source": [
    ":::{admonition} Coding Vocabulary\n",
    ":class: tip\n",
    "**Series** - a column of a `DataFrame`.\n",
    "<br> *Syntax* - `series#_name = dataframe_name['column#']`"
   ]
  },
  {
   "cell_type": "code",
   "execution_count": 14,
   "id": "63b92f80-feb6-419c-85a3-53bfd56fedf2",
   "metadata": {
    "scrolled": true
   },
   "outputs": [
    {
     "data": {
      "text/html": [
       "<div>\n",
       "<style scoped>\n",
       "    .dataframe tbody tr th:only-of-type {\n",
       "        vertical-align: middle;\n",
       "    }\n",
       "\n",
       "    .dataframe tbody tr th {\n",
       "        vertical-align: top;\n",
       "    }\n",
       "\n",
       "    .dataframe thead th {\n",
       "        text-align: right;\n",
       "    }\n",
       "</style>\n",
       "<table border=\"1\" class=\"dataframe\">\n",
       "  <thead>\n",
       "    <tr style=\"text-align: right;\">\n",
       "      <th></th>\n",
       "      <th>New York</th>\n",
       "      <th>Los Angeles</th>\n",
       "      <th>Chicago</th>\n",
       "    </tr>\n",
       "  </thead>\n",
       "  <tbody>\n",
       "    <tr>\n",
       "      <th>Jun1</th>\n",
       "      <td>90</td>\n",
       "      <td>98</td>\n",
       "      <td>85</td>\n",
       "    </tr>\n",
       "    <tr>\n",
       "      <th>Jun2</th>\n",
       "      <td>94</td>\n",
       "      <td>99</td>\n",
       "      <td>88</td>\n",
       "    </tr>\n",
       "    <tr>\n",
       "      <th>Jun3</th>\n",
       "      <td>88</td>\n",
       "      <td>96</td>\n",
       "      <td>89</td>\n",
       "    </tr>\n",
       "    <tr>\n",
       "      <th>Jun4</th>\n",
       "      <td>89</td>\n",
       "      <td>92</td>\n",
       "      <td>78</td>\n",
       "    </tr>\n",
       "    <tr>\n",
       "      <th>Jun5</th>\n",
       "      <td>96</td>\n",
       "      <td>90</td>\n",
       "      <td>90</td>\n",
       "    </tr>\n",
       "    <tr>\n",
       "      <th>Jun6</th>\n",
       "      <td>95</td>\n",
       "      <td>97</td>\n",
       "      <td>91</td>\n",
       "    </tr>\n",
       "  </tbody>\n",
       "</table>\n",
       "</div>"
      ],
      "text/plain": [
       "      New York  Los Angeles  Chicago\n",
       "Jun1        90           98       85\n",
       "Jun2        94           99       88\n",
       "Jun3        88           96       89\n",
       "Jun4        89           92       78\n",
       "Jun5        96           90       90\n",
       "Jun6        95           97       91"
      ]
     },
     "execution_count": 14,
     "metadata": {},
     "output_type": "execute_result"
    }
   ],
   "source": [
    "#Let's do an example.\n",
    "\n",
    "#Let's view our dataframe from above.\n",
    "df_city_temps"
   ]
  },
  {
   "cell_type": "code",
   "execution_count": 15,
   "id": "ebfb7243-e9f5-4272-97e4-aa82c98b9755",
   "metadata": {
    "scrolled": true
   },
   "outputs": [
    {
     "data": {
      "text/plain": [
       "Jun1    85\n",
       "Jun2    88\n",
       "Jun3    89\n",
       "Jun4    78\n",
       "Jun5    90\n",
       "Jun6    91\n",
       "Name: Chicago, dtype: int64"
      ]
     },
     "execution_count": 15,
     "metadata": {},
     "output_type": "execute_result"
    }
   ],
   "source": [
    "#Let's print the series for Chicago.\n",
    "df_city_temps['Chicago']"
   ]
  },
  {
   "cell_type": "code",
   "execution_count": 45,
   "id": "8fd00e2a-f18f-461a-bac5-856e19692f6b",
   "metadata": {
    "scrolled": true
   },
   "outputs": [
    {
     "data": {
      "text/plain": [
       "0    Newport News\n",
       "1         Hampton\n",
       "2        Richmond\n",
       "3       Arlington\n",
       "dtype: object"
      ]
     },
     "execution_count": 45,
     "metadata": {},
     "output_type": "execute_result"
    }
   ],
   "source": [
    "#You can also use the Series method to create a Series.\n",
    "#Consider the list.\n",
    "l_cities = ['Newport News', 'Hampton', 'Richmond','Arlington']\n",
    "\n",
    "#Let's structure this data into a Series now.\n",
    "ser_cities = pd.Series(l_cities)\n",
    "ser_cities"
   ]
  },
  {
   "cell_type": "code",
   "execution_count": 43,
   "id": "838fa241-bb7a-407d-8d71-d9691ba63337",
   "metadata": {},
   "outputs": [
    {
     "data": {
      "text/plain": [
       "5    Newport News\n",
       "6         Hampton\n",
       "7        Richmond\n",
       "8       Arlington\n",
       "dtype: object"
      ]
     },
     "execution_count": 43,
     "metadata": {},
     "output_type": "execute_result"
    }
   ],
   "source": [
    "#Let's index it now!\n",
    "l_index_cities = [5, 6, 7, 8]\n",
    "ser_cities = pd.Series(l_cities, index = l_index_cities)\n",
    "ser_cities"
   ]
  },
  {
   "cell_type": "markdown",
   "id": "081764e2-db36-4464-8786-9b6c4936c4aa",
   "metadata": {},
   "source": [
    "## *Indexing and Accessing Values in DataFrame*"
   ]
  },
  {
   "cell_type": "markdown",
   "id": "62625f77-0508-4558-9139-a45864da1e7f",
   "metadata": {},
   "source": [
    "Although `pandas dataframe` is a new data structure, the rules of indexing and accessing are very similar to what we have already seen."
   ]
  },
  {
   "cell_type": "markdown",
   "id": "74526a92-6f9f-4a41-8126-16639bd090d1",
   "metadata": {},
   "source": [
    "### 🔎Viewing a Column\n",
    "This is identical to how we viewed a Series of a DataFrame above.\n",
    "```\n",
    "dataframe_name[column_name]\n",
    "```"
   ]
  },
  {
   "cell_type": "markdown",
   "id": "974c857d-99d4-4e96-95f3-cbf61ba28326",
   "metadata": {},
   "source": [
    "### 🔎Viewing a Row\n",
    "To view a row in a `DataFrame`, we must use the `.iloc()` method. `iloc` is short for integer location, which makes sense if you think about the concept of indexing. The syntax to apply `.iloc()` is the same as it was for other methods.\n",
    "```\n",
    "dataframe_name.iloc[index]\n",
    "```\n",
    "If you want to view a range of index, you can use the same notation as you did for lists, `[start:end+1]`."
   ]
  },
  {
   "cell_type": "code",
   "execution_count": 55,
   "id": "05e6e59f-45a5-4901-849e-51d00345ec14",
   "metadata": {},
   "outputs": [
    {
     "data": {
      "text/html": [
       "<div>\n",
       "<style scoped>\n",
       "    .dataframe tbody tr th:only-of-type {\n",
       "        vertical-align: middle;\n",
       "    }\n",
       "\n",
       "    .dataframe tbody tr th {\n",
       "        vertical-align: top;\n",
       "    }\n",
       "\n",
       "    .dataframe thead th {\n",
       "        text-align: right;\n",
       "    }\n",
       "</style>\n",
       "<table border=\"1\" class=\"dataframe\">\n",
       "  <thead>\n",
       "    <tr style=\"text-align: right;\">\n",
       "      <th></th>\n",
       "      <th>New York</th>\n",
       "      <th>Los Angeles</th>\n",
       "      <th>Chicago</th>\n",
       "    </tr>\n",
       "  </thead>\n",
       "  <tbody>\n",
       "    <tr>\n",
       "      <th>Jun1</th>\n",
       "      <td>90</td>\n",
       "      <td>98</td>\n",
       "      <td>85</td>\n",
       "    </tr>\n",
       "    <tr>\n",
       "      <th>Jun2</th>\n",
       "      <td>94</td>\n",
       "      <td>99</td>\n",
       "      <td>88</td>\n",
       "    </tr>\n",
       "    <tr>\n",
       "      <th>Jun3</th>\n",
       "      <td>88</td>\n",
       "      <td>96</td>\n",
       "      <td>89</td>\n",
       "    </tr>\n",
       "    <tr>\n",
       "      <th>Jun4</th>\n",
       "      <td>89</td>\n",
       "      <td>92</td>\n",
       "      <td>78</td>\n",
       "    </tr>\n",
       "    <tr>\n",
       "      <th>Jun5</th>\n",
       "      <td>96</td>\n",
       "      <td>90</td>\n",
       "      <td>90</td>\n",
       "    </tr>\n",
       "    <tr>\n",
       "      <th>Jun6</th>\n",
       "      <td>95</td>\n",
       "      <td>97</td>\n",
       "      <td>91</td>\n",
       "    </tr>\n",
       "  </tbody>\n",
       "</table>\n",
       "</div>"
      ],
      "text/plain": [
       "      New York  Los Angeles  Chicago\n",
       "Jun1        90           98       85\n",
       "Jun2        94           99       88\n",
       "Jun3        88           96       89\n",
       "Jun4        89           92       78\n",
       "Jun5        96           90       90\n",
       "Jun6        95           97       91"
      ]
     },
     "execution_count": 55,
     "metadata": {},
     "output_type": "execute_result"
    }
   ],
   "source": [
    "#Let's view our dataframe.\n",
    "df_city_temps"
   ]
  },
  {
   "cell_type": "code",
   "execution_count": 61,
   "id": "30aca229-8761-4a1f-b4f4-1648b2edf53f",
   "metadata": {
    "scrolled": true
   },
   "outputs": [
    {
     "data": {
      "text/plain": [
       "New York       88\n",
       "Los Angeles    96\n",
       "Chicago        89\n",
       "Name: 2, dtype: int64"
      ]
     },
     "execution_count": 61,
     "metadata": {},
     "output_type": "execute_result"
    }
   ],
   "source": [
    "#Let's view the row from Jun3.\n",
    "df_city_temps.iloc[2]"
   ]
  },
  {
   "cell_type": "code",
   "execution_count": 63,
   "id": "50e69f69-4db9-4db2-b75a-50efcbb8ba34",
   "metadata": {
    "scrolled": true
   },
   "outputs": [
    {
     "data": {
      "text/html": [
       "<div>\n",
       "<style scoped>\n",
       "    .dataframe tbody tr th:only-of-type {\n",
       "        vertical-align: middle;\n",
       "    }\n",
       "\n",
       "    .dataframe tbody tr th {\n",
       "        vertical-align: top;\n",
       "    }\n",
       "\n",
       "    .dataframe thead th {\n",
       "        text-align: right;\n",
       "    }\n",
       "</style>\n",
       "<table border=\"1\" class=\"dataframe\">\n",
       "  <thead>\n",
       "    <tr style=\"text-align: right;\">\n",
       "      <th></th>\n",
       "      <th>New York</th>\n",
       "      <th>Los Angeles</th>\n",
       "      <th>Chicago</th>\n",
       "    </tr>\n",
       "  </thead>\n",
       "  <tbody>\n",
       "    <tr>\n",
       "      <th>1</th>\n",
       "      <td>94</td>\n",
       "      <td>99</td>\n",
       "      <td>88</td>\n",
       "    </tr>\n",
       "    <tr>\n",
       "      <th>2</th>\n",
       "      <td>88</td>\n",
       "      <td>96</td>\n",
       "      <td>89</td>\n",
       "    </tr>\n",
       "    <tr>\n",
       "      <th>3</th>\n",
       "      <td>89</td>\n",
       "      <td>92</td>\n",
       "      <td>78</td>\n",
       "    </tr>\n",
       "  </tbody>\n",
       "</table>\n",
       "</div>"
      ],
      "text/plain": [
       "   New York  Los Angeles  Chicago\n",
       "1        94           99       88\n",
       "2        88           96       89\n",
       "3        89           92       78"
      ]
     },
     "execution_count": 63,
     "metadata": {},
     "output_type": "execute_result"
    }
   ],
   "source": [
    "#Let's view the data from Jun2 - Jun4.\n",
    "df_city_temps.iloc[1:4]"
   ]
  },
  {
   "cell_type": "markdown",
   "id": "5373997d-d552-4274-9906-3e4b4da6087b",
   "metadata": {},
   "source": [
    "### Viewing a data point.\n",
    "To view a data point, we combine the syntax for viewing a row and a column.\n",
    "<br> *Syntax* \n",
    "```\n",
    "dataframe_name['column_name'].iloc[index]\n",
    "```"
   ]
  },
  {
   "cell_type": "code",
   "execution_count": 73,
   "id": "8d54c338-0bb6-4cd6-8cac-4810ae5ae3a5",
   "metadata": {},
   "outputs": [
    {
     "data": {
      "text/plain": [
       "97"
      ]
     },
     "execution_count": 73,
     "metadata": {},
     "output_type": "execute_result"
    }
   ],
   "source": [
    "#Example 1 - Level 1 \n",
    "#Let's view the temperature in Los Angeles on June 6th.\n",
    "df_city_temps['Los Angeles'].iloc[5]"
   ]
  },
  {
   "cell_type": "code",
   "execution_count": 69,
   "id": "013c44b7-057b-4c56-a871-44be6b5cb846",
   "metadata": {
    "scrolled": true
   },
   "outputs": [
    {
     "data": {
      "text/plain": [
       "91"
      ]
     },
     "execution_count": 69,
     "metadata": {},
     "output_type": "execute_result"
    }
   ],
   "source": [
    "#Example 2 - Level 2\n",
    "#Let's view the temperature in Chicago on June 6th.\n",
    "df_city_temps['Chicago'].iloc[len(df_city_temps)+1]"
   ]
  },
  {
   "cell_type": "markdown",
   "id": "44307879-faac-4900-9e0c-5e900290a888",
   "metadata": {},
   "source": [
    "Knowing June 6th was our last row of data. The index value of the end of any data structure is always `length - 1`."
   ]
  },
  {
   "cell_type": "markdown",
   "id": "4281b5fb-e655-4c23-a15c-de2d69c19cb3",
   "metadata": {},
   "source": [
    ":::{admonition} ❤️‍🩹IndexError\n",
    ":class: danger\n",
    "**IndexError** - occurs when the index does not exist or it is incompatible"
   ]
  },
  {
   "cell_type": "code",
   "execution_count": 71,
   "id": "f3a9f5f0-543d-4755-923c-4727565cb884",
   "metadata": {},
   "outputs": [
    {
     "data": {
      "text/plain": [
       "91"
      ]
     },
     "execution_count": 71,
     "metadata": {},
     "output_type": "execute_result"
    }
   ],
   "source": [
    "#Let's fix it!\n",
    "df_city_temps['Chicago'].iloc[len(df_city_temps)-1]"
   ]
  },
  {
   "cell_type": "markdown",
   "id": "b96ba3a9-befe-47c2-bb30-102577c6c202",
   "metadata": {},
   "source": [
    ":::{admonition} Important Note\n",
    ":class: tip\n",
    "When viewing rows or columns of your `DataFrame`, remember that you are not changing anything about the `DataFrame`, you are simply viewing certain parts of it. The `DataFrame` itself does not change until you use the assignment operator `=` again to assign something new to the variable name.\n",
    ":::\n",
    "Althought we viewed different parts of df_city_temps, check below and see what the variable actually looks like."
   ]
  },
  {
   "cell_type": "code",
   "execution_count": 64,
   "id": "9e23d2ab-de5a-4069-aaa3-e159899ebd2d",
   "metadata": {
    "scrolled": true
   },
   "outputs": [
    {
     "data": {
      "text/html": [
       "<div>\n",
       "<style scoped>\n",
       "    .dataframe tbody tr th:only-of-type {\n",
       "        vertical-align: middle;\n",
       "    }\n",
       "\n",
       "    .dataframe tbody tr th {\n",
       "        vertical-align: top;\n",
       "    }\n",
       "\n",
       "    .dataframe thead th {\n",
       "        text-align: right;\n",
       "    }\n",
       "</style>\n",
       "<table border=\"1\" class=\"dataframe\">\n",
       "  <thead>\n",
       "    <tr style=\"text-align: right;\">\n",
       "      <th></th>\n",
       "      <th>New York</th>\n",
       "      <th>Los Angeles</th>\n",
       "      <th>Chicago</th>\n",
       "    </tr>\n",
       "  </thead>\n",
       "  <tbody>\n",
       "    <tr>\n",
       "      <th>0</th>\n",
       "      <td>90</td>\n",
       "      <td>98</td>\n",
       "      <td>85</td>\n",
       "    </tr>\n",
       "    <tr>\n",
       "      <th>1</th>\n",
       "      <td>94</td>\n",
       "      <td>99</td>\n",
       "      <td>88</td>\n",
       "    </tr>\n",
       "    <tr>\n",
       "      <th>2</th>\n",
       "      <td>88</td>\n",
       "      <td>96</td>\n",
       "      <td>89</td>\n",
       "    </tr>\n",
       "    <tr>\n",
       "      <th>3</th>\n",
       "      <td>89</td>\n",
       "      <td>92</td>\n",
       "      <td>78</td>\n",
       "    </tr>\n",
       "    <tr>\n",
       "      <th>4</th>\n",
       "      <td>96</td>\n",
       "      <td>90</td>\n",
       "      <td>90</td>\n",
       "    </tr>\n",
       "    <tr>\n",
       "      <th>5</th>\n",
       "      <td>95</td>\n",
       "      <td>97</td>\n",
       "      <td>91</td>\n",
       "    </tr>\n",
       "  </tbody>\n",
       "</table>\n",
       "</div>"
      ],
      "text/plain": [
       "   New York  Los Angeles  Chicago\n",
       "0        90           98       85\n",
       "1        94           99       88\n",
       "2        88           96       89\n",
       "3        89           92       78\n",
       "4        96           90       90\n",
       "5        95           97       91"
      ]
     },
     "execution_count": 64,
     "metadata": {},
     "output_type": "execute_result"
    }
   ],
   "source": [
    "df_city_temps"
   ]
  },
  {
   "cell_type": "markdown",
   "id": "70a13662-9131-46fb-abcf-fd6dde87c09d",
   "metadata": {},
   "source": [
    "It is still the same!"
   ]
  },
  {
   "cell_type": "markdown",
   "id": "10d5f140-67fc-4859-b624-31eb67ee0862",
   "metadata": {},
   "source": [
    "## 🛑 **FILEPATH ACTIVITY** 🛑"
   ]
  },
  {
   "cell_type": "markdown",
   "id": "4ebc716c-c0dc-4154-9284-db2e3ab8a527",
   "metadata": {},
   "source": [
    "## Let's use some real data❗️❗️❗️"
   ]
  },
  {
   "cell_type": "markdown",
   "id": "99167e89-c8f2-4166-9722-132ffadaf8e0",
   "metadata": {},
   "source": [
    "To work with the `pandas` library we'll use some real data.\n",
    "\n",
    "First let's open up the file.  We aren't going to dive into this too much so right now just notice that the function I used is `pd.read_csv()` ([more info on .read_csv()](https://pandas.pydata.org/pandas-docs/stable/reference/api/pandas.read_csv.html))."
   ]
  },
  {
   "cell_type": "code",
   "execution_count": 33,
   "id": "6a4f7138-ad9b-4dde-80ab-e315235a9dfb",
   "metadata": {},
   "outputs": [],
   "source": [
    "# Let's read in the data.\n",
    "import pandas as pd\n",
    "df_soil = pd.read_csv('./Soil_Microbial_Biomass_C_N_P_vertical.csv')"
   ]
  },
  {
   "cell_type": "markdown",
   "id": "340fe255-a25c-4d74-ba64-a0435035a03b",
   "metadata": {},
   "source": [
    "Go to shared-public --> DATA to find this file!\n",
    "<br> --> copy and paste it into the same folder as this notebook you are working in."
   ]
  },
  {
   "cell_type": "code",
   "execution_count": 34,
   "id": "193e3fb4-0986-4828-839f-7eb81323f22a",
   "metadata": {
    "scrolled": true
   },
   "outputs": [
    {
     "data": {
      "text/html": [
       "<div>\n",
       "<style scoped>\n",
       "    .dataframe tbody tr th:only-of-type {\n",
       "        vertical-align: middle;\n",
       "    }\n",
       "\n",
       "    .dataframe tbody tr th {\n",
       "        vertical-align: top;\n",
       "    }\n",
       "\n",
       "    .dataframe thead th {\n",
       "        text-align: right;\n",
       "    }\n",
       "</style>\n",
       "<table border=\"1\" class=\"dataframe\">\n",
       "  <thead>\n",
       "    <tr style=\"text-align: right;\">\n",
       "      <th></th>\n",
       "      <th>Country</th>\n",
       "      <th>Biome</th>\n",
       "      <th>Latitude</th>\n",
       "      <th>Longitude</th>\n",
       "      <th>Elevation</th>\n",
       "      <th>Vegetation</th>\n",
       "      <th>MAT</th>\n",
       "      <th>MAP</th>\n",
       "      <th>Soil_microbial_biomass_carbon</th>\n",
       "      <th>Soil_microbial_biomass_nitrogen</th>\n",
       "      <th>...</th>\n",
       "      <th>Total_organic_phosphorus</th>\n",
       "      <th>pH</th>\n",
       "      <th>Date</th>\n",
       "      <th>Upper_depth</th>\n",
       "      <th>Lower_depth</th>\n",
       "      <th>Depth</th>\n",
       "      <th>Note</th>\n",
       "      <th>Method</th>\n",
       "      <th>Geographical_coordinate</th>\n",
       "      <th>Reference_number</th>\n",
       "    </tr>\n",
       "  </thead>\n",
       "  <tbody>\n",
       "    <tr>\n",
       "      <th>0</th>\n",
       "      <td>Character</td>\n",
       "      <td>Character</td>\n",
       "      <td>decimal degrees</td>\n",
       "      <td>decimal degrees</td>\n",
       "      <td>Character</td>\n",
       "      <td>Character</td>\n",
       "      <td>degrees C</td>\n",
       "      <td>mm</td>\n",
       "      <td>mmol Kg-1</td>\n",
       "      <td>mmol Kg-1</td>\n",
       "      <td>...</td>\n",
       "      <td>mmol Kg-1</td>\n",
       "      <td>pH units</td>\n",
       "      <td>Character</td>\n",
       "      <td>cm</td>\n",
       "      <td>cm</td>\n",
       "      <td>Character</td>\n",
       "      <td>Character</td>\n",
       "      <td>Character</td>\n",
       "      <td>Character</td>\n",
       "      <td>Integer</td>\n",
       "    </tr>\n",
       "    <tr>\n",
       "      <th>1</th>\n",
       "      <td>Germany</td>\n",
       "      <td>cropland</td>\n",
       "      <td>NaN</td>\n",
       "      <td>NaN</td>\n",
       "      <td>NaN</td>\n",
       "      <td>Oil-seed rape</td>\n",
       "      <td>NaN</td>\n",
       "      <td>NaN</td>\n",
       "      <td>13.16666667</td>\n",
       "      <td>NaN</td>\n",
       "      <td>...</td>\n",
       "      <td>NaN</td>\n",
       "      <td>5.3</td>\n",
       "      <td>NaN</td>\n",
       "      <td>0-10</td>\n",
       "      <td>0</td>\n",
       "      <td>10</td>\n",
       "      <td>NaN</td>\n",
       "      <td>FE</td>\n",
       "      <td>NaN</td>\n",
       "      <td>91</td>\n",
       "    </tr>\n",
       "    <tr>\n",
       "      <th>2</th>\n",
       "      <td>Germany</td>\n",
       "      <td>cropland</td>\n",
       "      <td>NaN</td>\n",
       "      <td>NaN</td>\n",
       "      <td>NaN</td>\n",
       "      <td>Oil-seed rape</td>\n",
       "      <td>NaN</td>\n",
       "      <td>NaN</td>\n",
       "      <td>14.83333333</td>\n",
       "      <td>NaN</td>\n",
       "      <td>...</td>\n",
       "      <td>NaN</td>\n",
       "      <td>5.4</td>\n",
       "      <td>NaN</td>\n",
       "      <td>10-20</td>\n",
       "      <td>10</td>\n",
       "      <td>20</td>\n",
       "      <td>NaN</td>\n",
       "      <td>FE</td>\n",
       "      <td>NaN</td>\n",
       "      <td>91</td>\n",
       "    </tr>\n",
       "    <tr>\n",
       "      <th>3</th>\n",
       "      <td>Germany</td>\n",
       "      <td>cropland</td>\n",
       "      <td>NaN</td>\n",
       "      <td>NaN</td>\n",
       "      <td>NaN</td>\n",
       "      <td>Oil-seed rape</td>\n",
       "      <td>NaN</td>\n",
       "      <td>NaN</td>\n",
       "      <td>14.41666667</td>\n",
       "      <td>NaN</td>\n",
       "      <td>...</td>\n",
       "      <td>NaN</td>\n",
       "      <td>5.4</td>\n",
       "      <td>NaN</td>\n",
       "      <td>20-30</td>\n",
       "      <td>20</td>\n",
       "      <td>30</td>\n",
       "      <td>NaN</td>\n",
       "      <td>FE</td>\n",
       "      <td>NaN</td>\n",
       "      <td>91</td>\n",
       "    </tr>\n",
       "    <tr>\n",
       "      <th>4</th>\n",
       "      <td>Germany</td>\n",
       "      <td>cropland</td>\n",
       "      <td>NaN</td>\n",
       "      <td>NaN</td>\n",
       "      <td>NaN</td>\n",
       "      <td>Oil-seed rape</td>\n",
       "      <td>NaN</td>\n",
       "      <td>NaN</td>\n",
       "      <td>5.083333333</td>\n",
       "      <td>NaN</td>\n",
       "      <td>...</td>\n",
       "      <td>NaN</td>\n",
       "      <td>5.7</td>\n",
       "      <td>NaN</td>\n",
       "      <td>30-40</td>\n",
       "      <td>30</td>\n",
       "      <td>40</td>\n",
       "      <td>NaN</td>\n",
       "      <td>FE</td>\n",
       "      <td>NaN</td>\n",
       "      <td>91</td>\n",
       "    </tr>\n",
       "    <tr>\n",
       "      <th>...</th>\n",
       "      <td>...</td>\n",
       "      <td>...</td>\n",
       "      <td>...</td>\n",
       "      <td>...</td>\n",
       "      <td>...</td>\n",
       "      <td>...</td>\n",
       "      <td>...</td>\n",
       "      <td>...</td>\n",
       "      <td>...</td>\n",
       "      <td>...</td>\n",
       "      <td>...</td>\n",
       "      <td>...</td>\n",
       "      <td>...</td>\n",
       "      <td>...</td>\n",
       "      <td>...</td>\n",
       "      <td>...</td>\n",
       "      <td>...</td>\n",
       "      <td>...</td>\n",
       "      <td>...</td>\n",
       "      <td>...</td>\n",
       "      <td>...</td>\n",
       "    </tr>\n",
       "    <tr>\n",
       "      <th>171</th>\n",
       "      <td>Israel</td>\n",
       "      <td>Desert</td>\n",
       "      <td>31.07</td>\n",
       "      <td>34.7</td>\n",
       "      <td>610</td>\n",
       "      <td>control</td>\n",
       "      <td>18</td>\n",
       "      <td>90</td>\n",
       "      <td>1.666666667</td>\n",
       "      <td>NaN</td>\n",
       "      <td>...</td>\n",
       "      <td>NaN</td>\n",
       "      <td>NaN</td>\n",
       "      <td>2010</td>\n",
       "      <td>0~10</td>\n",
       "      <td>0</td>\n",
       "      <td>10</td>\n",
       "      <td>dry season</td>\n",
       "      <td>FI</td>\n",
       "      <td>NaN</td>\n",
       "      <td>181</td>\n",
       "    </tr>\n",
       "    <tr>\n",
       "      <th>172</th>\n",
       "      <td>Israel</td>\n",
       "      <td>Desert</td>\n",
       "      <td>31.07</td>\n",
       "      <td>34.7</td>\n",
       "      <td>610</td>\n",
       "      <td>control</td>\n",
       "      <td>18</td>\n",
       "      <td>90</td>\n",
       "      <td>5.833333333</td>\n",
       "      <td>NaN</td>\n",
       "      <td>...</td>\n",
       "      <td>NaN</td>\n",
       "      <td>NaN</td>\n",
       "      <td>2010</td>\n",
       "      <td>10~20</td>\n",
       "      <td>10</td>\n",
       "      <td>20</td>\n",
       "      <td>dry season</td>\n",
       "      <td>FI</td>\n",
       "      <td>NaN</td>\n",
       "      <td>181</td>\n",
       "    </tr>\n",
       "    <tr>\n",
       "      <th>173</th>\n",
       "      <td>Israel</td>\n",
       "      <td>Desert</td>\n",
       "      <td>31.07</td>\n",
       "      <td>34.7</td>\n",
       "      <td>610</td>\n",
       "      <td>control</td>\n",
       "      <td>18</td>\n",
       "      <td>90</td>\n",
       "      <td>9.166666667</td>\n",
       "      <td>NaN</td>\n",
       "      <td>...</td>\n",
       "      <td>NaN</td>\n",
       "      <td>NaN</td>\n",
       "      <td>2010</td>\n",
       "      <td>20~30</td>\n",
       "      <td>20</td>\n",
       "      <td>30</td>\n",
       "      <td>dry season</td>\n",
       "      <td>FI</td>\n",
       "      <td>NaN</td>\n",
       "      <td>181</td>\n",
       "    </tr>\n",
       "    <tr>\n",
       "      <th>174</th>\n",
       "      <td>Israel</td>\n",
       "      <td>Desert</td>\n",
       "      <td>31.07</td>\n",
       "      <td>34.7</td>\n",
       "      <td>610</td>\n",
       "      <td>control</td>\n",
       "      <td>18</td>\n",
       "      <td>90</td>\n",
       "      <td>3.333333333</td>\n",
       "      <td>NaN</td>\n",
       "      <td>...</td>\n",
       "      <td>NaN</td>\n",
       "      <td>NaN</td>\n",
       "      <td>2010</td>\n",
       "      <td>30~40</td>\n",
       "      <td>30</td>\n",
       "      <td>40</td>\n",
       "      <td>dry season</td>\n",
       "      <td>FI</td>\n",
       "      <td>NaN</td>\n",
       "      <td>181</td>\n",
       "    </tr>\n",
       "    <tr>\n",
       "      <th>175</th>\n",
       "      <td>Israel</td>\n",
       "      <td>Desert</td>\n",
       "      <td>31.07</td>\n",
       "      <td>34.7</td>\n",
       "      <td>610</td>\n",
       "      <td>control</td>\n",
       "      <td>18</td>\n",
       "      <td>90</td>\n",
       "      <td>3</td>\n",
       "      <td>NaN</td>\n",
       "      <td>...</td>\n",
       "      <td>NaN</td>\n",
       "      <td>NaN</td>\n",
       "      <td>2010</td>\n",
       "      <td>40~50</td>\n",
       "      <td>40</td>\n",
       "      <td>50</td>\n",
       "      <td>dry season</td>\n",
       "      <td>FI</td>\n",
       "      <td>NaN</td>\n",
       "      <td>181</td>\n",
       "    </tr>\n",
       "  </tbody>\n",
       "</table>\n",
       "<p>176 rows × 23 columns</p>\n",
       "</div>"
      ],
      "text/plain": [
       "       Country      Biome         Latitude        Longitude  Elevation  \\\n",
       "0    Character  Character  decimal degrees  decimal degrees  Character   \n",
       "1      Germany   cropland              NaN              NaN        NaN   \n",
       "2      Germany   cropland              NaN              NaN        NaN   \n",
       "3      Germany   cropland              NaN              NaN        NaN   \n",
       "4      Germany   cropland              NaN              NaN        NaN   \n",
       "..         ...        ...              ...              ...        ...   \n",
       "171     Israel     Desert            31.07             34.7        610   \n",
       "172     Israel     Desert            31.07             34.7        610   \n",
       "173     Israel     Desert            31.07             34.7        610   \n",
       "174     Israel     Desert            31.07             34.7        610   \n",
       "175     Israel     Desert            31.07             34.7        610   \n",
       "\n",
       "        Vegetation        MAT  MAP Soil_microbial_biomass_carbon  \\\n",
       "0        Character  degrees C   mm                     mmol Kg-1   \n",
       "1    Oil-seed rape        NaN  NaN                   13.16666667   \n",
       "2    Oil-seed rape        NaN  NaN                   14.83333333   \n",
       "3    Oil-seed rape        NaN  NaN                   14.41666667   \n",
       "4    Oil-seed rape        NaN  NaN                   5.083333333   \n",
       "..             ...        ...  ...                           ...   \n",
       "171        control         18   90                   1.666666667   \n",
       "172        control         18   90                   5.833333333   \n",
       "173        control         18   90                   9.166666667   \n",
       "174        control         18   90                   3.333333333   \n",
       "175        control         18   90                             3   \n",
       "\n",
       "    Soil_microbial_biomass_nitrogen  ... Total_organic_phosphorus        pH  \\\n",
       "0                         mmol Kg-1  ...                mmol Kg-1  pH units   \n",
       "1                               NaN  ...                      NaN       5.3   \n",
       "2                               NaN  ...                      NaN       5.4   \n",
       "3                               NaN  ...                      NaN       5.4   \n",
       "4                               NaN  ...                      NaN       5.7   \n",
       "..                              ...  ...                      ...       ...   \n",
       "171                             NaN  ...                      NaN       NaN   \n",
       "172                             NaN  ...                      NaN       NaN   \n",
       "173                             NaN  ...                      NaN       NaN   \n",
       "174                             NaN  ...                      NaN       NaN   \n",
       "175                             NaN  ...                      NaN       NaN   \n",
       "\n",
       "          Date Upper_depth Lower_depth      Depth        Note     Method  \\\n",
       "0    Character          cm          cm  Character   Character  Character   \n",
       "1          NaN        0-10           0         10         NaN         FE   \n",
       "2          NaN       10-20          10         20         NaN         FE   \n",
       "3          NaN       20-30          20         30         NaN         FE   \n",
       "4          NaN       30-40          30         40         NaN         FE   \n",
       "..         ...         ...         ...        ...         ...        ...   \n",
       "171       2010        0~10           0         10  dry season         FI   \n",
       "172       2010       10~20          10         20  dry season         FI   \n",
       "173       2010       20~30          20         30  dry season         FI   \n",
       "174       2010       30~40          30         40  dry season         FI   \n",
       "175       2010       40~50          40         50  dry season         FI   \n",
       "\n",
       "    Geographical_coordinate Reference_number  \n",
       "0                 Character          Integer  \n",
       "1                       NaN               91  \n",
       "2                       NaN               91  \n",
       "3                       NaN               91  \n",
       "4                       NaN               91  \n",
       "..                      ...              ...  \n",
       "171                     NaN              181  \n",
       "172                     NaN              181  \n",
       "173                     NaN              181  \n",
       "174                     NaN              181  \n",
       "175                     NaN              181  \n",
       "\n",
       "[176 rows x 23 columns]"
      ]
     },
     "execution_count": 34,
     "metadata": {},
     "output_type": "execute_result"
    }
   ],
   "source": [
    "# Check it out 👀\n",
    "df_soil"
   ]
  },
  {
   "cell_type": "markdown",
   "id": "11fde5ea-2f99-4b42-ba40-29312c998d5e",
   "metadata": {},
   "source": [
    "**Option 2**: This piece of code below also works and is more specialized to tab-seperated sheets.  I chose to use the more generalized `read_csv` function above.\n",
    "\n",
    "```\n",
    "df_soil = pd.read_table('./Soil_Microbial_Biomass_C_N_P_vertical.csv')\n",
    "```"
   ]
  },
  {
   "cell_type": "markdown",
   "id": "953093e9-0643-4b3e-a8f2-e5b0fa5614f9",
   "metadata": {},
   "source": [
    "### Filepaths\n",
    "\n",
    "Your computer is organized **hierarchically**. Your home directory is king.\n",
    "\n",
    "Every file has a **filepath**.\n",
    "\n",
    ":::{admonition} Coding Vocabulary\n",
    ":class: warning\n",
    "**Filepath** - A string that describes the location of a file on a computer. Filepath can be either relative, with respect to a particular file, or absolute, with respect to the highest file in the file structure.\n",
    ":::\n",
    "\n",
    "Looking at our data loading statement, let's notice a few things:\n",
    "* `.` - the period at the beginning tells the computer to start looking for data in the same place that the code is being run in.\n",
    "* `/` - forward slashes signal that you have entered a new folder. (Windows machines natively use a back slash `\\`, but the Anaconda powershell can handle either)\n",
    "* `.csv` - this is the file extension, which tells us what type of file format the data is stored in an informs us how we open it\n",
    "\n",
    "Choosing to start your filepath with a `.` is called specificying a **relative filepath**, because you are telling the computer to start looking for the file relative to where the file is being run. If you move this file to another place on your computer and don't move the data with it the import statment won't work anymore. \n",
    "\n",
    "The alternative to a relative filepath is an **aboslute filepath**, in which case you start your file path at the very tippy top of your computer's organizational structure (the root directory).\n",
    "\n",
    "Note: **directory** is the same thing as a folder."
   ]
  },
  {
   "cell_type": "markdown",
   "id": "4be35f62-a8c7-4daa-890f-f0a9dbcc4bb0",
   "metadata": {},
   "source": [
    "To loop back to our example, we put together our filepath by defining the following directions for our computer:\n",
    "1. start by specifing the current directory as the starting point: `.`\n",
    "2. Told the computer to open `/`\n",
    "3. choose the file named: `'Soil_Microbial_Biomass_C_N_P_vertical.csv'`\n",
    "\n",
    "🎉 And there we have our file"
   ]
  },
  {
   "cell_type": "markdown",
   "id": "c1f57664-a88f-48ce-a863-dc8dd6d580c3",
   "metadata": {},
   "source": [
    "### Back to our data\n",
    "This data isn't super meaningful at first glance.  Often (or really always), scientific researchers have to **data clean**, which is a process of analyzing your data and removing uneccessary or invalid points. You will likely spend a chunk of your time on this.  (This is sometimes refered to as the [80/20 rule](https://www.infoworld.com/article/3228245/the-80-20-data-science-dilemma.html) for data science and there is a lot of chatter that goes into trying to reverse it)."
   ]
  },
  {
   "cell_type": "code",
   "execution_count": 35,
   "id": "0e050502-9d15-4da4-b873-bd43346c2d56",
   "metadata": {
    "scrolled": true
   },
   "outputs": [
    {
     "data": {
      "text/html": [
       "<div>\n",
       "<style scoped>\n",
       "    .dataframe tbody tr th:only-of-type {\n",
       "        vertical-align: middle;\n",
       "    }\n",
       "\n",
       "    .dataframe tbody tr th {\n",
       "        vertical-align: top;\n",
       "    }\n",
       "\n",
       "    .dataframe thead th {\n",
       "        text-align: right;\n",
       "    }\n",
       "</style>\n",
       "<table border=\"1\" class=\"dataframe\">\n",
       "  <thead>\n",
       "    <tr style=\"text-align: right;\">\n",
       "      <th></th>\n",
       "      <th>Biome</th>\n",
       "      <th>Vegetation</th>\n",
       "      <th>Soil_microbial_biomass_carbon</th>\n",
       "      <th>Depth</th>\n",
       "      <th>pH</th>\n",
       "    </tr>\n",
       "  </thead>\n",
       "  <tbody>\n",
       "    <tr>\n",
       "      <th>0</th>\n",
       "      <td>Character</td>\n",
       "      <td>Character</td>\n",
       "      <td>mmol Kg-1</td>\n",
       "      <td>Character</td>\n",
       "      <td>pH units</td>\n",
       "    </tr>\n",
       "    <tr>\n",
       "      <th>1</th>\n",
       "      <td>cropland</td>\n",
       "      <td>Oil-seed rape</td>\n",
       "      <td>13.16666667</td>\n",
       "      <td>10</td>\n",
       "      <td>5.3</td>\n",
       "    </tr>\n",
       "    <tr>\n",
       "      <th>2</th>\n",
       "      <td>cropland</td>\n",
       "      <td>Oil-seed rape</td>\n",
       "      <td>14.83333333</td>\n",
       "      <td>20</td>\n",
       "      <td>5.4</td>\n",
       "    </tr>\n",
       "    <tr>\n",
       "      <th>3</th>\n",
       "      <td>cropland</td>\n",
       "      <td>Oil-seed rape</td>\n",
       "      <td>14.41666667</td>\n",
       "      <td>30</td>\n",
       "      <td>5.4</td>\n",
       "    </tr>\n",
       "    <tr>\n",
       "      <th>4</th>\n",
       "      <td>cropland</td>\n",
       "      <td>Oil-seed rape</td>\n",
       "      <td>5.083333333</td>\n",
       "      <td>40</td>\n",
       "      <td>5.7</td>\n",
       "    </tr>\n",
       "    <tr>\n",
       "      <th>...</th>\n",
       "      <td>...</td>\n",
       "      <td>...</td>\n",
       "      <td>...</td>\n",
       "      <td>...</td>\n",
       "      <td>...</td>\n",
       "    </tr>\n",
       "    <tr>\n",
       "      <th>171</th>\n",
       "      <td>Desert</td>\n",
       "      <td>control</td>\n",
       "      <td>1.666666667</td>\n",
       "      <td>10</td>\n",
       "      <td>NaN</td>\n",
       "    </tr>\n",
       "    <tr>\n",
       "      <th>172</th>\n",
       "      <td>Desert</td>\n",
       "      <td>control</td>\n",
       "      <td>5.833333333</td>\n",
       "      <td>20</td>\n",
       "      <td>NaN</td>\n",
       "    </tr>\n",
       "    <tr>\n",
       "      <th>173</th>\n",
       "      <td>Desert</td>\n",
       "      <td>control</td>\n",
       "      <td>9.166666667</td>\n",
       "      <td>30</td>\n",
       "      <td>NaN</td>\n",
       "    </tr>\n",
       "    <tr>\n",
       "      <th>174</th>\n",
       "      <td>Desert</td>\n",
       "      <td>control</td>\n",
       "      <td>3.333333333</td>\n",
       "      <td>40</td>\n",
       "      <td>NaN</td>\n",
       "    </tr>\n",
       "    <tr>\n",
       "      <th>175</th>\n",
       "      <td>Desert</td>\n",
       "      <td>control</td>\n",
       "      <td>3</td>\n",
       "      <td>50</td>\n",
       "      <td>NaN</td>\n",
       "    </tr>\n",
       "  </tbody>\n",
       "</table>\n",
       "<p>176 rows × 5 columns</p>\n",
       "</div>"
      ],
      "text/plain": [
       "         Biome     Vegetation Soil_microbial_biomass_carbon      Depth  \\\n",
       "0    Character      Character                     mmol Kg-1  Character   \n",
       "1     cropland  Oil-seed rape                   13.16666667         10   \n",
       "2     cropland  Oil-seed rape                   14.83333333         20   \n",
       "3     cropland  Oil-seed rape                   14.41666667         30   \n",
       "4     cropland  Oil-seed rape                   5.083333333         40   \n",
       "..         ...            ...                           ...        ...   \n",
       "171     Desert        control                   1.666666667         10   \n",
       "172     Desert        control                   5.833333333         20   \n",
       "173     Desert        control                   9.166666667         30   \n",
       "174     Desert        control                   3.333333333         40   \n",
       "175     Desert        control                             3         50   \n",
       "\n",
       "           pH  \n",
       "0    pH units  \n",
       "1         5.3  \n",
       "2         5.4  \n",
       "3         5.4  \n",
       "4         5.7  \n",
       "..        ...  \n",
       "171       NaN  \n",
       "172       NaN  \n",
       "173       NaN  \n",
       "174       NaN  \n",
       "175       NaN  \n",
       "\n",
       "[176 rows x 5 columns]"
      ]
     },
     "execution_count": 35,
     "metadata": {},
     "output_type": "execute_result"
    }
   ],
   "source": [
    "# There are a lot of variables here, so let's shorten our dataframe to a few variables\n",
    "df_soil = df_soil[['Biome', 'Vegetation', 'Soil_microbial_biomass_carbon', 'Depth', 'pH']]\n",
    "#The cleaner version\n",
    "df_soil"
   ]
  },
  {
   "cell_type": "markdown",
   "id": "7826449f-a66c-4b9a-87c0-e0bc81698d5c",
   "metadata": {},
   "source": [
    ":::{admonition} Vocabulary\n",
    ":class: warning\n",
    "**Data Cleaning:** The often necessary step of organizing and formatting a data source after it is opened."
   ]
  },
  {
   "cell_type": "markdown",
   "id": "528c2e38-44bf-4ad8-a954-df69b5dafa96",
   "metadata": {},
   "source": [
    "### 🎪 Accessing larger data"
   ]
  },
  {
   "cell_type": "markdown",
   "id": "5efcdafb-cdb1-4c50-b7b1-7fffd77cf7a3",
   "metadata": {},
   "source": [
    "Our example dataframes from the previous section were small enough that we could always see the whole thing just by printing it.  That won't usually be the case with real data. \n",
    "\n",
    "When the data is long there are other ways besides reading through it all to help you get a sense of the data.  One way is to get some overview statistics with the `.info()` or the `.describe()` methods."
   ]
  },
  {
   "cell_type": "markdown",
   "id": "f41b09a3-fd10-411d-88e7-f27176a6aa62",
   "metadata": {},
   "source": [
    "`.info()` returns:\n",
    "- data type and number of indexes\n",
    "- index values\n",
    "- columns with number of non-null values and data type\n",
    "- how much memory the object uses"
   ]
  },
  {
   "cell_type": "code",
   "execution_count": 36,
   "id": "f6b3a8af-022c-46eb-a1dc-9e299d32af24",
   "metadata": {},
   "outputs": [
    {
     "name": "stdout",
     "output_type": "stream",
     "text": [
      "<class 'pandas.core.frame.DataFrame'>\n",
      "RangeIndex: 176 entries, 0 to 175\n",
      "Data columns (total 5 columns):\n",
      " #   Column                         Non-Null Count  Dtype \n",
      "---  ------                         --------------  ----- \n",
      " 0   Biome                          176 non-null    object\n",
      " 1   Vegetation                     176 non-null    object\n",
      " 2   Soil_microbial_biomass_carbon  176 non-null    object\n",
      " 3   Depth                          176 non-null    object\n",
      " 4   pH                             90 non-null     object\n",
      "dtypes: object(5)\n",
      "memory usage: 7.0+ KB\n"
     ]
    }
   ],
   "source": [
    "df_soil.info()"
   ]
  },
  {
   "cell_type": "markdown",
   "id": "d2a4bfb1-1bc8-4aac-bd0a-dc9333b55e75",
   "metadata": {},
   "source": [
    "for each column `.describe()` returns:\n",
    "* \"count\" - number of non-null values\n",
    "* \"unique\" - number of different values\n",
    "* \"top\" - most common value\n",
    "* \"freq\" - how often the most common value occurs"
   ]
  },
  {
   "cell_type": "code",
   "execution_count": 37,
   "id": "f725b240-212d-4301-9b47-c0ead145812d",
   "metadata": {},
   "outputs": [
    {
     "data": {
      "text/html": [
       "<div>\n",
       "<style scoped>\n",
       "    .dataframe tbody tr th:only-of-type {\n",
       "        vertical-align: middle;\n",
       "    }\n",
       "\n",
       "    .dataframe tbody tr th {\n",
       "        vertical-align: top;\n",
       "    }\n",
       "\n",
       "    .dataframe thead th {\n",
       "        text-align: right;\n",
       "    }\n",
       "</style>\n",
       "<table border=\"1\" class=\"dataframe\">\n",
       "  <thead>\n",
       "    <tr style=\"text-align: right;\">\n",
       "      <th></th>\n",
       "      <th>Biome</th>\n",
       "      <th>Vegetation</th>\n",
       "      <th>Soil_microbial_biomass_carbon</th>\n",
       "      <th>Depth</th>\n",
       "      <th>pH</th>\n",
       "    </tr>\n",
       "  </thead>\n",
       "  <tbody>\n",
       "    <tr>\n",
       "      <th>count</th>\n",
       "      <td>176</td>\n",
       "      <td>176</td>\n",
       "      <td>176</td>\n",
       "      <td>176</td>\n",
       "      <td>90</td>\n",
       "    </tr>\n",
       "    <tr>\n",
       "      <th>unique</th>\n",
       "      <td>8</td>\n",
       "      <td>21</td>\n",
       "      <td>111</td>\n",
       "      <td>21</td>\n",
       "      <td>58</td>\n",
       "    </tr>\n",
       "    <tr>\n",
       "      <th>top</th>\n",
       "      <td>Desert</td>\n",
       "      <td>Carex pachystylis and Nuerad procumbens</td>\n",
       "      <td>2.5</td>\n",
       "      <td>20</td>\n",
       "      <td>7.4</td>\n",
       "    </tr>\n",
       "    <tr>\n",
       "      <th>freq</th>\n",
       "      <td>90</td>\n",
       "      <td>40</td>\n",
       "      <td>11</td>\n",
       "      <td>31</td>\n",
       "      <td>7</td>\n",
       "    </tr>\n",
       "  </tbody>\n",
       "</table>\n",
       "</div>"
      ],
      "text/plain": [
       "         Biome                               Vegetation  \\\n",
       "count      176                                      176   \n",
       "unique       8                                       21   \n",
       "top     Desert  Carex pachystylis and Nuerad procumbens   \n",
       "freq        90                                       40   \n",
       "\n",
       "       Soil_microbial_biomass_carbon Depth   pH  \n",
       "count                            176   176   90  \n",
       "unique                           111    21   58  \n",
       "top                              2.5    20  7.4  \n",
       "freq                              11    31    7  "
      ]
     },
     "execution_count": 37,
     "metadata": {},
     "output_type": "execute_result"
    }
   ],
   "source": [
    "df_soil.describe()"
   ]
  },
  {
   "cell_type": "markdown",
   "id": "a32d08b2-1699-451e-8fab-39587ec5b804",
   "metadata": {},
   "source": [
    ":::{admonition} 🌀 More Info: Viewing more rows\n",
    ":class: note, dropdown\n",
    "\n",
    "By default Jupyter will shorten the data and tell you that it has done that by putting the row of `...` in the middle. If you would like to change the default to show more rows or columns you can do that with:\n",
    "\n",
    "```\n",
    "# Here 20 is the number of rows you would like to display\n",
    "pd.set_option('display.max_rows', 20)\n",
    "```\n",
    "\n",
    ":::"
   ]
  },
  {
   "cell_type": "markdown",
   "id": "2cfbdae7-b33a-4fd1-8e0a-be726ec0ff9e",
   "metadata": {},
   "source": [
    "## Aggregations\n",
    "\n",
    "Another way to get a sense of your data is to run a few aggregations on the data, such as taking the max or min of specific columns. You also might need to do this as a part of your research."
   ]
  },
  {
   "cell_type": "code",
   "execution_count": 38,
   "id": "2bdbf7ba-f5be-4cb3-8f0e-6e1eef0e5885",
   "metadata": {},
   "outputs": [
    {
     "data": {
      "text/html": [
       "<div>\n",
       "<style scoped>\n",
       "    .dataframe tbody tr th:only-of-type {\n",
       "        vertical-align: middle;\n",
       "    }\n",
       "\n",
       "    .dataframe tbody tr th {\n",
       "        vertical-align: top;\n",
       "    }\n",
       "\n",
       "    .dataframe thead th {\n",
       "        text-align: right;\n",
       "    }\n",
       "</style>\n",
       "<table border=\"1\" class=\"dataframe\">\n",
       "  <thead>\n",
       "    <tr style=\"text-align: right;\">\n",
       "      <th></th>\n",
       "      <th>Biome</th>\n",
       "      <th>Vegetation</th>\n",
       "      <th>Soil_microbial_biomass_carbon</th>\n",
       "      <th>Depth</th>\n",
       "      <th>pH</th>\n",
       "    </tr>\n",
       "  </thead>\n",
       "  <tbody>\n",
       "    <tr>\n",
       "      <th>0</th>\n",
       "      <td>Character</td>\n",
       "      <td>Character</td>\n",
       "      <td>mmol Kg-1</td>\n",
       "      <td>Character</td>\n",
       "      <td>pH units</td>\n",
       "    </tr>\n",
       "    <tr>\n",
       "      <th>1</th>\n",
       "      <td>cropland</td>\n",
       "      <td>Oil-seed rape</td>\n",
       "      <td>13.16666667</td>\n",
       "      <td>10</td>\n",
       "      <td>5.3</td>\n",
       "    </tr>\n",
       "    <tr>\n",
       "      <th>2</th>\n",
       "      <td>cropland</td>\n",
       "      <td>Oil-seed rape</td>\n",
       "      <td>14.83333333</td>\n",
       "      <td>20</td>\n",
       "      <td>5.4</td>\n",
       "    </tr>\n",
       "    <tr>\n",
       "      <th>3</th>\n",
       "      <td>cropland</td>\n",
       "      <td>Oil-seed rape</td>\n",
       "      <td>14.41666667</td>\n",
       "      <td>30</td>\n",
       "      <td>5.4</td>\n",
       "    </tr>\n",
       "    <tr>\n",
       "      <th>4</th>\n",
       "      <td>cropland</td>\n",
       "      <td>Oil-seed rape</td>\n",
       "      <td>5.083333333</td>\n",
       "      <td>40</td>\n",
       "      <td>5.7</td>\n",
       "    </tr>\n",
       "    <tr>\n",
       "      <th>...</th>\n",
       "      <td>...</td>\n",
       "      <td>...</td>\n",
       "      <td>...</td>\n",
       "      <td>...</td>\n",
       "      <td>...</td>\n",
       "    </tr>\n",
       "    <tr>\n",
       "      <th>171</th>\n",
       "      <td>Desert</td>\n",
       "      <td>control</td>\n",
       "      <td>1.666666667</td>\n",
       "      <td>10</td>\n",
       "      <td>NaN</td>\n",
       "    </tr>\n",
       "    <tr>\n",
       "      <th>172</th>\n",
       "      <td>Desert</td>\n",
       "      <td>control</td>\n",
       "      <td>5.833333333</td>\n",
       "      <td>20</td>\n",
       "      <td>NaN</td>\n",
       "    </tr>\n",
       "    <tr>\n",
       "      <th>173</th>\n",
       "      <td>Desert</td>\n",
       "      <td>control</td>\n",
       "      <td>9.166666667</td>\n",
       "      <td>30</td>\n",
       "      <td>NaN</td>\n",
       "    </tr>\n",
       "    <tr>\n",
       "      <th>174</th>\n",
       "      <td>Desert</td>\n",
       "      <td>control</td>\n",
       "      <td>3.333333333</td>\n",
       "      <td>40</td>\n",
       "      <td>NaN</td>\n",
       "    </tr>\n",
       "    <tr>\n",
       "      <th>175</th>\n",
       "      <td>Desert</td>\n",
       "      <td>control</td>\n",
       "      <td>3</td>\n",
       "      <td>50</td>\n",
       "      <td>NaN</td>\n",
       "    </tr>\n",
       "  </tbody>\n",
       "</table>\n",
       "<p>176 rows × 5 columns</p>\n",
       "</div>"
      ],
      "text/plain": [
       "         Biome     Vegetation Soil_microbial_biomass_carbon      Depth  \\\n",
       "0    Character      Character                     mmol Kg-1  Character   \n",
       "1     cropland  Oil-seed rape                   13.16666667         10   \n",
       "2     cropland  Oil-seed rape                   14.83333333         20   \n",
       "3     cropland  Oil-seed rape                   14.41666667         30   \n",
       "4     cropland  Oil-seed rape                   5.083333333         40   \n",
       "..         ...            ...                           ...        ...   \n",
       "171     Desert        control                   1.666666667         10   \n",
       "172     Desert        control                   5.833333333         20   \n",
       "173     Desert        control                   9.166666667         30   \n",
       "174     Desert        control                   3.333333333         40   \n",
       "175     Desert        control                             3         50   \n",
       "\n",
       "           pH  \n",
       "0    pH units  \n",
       "1         5.3  \n",
       "2         5.4  \n",
       "3         5.4  \n",
       "4         5.7  \n",
       "..        ...  \n",
       "171       NaN  \n",
       "172       NaN  \n",
       "173       NaN  \n",
       "174       NaN  \n",
       "175       NaN  \n",
       "\n",
       "[176 rows x 5 columns]"
      ]
     },
     "execution_count": 38,
     "metadata": {},
     "output_type": "execute_result"
    }
   ],
   "source": [
    "df_soil"
   ]
  },
  {
   "cell_type": "code",
   "execution_count": 39,
   "id": "f08fe011-d31b-4356-b3ce-519b17330310",
   "metadata": {
    "tags": [
     "raises-exception"
    ]
   },
   "outputs": [],
   "source": [
    "#df_soil.max()"
   ]
  },
  {
   "cell_type": "markdown",
   "id": "5e3a7734-2619-4bf4-93d1-cae0a84a7037",
   "metadata": {},
   "source": [
    "That is a long error, but what it is telling us is that we have strings in our columns that are otherwise full of numbers, or floats. To find the max values we will need to first drop the nan values with `.dropna()`."
   ]
  },
  {
   "cell_type": "code",
   "execution_count": 40,
   "id": "bed885ad-c77c-4244-9531-377b138406c4",
   "metadata": {},
   "outputs": [
    {
     "data": {
      "text/html": [
       "<div>\n",
       "<style scoped>\n",
       "    .dataframe tbody tr th:only-of-type {\n",
       "        vertical-align: middle;\n",
       "    }\n",
       "\n",
       "    .dataframe tbody tr th {\n",
       "        vertical-align: top;\n",
       "    }\n",
       "\n",
       "    .dataframe thead th {\n",
       "        text-align: right;\n",
       "    }\n",
       "</style>\n",
       "<table border=\"1\" class=\"dataframe\">\n",
       "  <thead>\n",
       "    <tr style=\"text-align: right;\">\n",
       "      <th></th>\n",
       "      <th>Biome</th>\n",
       "      <th>Vegetation</th>\n",
       "      <th>Soil_microbial_biomass_carbon</th>\n",
       "      <th>Depth</th>\n",
       "      <th>pH</th>\n",
       "    </tr>\n",
       "  </thead>\n",
       "  <tbody>\n",
       "    <tr>\n",
       "      <th>0</th>\n",
       "      <td>Character</td>\n",
       "      <td>Character</td>\n",
       "      <td>mmol Kg-1</td>\n",
       "      <td>Character</td>\n",
       "      <td>pH units</td>\n",
       "    </tr>\n",
       "    <tr>\n",
       "      <th>1</th>\n",
       "      <td>cropland</td>\n",
       "      <td>Oil-seed rape</td>\n",
       "      <td>13.16666667</td>\n",
       "      <td>10</td>\n",
       "      <td>5.3</td>\n",
       "    </tr>\n",
       "    <tr>\n",
       "      <th>2</th>\n",
       "      <td>cropland</td>\n",
       "      <td>Oil-seed rape</td>\n",
       "      <td>14.83333333</td>\n",
       "      <td>20</td>\n",
       "      <td>5.4</td>\n",
       "    </tr>\n",
       "    <tr>\n",
       "      <th>3</th>\n",
       "      <td>cropland</td>\n",
       "      <td>Oil-seed rape</td>\n",
       "      <td>14.41666667</td>\n",
       "      <td>30</td>\n",
       "      <td>5.4</td>\n",
       "    </tr>\n",
       "    <tr>\n",
       "      <th>4</th>\n",
       "      <td>cropland</td>\n",
       "      <td>Oil-seed rape</td>\n",
       "      <td>5.083333333</td>\n",
       "      <td>40</td>\n",
       "      <td>5.7</td>\n",
       "    </tr>\n",
       "    <tr>\n",
       "      <th>...</th>\n",
       "      <td>...</td>\n",
       "      <td>...</td>\n",
       "      <td>...</td>\n",
       "      <td>...</td>\n",
       "      <td>...</td>\n",
       "    </tr>\n",
       "    <tr>\n",
       "      <th>101</th>\n",
       "      <td>Desert</td>\n",
       "      <td>scattered shrubs (Cornulaca monacantha, Anabas...</td>\n",
       "      <td>1.916666667</td>\n",
       "      <td>10</td>\n",
       "      <td>7.09</td>\n",
       "    </tr>\n",
       "    <tr>\n",
       "      <th>102</th>\n",
       "      <td>Desert</td>\n",
       "      <td>scattered shrubs (Cornulaca monacantha, Anabas...</td>\n",
       "      <td>0.583333333</td>\n",
       "      <td>20</td>\n",
       "      <td>7.02</td>\n",
       "    </tr>\n",
       "    <tr>\n",
       "      <th>103</th>\n",
       "      <td>Desert</td>\n",
       "      <td>scattered shrubs (Cornulaca monacantha, Anabas...</td>\n",
       "      <td>0.375</td>\n",
       "      <td>30</td>\n",
       "      <td>7.24</td>\n",
       "    </tr>\n",
       "    <tr>\n",
       "      <th>104</th>\n",
       "      <td>Desert</td>\n",
       "      <td>scattered shrubs (Cornulaca monacantha, Anabas...</td>\n",
       "      <td>0.291666667</td>\n",
       "      <td>40</td>\n",
       "      <td>7.18</td>\n",
       "    </tr>\n",
       "    <tr>\n",
       "      <th>105</th>\n",
       "      <td>Desert</td>\n",
       "      <td>scattered shrubs (Cornulaca monacantha, Anabas...</td>\n",
       "      <td>0.375</td>\n",
       "      <td>50</td>\n",
       "      <td>7.16</td>\n",
       "    </tr>\n",
       "  </tbody>\n",
       "</table>\n",
       "<p>90 rows × 5 columns</p>\n",
       "</div>"
      ],
      "text/plain": [
       "         Biome                                         Vegetation  \\\n",
       "0    Character                                          Character   \n",
       "1     cropland                                      Oil-seed rape   \n",
       "2     cropland                                      Oil-seed rape   \n",
       "3     cropland                                      Oil-seed rape   \n",
       "4     cropland                                      Oil-seed rape   \n",
       "..         ...                                                ...   \n",
       "101     Desert  scattered shrubs (Cornulaca monacantha, Anabas...   \n",
       "102     Desert  scattered shrubs (Cornulaca monacantha, Anabas...   \n",
       "103     Desert  scattered shrubs (Cornulaca monacantha, Anabas...   \n",
       "104     Desert  scattered shrubs (Cornulaca monacantha, Anabas...   \n",
       "105     Desert  scattered shrubs (Cornulaca monacantha, Anabas...   \n",
       "\n",
       "    Soil_microbial_biomass_carbon      Depth        pH  \n",
       "0                       mmol Kg-1  Character  pH units  \n",
       "1                     13.16666667         10       5.3  \n",
       "2                     14.83333333         20       5.4  \n",
       "3                     14.41666667         30       5.4  \n",
       "4                     5.083333333         40       5.7  \n",
       "..                            ...        ...       ...  \n",
       "101                   1.916666667         10      7.09  \n",
       "102                   0.583333333         20      7.02  \n",
       "103                         0.375         30      7.24  \n",
       "104                   0.291666667         40      7.18  \n",
       "105                         0.375         50      7.16  \n",
       "\n",
       "[90 rows x 5 columns]"
      ]
     },
     "execution_count": 40,
     "metadata": {},
     "output_type": "execute_result"
    }
   ],
   "source": [
    "df_soil.dropna()"
   ]
  },
  {
   "cell_type": "code",
   "execution_count": 1,
   "id": "302e4e11-79c2-445f-99b6-05efcaa13f9e",
   "metadata": {},
   "outputs": [
    {
     "ename": "NameError",
     "evalue": "name 'data_soil' is not defined",
     "output_type": "error",
     "traceback": [
      "\u001b[0;31m---------------------------------------------------------------------------\u001b[0m",
      "\u001b[0;31mNameError\u001b[0m                                 Traceback (most recent call last)",
      "Cell \u001b[0;32mIn[1], line 2\u001b[0m\n\u001b[1;32m      1\u001b[0m \u001b[38;5;66;03m#This looks nicer, let's save it.\u001b[39;00m\n\u001b[0;32m----> 2\u001b[0m df_soil_nan \u001b[38;5;241m=\u001b[39m \u001b[43mdata_soil\u001b[49m\u001b[38;5;241m.\u001b[39mdropna()\n\u001b[1;32m      3\u001b[0m \u001b[38;5;66;03m#Now let's find the max.\u001b[39;00m\n\u001b[1;32m      4\u001b[0m df_soil_nan\u001b[38;5;241m.\u001b[39mmax()\n",
      "\u001b[0;31mNameError\u001b[0m: name 'data_soil' is not defined"
     ]
    }
   ],
   "source": [
    "#This looks nicer, let's save it.\n",
    "df_soil_nan = data_soil.dropna()\n",
    "#Now let's find the max.\n",
    "df_soil_nan.max()"
   ]
  },
  {
   "cell_type": "markdown",
   "id": "d2d9756b-cff1-4122-a5b1-6cd8e2088e7b",
   "metadata": {},
   "source": [
    "## WOAH, that was a lot.\n",
    "I'm going to let you all work on the practice problems on the website together now. I will be walking around to ask questions!"
   ]
  },
  {
   "cell_type": "markdown",
   "id": "78ddbe09-091a-4cfc-8666-35e4d1606c1a",
   "metadata": {
    "editable": true,
    "slideshow": {
     "slide_type": ""
    },
    "tags": []
   },
   "source": [
    "# 🏁 Wrap-up: Think, Pair, Share!\n",
    "## Think!\n",
    "Take 3 minutes and review on your own what you learned, and write a summary. This can be in paragraph style, bullet points, drawings, whatever makes sense to you. Feel free to create a cell below (either a Markdown or a Code cell) and play around!\n",
    "## Pair!\n",
    "Take 4 minutes and discuss at your tables what you all learned today.\n",
    "## Share!\n",
    ":::{admonition} Riley's Version\n",
    ":class: note, dropdown\n",
    "1. We import in libraries to give us more functions and things to do with code.\n",
    "2. Pandas is a library that works with 2-dimensional dataframes.\n",
    "3. Tabular data is 2-dimensional.\n",
    "4. We use pandas to create dataframes and series to help structure our data.\n",
    "5. Indexing is similar throughout all of Python's data structures.\n",
    "6. There are absolute and relative file paths for every file that exists on any computer anywhere.\n",
    "7. Filepath gives the location of the file in your computer.\n",
    "8. We can open data into Python and clean up the data.\n",
    "9. We can learn more about our data structures through methods such as `.info()` and `.describe()`, and can always ask the computer for `help()`."
   ]
  },
  {
   "cell_type": "markdown",
   "id": "de4dd114-c93d-4eb2-9ac0-a550cdc9dd28",
   "metadata": {},
   "source": [
    "### 🎊YAYYYY - third coding lesson is complete!\n",
    "Enjoy your day off tomorrow! <br>\n",
    "<br> 🇩🇪Prost und Guten Tag!\n",
    "<br> 🇪🇸¡Saludos y Buen Día!\n",
    "<br> 🇵🇹Felicidades e bom dia!\n",
    "<br> 🇬🇧Cheers and Good Day!"
   ]
  }
 ],
 "metadata": {
  "kernelspec": {
   "display_name": "Python 3 (ipykernel)",
   "language": "python",
   "name": "python3"
  },
  "language_info": {
   "codemirror_mode": {
    "name": "ipython",
    "version": 3
   },
   "file_extension": ".py",
   "mimetype": "text/x-python",
   "name": "python",
   "nbconvert_exporter": "python",
   "pygments_lexer": "ipython3",
   "version": "3.11.9"
  }
 },
 "nbformat": 4,
 "nbformat_minor": 5
}
