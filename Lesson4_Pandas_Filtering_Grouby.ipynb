{
 "cells": [
  {
   "cell_type": "markdown",
   "id": "347e61d8-4594-459d-a95a-d5ed5bd1c8ef",
   "metadata": {},
   "source": [
    "# **SARP-East Coding Lesson 4 - Tabular Data**\n",
    "## *Pandas Filtering and Groupby*\n",
    "03 July 2024\n",
    "<br>Riley McCue"
   ]
  },
  {
   "cell_type": "markdown",
   "id": "b4cf7ec3-afbf-43cf-8eb0-79accca2fd26",
   "metadata": {},
   "source": [
    "##  🌠💪🏼 *Trust your struggle.* 💪🏼🌠\n",
    "<br>- Unknown "
   ]
  },
  {
   "cell_type": "markdown",
   "id": "75814463",
   "metadata": {},
   "source": [
    ":::{admonition} **1** Recap\n",
    ":class: tip\n",
    "Discuss at your tables:\n",
    "<br>**Filepath**\n",
    "1. What is the difference between an absolute and relative file path?\n",
    "2. Why are we interested in filepaths?\n",
    "3. Write out the absolute file path for this current notebook you are in in Cyrocloud.\n",
    "<br>**Pandas**\n",
    "1. What is pandas?\n",
    "2. What do we use pandas for?/Why are we interested in pandas?\n",
    "3. Write out the syntax for creating a pandas DataFrame from a given dictionary `d_name`.\n",
    "4. What things did we learn we can do with a pandas DataFrame?\n",
    "5. What other things might we want to do?\n"
   ]
  },
  {
   "cell_type": "markdown",
   "id": "c722a05a",
   "metadata": {},
   "source": [
    "## Context\n",
    "We learned the basics of pandas and creating `DataFrame`s and `Series`, and explored a few methods. We explored filepaths and opened some real data (woohoo!).\n",
    "\n",
    "Today, we are learning how to filter our data and use this method called `.groupby()` in pandas. These will help us get the specific parts of our data we desire and help us on our road to becoming the best scientific researchers!"
   ]
  },
  {
   "cell_type": "markdown",
   "id": "e99ac388",
   "metadata": {},
   "source": [
    "## 📥 Let's Load some Data!"
   ]
  },
  {
   "cell_type": "markdown",
   "id": "45233572",
   "metadata": {},
   "source": [
    "We are going to be using a USGS water data set.\n",
    ":::{admonition} Activity!\n",
    ":class: tip\n",
    "[Link to the data we will be using from USGS](https://raw.githubusercontent.com/NASA-SARP/sarp_lessons/main/lessons/tabular_data/data/englewood_3_12_21_usgs_water.tsv).\n",
    "1. Download the data into your cyrocloud environment.\n",
    "2. Write the relative file path from this notebook to the data file. (We need this to open the data!)\n",
    ":::\n",
    "<br> We need to:\n",
    "1. Import in our pandas library\n",
    "2. Open up our data into our notebook (using filepath above)\n",
    "3. Prep our data a bit before getting started"
   ]
  },
  {
   "cell_type": "code",
   "execution_count": null,
   "id": "f4db946c",
   "metadata": {},
   "outputs": [],
   "source": [
    "# 1 Import our library\n",
    "import pandas as pd"
   ]
  },
  {
   "cell_type": "code",
   "execution_count": null,
   "id": "202cc837-bd72-499f-9561-52f11b5868b0",
   "metadata": {},
   "outputs": [],
   "source": [
    "# Read in the data\n",
    "df_water_vars = pd.read_csv('./englewood_3_12_21_usgs_water.tsv', sep='\\t', skiprows=30)\n",
    "# There are a lot of variables here, so let's shorten our dataframe to a few variables\n",
    "df_water_vars = df_water_vars[['datetime', '210920_00060', '210922_00010', '210924_00300', '210925_00400']]\n",
    "# Get rid of the first row of hard-coded datatype info\n",
    "df_water_vars = df_water_vars.drop(0)\n",
    "# Rename the columns from their USGS codes to more human-readible names\n",
    "d_name_codes = {'210920_00060': 'discharge','210922_00010': 'temperature', '210924_00300': 'dissolved oxygen', '210925_00400': 'pH'}\n",
    "df_water_vars = df_water_vars.rename(columns=d_name_codes)\n",
    "# Convert columns with numbers to a numeric type\n",
    "df_water_vars['discharge'] = pd.to_numeric(df_water_vars['discharge'])\n",
    "df_water_vars['temperature'] = pd.to_numeric(df_water_vars['temperature'])\n",
    "df_water_vars['dissolved oxygen'] = pd.to_numeric(df_water_vars['dissolved oxygen'])\n",
    "df_water_vars['pH'] = pd.to_numeric(df_water_vars['pH'])"
   ]
  },
  {
   "cell_type": "markdown",
   "id": "41208201",
   "metadata": {},
   "source": [
    "Today I'm also going to add two fake columns of data, \"dam release\" and \"safety level\", that will help us as we go through some of the new concepts."
   ]
  },
  {
   "cell_type": "code",
   "execution_count": null,
   "id": "027f4984",
   "metadata": {},
   "outputs": [],
   "source": [
    "import random"
   ]
  },
  {
   "cell_type": "code",
   "execution_count": null,
   "id": "c955bccb",
   "metadata": {},
   "outputs": [],
   "source": [
    "df_water_vars['dam release'] = [random.choice([True, False]) for x in range(len(df_water_vars))]\n",
    "df_water_vars['safety level'] = [random.choice(['low', 'medium', 'high']) for x in range(len(df_water_vars))]"
   ]
  },
  {
   "cell_type": "code",
   "execution_count": null,
   "id": "8398079c",
   "metadata": {
    "scrolled": true
   },
   "outputs": [],
   "source": [
    "df_water_vars"
   ]
  },
  {
   "cell_type": "markdown",
   "id": "b585e90e",
   "metadata": {},
   "source": [
    "## Filtering with Booleans"
   ]
  },
  {
   "cell_type": "markdown",
   "id": "f445049a",
   "metadata": {},
   "source": [
    "So let's start with a general question, thinking back to what we learned about booleans earlier this week.\n",
    "> What would happen if we used a comparison on a pandas dataframe?\n",
    "\n",
    "Think about this:\n",
    "`df_water_vars['dissolved oxygen'] == 8.2`"
   ]
  },
  {
   "cell_type": "markdown",
   "id": "9e737e3d",
   "metadata": {},
   "source": [
    "The output: Another dataframe the same size and shape as the ojbect used in comparison (here -- `water_vars['discharge']`), but it is full of Boolean values."
   ]
  },
  {
   "cell_type": "markdown",
   "id": "f3c47df6",
   "metadata": {},
   "source": [
    "So what is the use of a list of booleans?  Let's start with a simplified list of booleans and experiment."
   ]
  },
  {
   "cell_type": "code",
   "execution_count": null,
   "id": "77e621fd",
   "metadata": {},
   "outputs": [],
   "source": [
    "import random"
   ]
  },
  {
   "cell_type": "code",
   "execution_count": null,
   "id": "01bd61c0",
   "metadata": {},
   "outputs": [],
   "source": [
    "# Create just a list of booleans, instead of a full dataframe\n",
    "l_booleans = [random.choice([True, False]) for x in range(146)]\n",
    "l_booleans"
   ]
  },
  {
   "cell_type": "code",
   "execution_count": null,
   "id": "3fc3a060",
   "metadata": {},
   "outputs": [],
   "source": [
    "# Now, use the list of booleans with square brackets, sort of like a key in a dictionary\n",
    "df_water_vars[l_booleans]"
   ]
  },
  {
   "cell_type": "markdown",
   "id": "f1779aec",
   "metadata": {},
   "source": [
    "That returned only the rows where the value in the list was True!  \n",
    "\n",
    "This is exciting, because this is the basis for filtering rows in `pandas`.  Trying it again with our conditional statement from above `df_water_vars['dissolved oxygen'] == 8.2`:"
   ]
  },
  {
   "cell_type": "code",
   "execution_count": null,
   "id": "3517a0f9",
   "metadata": {},
   "outputs": [],
   "source": [
    "# Make a dataframe indicating where dissolved oxygen == 8.2\n",
    "df_boolean = df_water_vars['dissolved oxygen'] == 8.2\n",
    "df_boolean"
   ]
  },
  {
   "cell_type": "code",
   "execution_count": null,
   "id": "7d284a94",
   "metadata": {
    "scrolled": true
   },
   "outputs": [],
   "source": [
    "# Return only the rows where dissolved oxygen == 8.2\n",
    "df_water_vars[df_boolean]"
   ]
  },
  {
   "cell_type": "code",
   "execution_count": null,
   "id": "5fc8feda",
   "metadata": {
    "scrolled": true
   },
   "outputs": [],
   "source": [
    "#You can also do this process in a single step.\n",
    "df_water_vars[df_water_vars['dissolved oxygen'] == 8.2]"
   ]
  },
  {
   "cell_type": "markdown",
   "id": "8fcfabcb",
   "metadata": {},
   "source": [
    ":::{admonition} **2**📝 Check your understanding\n",
    ":class: tip\n",
    "Write a cell of code that returns only the rows of the `df_water_vars` dataframe where discharge is less than or equal to 46."
   ]
  },
  {
   "cell_type": "markdown",
   "id": "777be03b",
   "metadata": {},
   "source": [
    "## Filtering with Logical Operators -- `and` and `or`"
   ]
  },
  {
   "cell_type": "markdown",
   "id": "67e53c13",
   "metadata": {},
   "source": [
    "Pandas uses a slightly different syntax of `and` and `or` , but the meaning remains the same.\n",
    "\n",
    "| Python      | Pandas |\n",
    "| :-----------: | :-----------: |\n",
    "| and      | &       |\n",
    "| or   | &#124;       |\n",
    "\n",
    "You must wrap each individual conditional statement in parenthesis `()`."
   ]
  },
  {
   "cell_type": "code",
   "execution_count": null,
   "id": "bffc108a",
   "metadata": {
    "scrolled": true
   },
   "outputs": [],
   "source": [
    "# Data points where pH < 8 AND dam release was True\n",
    "df_water_vars[(df_water_vars['pH'] < 8) & (df_water_vars['dam release'] == True)]"
   ]
  },
  {
   "cell_type": "code",
   "execution_count": null,
   "id": "82cabd1c",
   "metadata": {},
   "outputs": [],
   "source": [
    "# Data points where pH < 8 OR dam release was True\n",
    "df_water_vars[(df_water_vars['pH'] < 8) | (df_water_vars['dam release'] == True)]"
   ]
  },
  {
   "cell_type": "markdown",
   "id": "98af3a04",
   "metadata": {},
   "source": [
    "There are many ways to do this type of filtering in pandas -- this is just one way! I encourage you to get comfortable with one method before moving on to others, but [this article](https://www.listendata.com/2019/07/how-to-filter-pandas-dataframe.html) has a pretty nice overview of methods."
   ]
  },
  {
   "cell_type": "markdown",
   "id": "1f51cb5f",
   "metadata": {},
   "source": [
    ":::{admonition} **3**📝 Check your understanding\n",
    ":class: tip\n",
    "\n",
    "Explain how the following line of code is filtering the `df_water_vars` dataset?\n",
    "\n",
    "`df_water_vars[(df_water_vars['discharge'] <= 46) | (df_water_vars['dam release'] > 42)]`"
   ]
  },
  {
   "cell_type": "markdown",
   "id": "6d1537ce",
   "metadata": {},
   "source": [
    "## Indexing your pandas DataFrame"
   ]
  },
  {
   "cell_type": "markdown",
   "id": "87593567",
   "metadata": {},
   "source": [
    "The most important part of in index is that it is **unique**, meaning no two rows of data is allowed to have the same index. This is important for keeping the data organized -- practically and conceptually.\n",
    "\n",
    "One of the powerful components of pandas is that you aren't required to have a number as the index of a dataframe.  <br>Let's look at this with an example dataframe:"
   ]
  },
  {
   "cell_type": "code",
   "execution_count": null,
   "id": "2eb01732",
   "metadata": {},
   "outputs": [],
   "source": [
    "df_grades = pd.DataFrame(\n",
    "    {\n",
    "        'name': ['Beatriz S', 'Sara H', 'Joel T', 'Ari T', 'Hassan A'],\n",
    "        'history': [78, 69, 80, 91, 79],\n",
    "        'science': [85, 80, 80, 73, 91],\n",
    "        'music': [81, 81, 90, 73, 89],\n",
    "    }\n",
    ")"
   ]
  },
  {
   "cell_type": "code",
   "execution_count": null,
   "id": "57c3053a",
   "metadata": {},
   "outputs": [],
   "source": [
    "df_grades"
   ]
  },
  {
   "cell_type": "markdown",
   "id": "9461402d",
   "metadata": {},
   "source": [
    "In this dataframe, we have default indexes of 0 -> 4. While this may work for this small example dataframe, it will not work for the research you will be doing. Let's practice indexing this small dataframe by using the student's names as the index.\n",
    "\n",
    "We use the method called `.set_index()`.\n",
    "<br> The general syntax is `dataframe_name.set_index('column_name')`."
   ]
  },
  {
   "cell_type": "code",
   "execution_count": null,
   "id": "55aa1bdc",
   "metadata": {},
   "outputs": [],
   "source": [
    "df_grades.set_index('name')"
   ]
  },
  {
   "cell_type": "code",
   "execution_count": null,
   "id": "d468333b",
   "metadata": {},
   "outputs": [],
   "source": [
    "# update the original dataframe with the new index\n",
    "df_grades = df_grades.set_index('name')"
   ]
  },
  {
   "cell_type": "markdown",
   "id": "6e5bd21f",
   "metadata": {},
   "source": [
    "## `.iloc` vs. `loc`\n",
    "\n",
    "So now that we have names as indexes, how do we select specific rows?\n",
    "\n",
    "We can still use the same method we already know, `iloc`, with an integer index number and we will still get the same result."
   ]
  },
  {
   "cell_type": "code",
   "execution_count": null,
   "id": "44a94e67",
   "metadata": {},
   "outputs": [],
   "source": [
    "df_grades.iloc[1]"
   ]
  },
  {
   "cell_type": "markdown",
   "id": "0d56370b",
   "metadata": {},
   "source": [
    "Alternatively we can also use a similar but slightly different method - `.loc`.  `.loc` allows us to find specific rows based on an index label, not the integer."
   ]
  },
  {
   "cell_type": "code",
   "execution_count": null,
   "id": "dd59fad5",
   "metadata": {},
   "outputs": [],
   "source": [
    "df_grades.loc['Hassan A']"
   ]
  },
  {
   "cell_type": "markdown",
   "id": "cee80b68",
   "metadata": {},
   "source": [
    "If you want a deep dive on `.iloc` vs. `.loc` [this article](https://towardsdatascience.com/how-to-use-loc-and-iloc-for-selecting-data-in-pandas-bd09cb4c3d79) is for you."
   ]
  },
  {
   "cell_type": "markdown",
   "id": "ef6fb9d5",
   "metadata": {},
   "source": [
    "## Real Data Indices --> Datetime\n",
    "\n",
    "Let's look back to our `df_water_vars` table and think about `datetime`.\n",
    "\n",
    "Dates and times are generally fantastic indices, because, if the world is working in proper order, each moment in time only happens once, meaning their values are unique and they are really common indices."
   ]
  },
  {
   "cell_type": "code",
   "execution_count": null,
   "id": "b6b6dea1",
   "metadata": {
    "scrolled": true
   },
   "outputs": [],
   "source": [
    "#Let's set the index\n",
    "df_water_vars = df_water_vars.set_index('datetime')"
   ]
  },
  {
   "cell_type": "code",
   "execution_count": null,
   "id": "3a7c5322",
   "metadata": {},
   "outputs": [],
   "source": [
    "df_water_vars"
   ]
  },
  {
   "cell_type": "code",
   "execution_count": null,
   "id": "5e749961",
   "metadata": {},
   "outputs": [],
   "source": [
    "#Let's look at data from March 12th 2021 at 1:00pm\n",
    "df_water_vars.loc['2021-03-12 13:00']"
   ]
  },
  {
   "cell_type": "markdown",
   "id": "19397a49",
   "metadata": {},
   "source": [
    ":::{admonition} **4**📝 Check your understanding\n",
    ":class: tip\n",
    "Write a line of code to get the row corresponding to March 13th 2021 at 8:00am."
   ]
  },
  {
   "cell_type": "markdown",
   "id": "f384ac68",
   "metadata": {},
   "source": [
    "# 🏘️ Groupby -- Grouping our Data in the Best way"
   ]
  },
  {
   "cell_type": "markdown",
   "id": "8706b970",
   "metadata": {},
   "source": [
    "Pandas has a method called `.groupby()` that allows us to only look at the data we really care about."
   ]
  },
  {
   "cell_type": "markdown",
   "id": "9071b2b4",
   "metadata": {},
   "source": [
    "## Breaking `groupby` into conceptual parts"
   ]
  },
  {
   "cell_type": "markdown",
   "id": "88ea25eb",
   "metadata": {},
   "source": [
    "In addition to the dataframe, there are three main parts to a groupby:\n",
    "1. Which variable we want to group together\n",
    "2. How we want to group\n",
    "3. The variable we want to see in the end\n",
    "\n",
    "Before getting into syntax, let's conceptually understand how to approach `.groupby()` by looking at some examples.  \n",
    "**Given the average temperature of every county in the US, what is the average temperature in each state?**\n",
    "\n",
    "* _Which variable to group together?_ -> We want to group counties into states\n",
    "* _How do we want to group?_ -> Take the average\n",
    "* _What variable do we want to look at?_ Temperature\n",
    "\n",
    "**Given a list of the opening dates of every Chuck E Cheese stores, how many Chuck E Cheeses were opened each year?**\n",
    "\n",
    "* _Which variable to group together?_ -> We want to group individual days into years\n",
    "* _How do we want to group?_ -> Count them\n",
    "* _What variable do we want to look at?_ Number of stores"
   ]
  },
  {
   "cell_type": "markdown",
   "id": "9dd010fb",
   "metadata": {},
   "source": [
    ":::{admonition} **5**📝 Check your understanding\n",
    ":class: tip\n",
    "**Given the hourly temperatures for a location over the course of a month, what were the daily highs?**\n",
    "\n",
    "1. _Which variable to group together?_\n",
    "2. _How do we want to group?_\n",
    "3. _What variable do we want to look at?_\n"
   ]
  },
  {
   "cell_type": "markdown",
   "id": "956f7d40",
   "metadata": {},
   "source": [
    "## Syntax of `groupby` \n",
    "\n",
    "Now let's see what this looks like in the language of the computer.\n",
    "1. Which variable we want to group together --> which GROUP to choose\n",
    "2. How we want to group --> which AGGREGATION to choose\n",
    "3. The variable we want to see in the end --> INTEREST variable (not necessary)\n",
    "\n",
    "The general syntax is:\n",
    "\n",
    "`dataframe.groupby(GROUP).AGGREGATION()`"
   ]
  },
  {
   "cell_type": "markdown",
   "id": "6039e817",
   "metadata": {},
   "source": [
    "### Choosing `GROUP`\n",
    "\n",
    "This variable can be any of the columns in the dataframe. We like to choose columns that can be put into discrete \"piles\", meaning there are lots of repeated values.  For example, we used `'safety_level'` because it can easily be put into piles -- `low`, `medium` and `high`.\n",
    "\n",
    "We are still allowed to group on other columns, it's just not that useful. It can be tempting to choose the variable you are most wanting to see in GROUP, but sometimes that is not optimal."
   ]
  },
  {
   "cell_type": "code",
   "execution_count": null,
   "id": "c1817ce2",
   "metadata": {
    "scrolled": true
   },
   "outputs": [],
   "source": [
    "#Let's find the minimum value of each column at each safety level.\n",
    "df_water_vars.groupby(\"safety level\").min()"
   ]
  },
  {
   "cell_type": "code",
   "execution_count": null,
   "id": "f1d79db1",
   "metadata": {},
   "outputs": [],
   "source": [
    "#Let's find the minimum value of each column at each pH value.\n",
    "df_water_vars.groupby(\"pH\").min()"
   ]
  },
  {
   "cell_type": "markdown",
   "id": "3acdb582",
   "metadata": {},
   "source": [
    "## Aggregation Functions \n",
    "\n",
    "The functions you can use in a groupby are limited, but there are still lots of options. \n",
    "\n",
    "The most common ones are:\n",
    "* `.count()` - find the total number of rows\n",
    "* `.min()`- find the minimum value of those rows\n",
    "* `.max()` - find the maximum value of those rows\n",
    "* `.mean()`- find the mean value of those rows\n",
    "* `.sum()` - find the sum of the values of those rows"
   ]
  },
  {
   "cell_type": "markdown",
   "id": "ab293346",
   "metadata": {},
   "source": [
    "## The Third Question -- Interest\n",
    "\n",
    "It is not necessary to provide this to pandas in order to use the `.gropuby()` method, but it can come in handy when working with larger dataframes, when making a plot, or any other case when we need to specify an exact variable of interest.\n",
    "\n",
    "We add in the column of interest after the chosen group in index notation:\n",
    "\n",
    "`dataframe.groupby(GROUP)[INTEREST].AGGREGATION()`"
   ]
  },
  {
   "cell_type": "code",
   "execution_count": null,
   "id": "868f8c78",
   "metadata": {},
   "outputs": [],
   "source": [
    "# Group our water dataframe by saftey level and take the mean of the discharge values for each safety level group\n",
    "df_water_vars.groupby(\"safety level\")['discharge'].mean()"
   ]
  },
  {
   "cell_type": "markdown",
   "id": "2b734c6d",
   "metadata": {},
   "source": [
    ":::{admonition} 📝 Check your understanding\n",
    ":class: tip\n",
    "\n",
    "1. What is the maximum pH value during low safety level?\n",
    "\n",
    "2. What is the mean discharge when dam releases are happening?\n",
    "\n",
    ":::"
   ]
  },
  {
   "cell_type": "markdown",
   "id": "cf4dc9b5",
   "metadata": {},
   "source": [
    "### The Process of Groupby: Split-Apply-Combine\n",
    "\n",
    "There is a lot that happens in a single step with `groupby` and it can be a lot to take in.  One way to mentally situate this process is to think about **Split-Apply-Combine**.\n",
    "\n",
    "1. SPLIT the full data set into groups. --> _Which variable to group together?_\n",
    "2. APPLY the aggregation function to the individual groups. --> _How do we want to group?_\n",
    "3. COMBINE the aggregated data into a new dataframe\n",
    "\n",
    "Note: The INTEREST variable we factored in is part of the _Split_ step in this process. Note: The INTEREST variable we factored in is part of the _Split_ step in this process. \n",
    "\n",
    "\n",
    "<img src=\"https://static.packt-cdn.com/products/9781783985128/graphics/5128OS_09_01.jpg\" width=550>\n",
    "\n",
    "\n",
    "\n",
    "\n"
   ]
  },
  {
   "cell_type": "markdown",
   "id": "d1435b62-2b09-4d8c-a86d-767e14a8e659",
   "metadata": {},
   "source": [
    "# 🛑🛑🛑 **Practice Time !!!** 🛑🛑🛑\n",
    "\n",
    "We are going to move to tables to be with people at similar levels of understanding with this! "
   ]
  },
  {
   "cell_type": "markdown",
   "id": "6c2f7cee-1f5c-45dc-811e-da75260dd283",
   "metadata": {
    "editable": true,
    "slideshow": {
     "slide_type": ""
    },
    "tags": []
   },
   "source": [
    "# 🏁 Wrap-up: Think, Pair, Share!\n",
    "## Think!\n",
    "Take 4 minutes and review on your own what you learned, and write a summary. This can be in paragraph style, bullet points, drawings, whatever makes sense to you. Feel free to create a cell below (either a Markdown or a Code cell) and play around!\n",
    "## Pair!\n",
    "Take 4 minutes and discuss at your tables what you all learned today.\n",
    "## Share!\n",
    ":::{admonition} Riley's Version\n",
    ":class: note, dropdown\n",
    "See handout for full Pandas summary!"
   ]
  },
  {
   "cell_type": "markdown",
   "id": "43def5c4-fed5-4279-ace4-7c698f28298b",
   "metadata": {},
   "source": [
    "### 🎊YAYYYY - third coding lesson is complete!\n",
    "Enjoy your day off tomorrow! <br>\n",
    "<br> 🇩🇪Prost und Guten Tag!\n",
    "<br> 🇪🇸¡Saludos y Buen Día!\n",
    "<br> 🇵🇹Felicidades e bom dia!\n",
    "<br> 🇬🇧Cheers and Good Day!"
   ]
  },
  {
   "cell_type": "markdown",
   "id": "368c9f76-a2cb-4325-bc6d-1782f784e19c",
   "metadata": {},
   "source": [
    "# **ANSWERS TO THE CHECK YOUR UNDERSTANDINGS**"
   ]
  },
  {
   "cell_type": "markdown",
   "id": "66f53e4c-7485-43ba-b29c-090da440b2be",
   "metadata": {},
   "source": [
    ":::{admonition} **1** Answers to Recap\n",
    ":class: dropdown\n",
    "**Filepath**\n",
    "1. An absolute filepath starts from the \"root\" of your computer. A relative filepath starts from where you currently are in your computer.\n",
    "2. Filepaths allow us to tell our computer how to locate things.\n",
    "3. This will vary for everybody, but it should begin with \"/home/jovyan/\" and then continue into whatever folder you are in.\n",
    "<br> **Pandas**\n",
    "1. Pandas is a library. We must import this library.\n",
    "2. We use pandas for working with tabular data. We use pandas to create a two dimensional data structure in which we can easily work with this type of data.\n",
    "3. dataframe_name = pd.DataFrame(d_name)\n",
    "4. We can abstract certain rows, columns, or points in our data structure. We can use certain methods to find minimum and maximum, and we can also make pandas tell us more inforamtion about our dataframe with methods like`.info()` and `.describe()`.\n",
    "5. Hmmmmm..."
   ]
  },
  {
   "cell_type": "markdown",
   "id": "fb95fa38-0a5a-41d4-b6d5-c6258daa4011",
   "metadata": {},
   "source": [
    ":::{admonition} **2** Answer\n",
    ":class: dropdown\n",
    "`df_water_vars['Discharge']<46`"
   ]
  },
  {
   "cell_type": "markdown",
   "id": "fa587ebf-f9ca-48f6-9803-b4e7c717c697",
   "metadata": {},
   "source": [
    ":::{admonition} **3** Answer\n",
    ":class: dropdown\n",
    "This line is only viewing the data where discharge is <= 46 OR dam release is > 42."
   ]
  },
  {
   "cell_type": "markdown",
   "id": "d4b223f5-0f15-470e-a96f-57babdc70692",
   "metadata": {},
   "source": [
    ":::{admonition} **4** Answer\n",
    ":class: dropdown\n",
    "`df_water_vars.loc['2021-03-13 08:00']`"
   ]
  },
  {
   "cell_type": "markdown",
   "id": "74d98b50-642e-4716-9b33-4f328ad4be5b",
   "metadata": {},
   "source": [
    ":::{admonition} **5** Answer\n",
    ":class: dropdown\n",
    "1. We want to group hours into days.\n",
    "2. We want to find the maximum\n",
    "3. We are looking at temperature."
   ]
  },
  {
   "cell_type": "markdown",
   "id": "27a2752f-d5cb-423e-b9b6-f65e03909d9f",
   "metadata": {},
   "source": []
  }
 ],
 "metadata": {
  "kernelspec": {
   "display_name": "Python 3 (ipykernel)",
   "language": "python",
   "name": "python3"
  },
  "language_info": {
   "codemirror_mode": {
    "name": "ipython",
    "version": 3
   },
   "file_extension": ".py",
   "mimetype": "text/x-python",
   "name": "python",
   "nbconvert_exporter": "python",
   "pygments_lexer": "ipython3",
   "version": "3.11.9"
  },
  "vscode": {
   "interpreter": {
    "hash": "c6a7549e0a21eb75b694ff081490f6e8db8aea94086d29d6a7e085c556b251de"
   }
  }
 },
 "nbformat": 4,
 "nbformat_minor": 5
}
