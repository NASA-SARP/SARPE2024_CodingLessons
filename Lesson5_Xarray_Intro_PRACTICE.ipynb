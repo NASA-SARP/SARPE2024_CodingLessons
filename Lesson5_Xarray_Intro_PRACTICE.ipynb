{
 "cells": [
  {
   "cell_type": "markdown",
   "metadata": {},
   "source": [
    "# PRACTICE -- Intro to `xarray`"
   ]
  },
  {
   "cell_type": "markdown",
   "metadata": {},
   "source": [
    "## Part 1"
   ]
  },
  {
   "cell_type": "markdown",
   "metadata": {},
   "source": [
    "### `xarray` Data Structures"
   ]
  },
  {
   "cell_type": "markdown",
   "metadata": {},
   "source": [
    "### Question 1"
   ]
  },
  {
   "cell_type": "code",
   "execution_count": 2,
   "metadata": {},
   "outputs": [],
   "source": [
    "#Import the library\n",
    "import xarray as xr"
   ]
  },
  {
   "cell_type": "markdown",
   "metadata": {},
   "source": [
    "1. We are going to be working with the [NOAA OISST](https://psl.noaa.gov/data/gridded/data.noaa.oisst.v2.highres.html) sea surface data again from the lesson. Write the relative filepath for the data  and use the `open_dataset()` method to access the file."
   ]
  },
  {
   "cell_type": "markdown",
   "metadata": {},
   "source": [
    "2. Answer the following from the output.\n",
    "- What is the first and last values for latitude?\n",
    "- What is the \"institution\" listed in the metadata?\n",
    "- What date was this data taken?\n",
    "- How many latitude values are there? How many longitude values?"
   ]
  },
  {
   "cell_type": "markdown",
   "metadata": {},
   "source": [
    "3. Display just the `ice` data variable"
   ]
  },
  {
   "cell_type": "markdown",
   "metadata": {},
   "source": [
    "4. Select only the SST data between 30-48 North and 3-30 East"
   ]
  },
  {
   "cell_type": "markdown",
   "metadata": {},
   "source": [
    "5. Use the `.plot()` method to view the subset of data you found in the previous question."
   ]
  },
  {
   "cell_type": "markdown",
   "metadata": {},
   "source": [
    "### Question 2\n",
    "Use the fake data below for the follow 2 parts."
   ]
  },
  {
   "cell_type": "code",
   "execution_count": 47,
   "metadata": {},
   "outputs": [],
   "source": [
    "import numpy as np"
   ]
  },
  {
   "cell_type": "code",
   "execution_count": 48,
   "metadata": {},
   "outputs": [],
   "source": [
    "ndvi_values = np.random.rand(4, 5, 6)\n",
    "\n",
    "time = ['2022-02-01', '2022-03-01', '2022-04-01', '2022-05-01']\n",
    "latitude  = [34.3, 34.4, 34.5, 34.6, 34.7]\n",
    "longitude = [-118.3, -118.2, -118.1, -118.0, -117.9, -117.8]"
   ]
  },
  {
   "cell_type": "markdown",
   "metadata": {},
   "source": [
    "**1.** Make a DataArray out of the input values and dimensions above. The array should hold NDVI values (NDVI is a remote sensing calculation for the density of green stuff over an area). Be sure to specify both dimensions and coordinates. Describe in words what we know about the dimensions and location of the data."
   ]
  },
  {
   "cell_type": "markdown",
   "metadata": {},
   "source": [
    "**2.** Write a line of code to select the 1st date from the `ndvi` data array."
   ]
  },
  {
   "cell_type": "markdown",
   "metadata": {},
   "source": [
    "**3.** Write a line of code to select the date `2022-03-01` from the `ndvi` data array."
   ]
  },
  {
   "cell_type": "markdown",
   "metadata": {},
   "source": [
    "**4.** Create the array again, but this time don't specify coordinates. What is different about the DataArray? Describe in words what we know about this data."
   ]
  },
  {
   "cell_type": "markdown",
   "metadata": {},
   "source": [
    "**5.** Create the array again, but this time don't specify dimensions. How does that compare to Part B? Describe in words what we know about this data."
   ]
  },
  {
   "cell_type": "markdown",
   "metadata": {},
   "source": [
    "## Question 3"
   ]
  },
  {
   "cell_type": "markdown",
   "metadata": {},
   "source": [
    "We are going to add another variable, dimension, and coordinate to the fake data we created above. Let's go through the process of creating it again, but this time, with another variable -- flower."
   ]
  },
  {
   "cell_type": "code",
   "execution_count": 57,
   "metadata": {},
   "outputs": [],
   "source": [
    "# Imports libraries\n",
    "import numpy as np\n",
    "import xarray as xr"
   ]
  },
  {
   "cell_type": "code",
   "execution_count": 58,
   "metadata": {},
   "outputs": [],
   "source": [
    "#Creates some random arrays of data values\n",
    "ndvi_values = np.random.rand(4, 3, 5, 6)\n",
    "flower_values = np.random.rand(4, 3, 5, 6)"
   ]
  },
  {
   "cell_type": "code",
   "execution_count": 59,
   "metadata": {},
   "outputs": [],
   "source": [
    "# Dims and Coords data we created.\n",
    "date = ['2022-02-01', '2022-03-01', '2022-04-01', '2022-05-01']\n",
    "time = ['08:00', '12:00', '16:00']\n",
    "latitude  = [34.3, 34.4, 34.5, 34.6, 34.7]\n",
    "longitude = [-118.3, -118.2, -118.1, -118.0, -117.9, -117.8]"
   ]
  },
  {
   "cell_type": "markdown",
   "metadata": {},
   "source": [
    "1. Make two DataArrays -- one for NDVI and one for Flower -- out of the input values and dimensions above."
   ]
  },
  {
   "cell_type": "markdown",
   "metadata": {},
   "source": [
    "2. Create a Dataset out of the two DataArrays."
   ]
  },
  {
   "cell_type": "markdown",
   "metadata": {},
   "source": [
    "3. View March data from 8:00am at latitude 34.5 and longitude -118.2. What do you see?"
   ]
  },
  {
   "cell_type": "markdown",
   "metadata": {},
   "source": [
    "4. View only the data at latitude 34.5 and longitude -118.2. What do you see? "
   ]
  },
  {
   "cell_type": "markdown",
   "metadata": {},
   "source": [
    "5. Plot the NDVI array of the dataset. What do you see?"
   ]
  },
  {
   "cell_type": "markdown",
   "metadata": {},
   "source": [
    "6. Specify column and row variables. What do you see? (Hint: Look at the end of the lesson for some guidance.)"
   ]
  },
  {
   "cell_type": "markdown",
   "metadata": {},
   "source": [
    "# Part 2"
   ]
  },
  {
   "cell_type": "markdown",
   "metadata": {},
   "source": [
    "## Question 4\n",
    "We are going to open our NOAA OISST sea surface temperature data again. Input the correct relative filepath below to open it. (You should have it save on your Cyrocloud by this point.)"
   ]
  },
  {
   "cell_type": "code",
   "execution_count": 66,
   "metadata": {},
   "outputs": [],
   "source": [
    "ds_sst = xr.open_dataset('./Data_Images/oisst-avhrr-v02r01.20220304.nc')"
   ]
  },
  {
   "cell_type": "markdown",
   "metadata": {},
   "source": [
    "**1.** Select just the sst values from 10 to 25 degrees North and 50 to 88 degrees West."
   ]
  },
  {
   "cell_type": "markdown",
   "metadata": {},
   "source": [
    ":::{admonition} Hint\n",
    ":class: note, dropdown\n",
    "\n",
    "Watch the units on longitude. What are the min and max values of the longitude coordinate array?\n",
    "\n",
    ":::"
   ]
  },
  {
   "cell_type": "markdown",
   "metadata": {},
   "source": [
    "**2.** Use the `.plot()` function to look at the data in your subset."
   ]
  },
  {
   "cell_type": "markdown",
   "metadata": {},
   "source": [
    ":::{admonition} Hint\n",
    ":class: note, dropdown\n",
    "\n",
    "Watch your data structure. Recall that `.plot()` works on a DataArray, not a Dataset.\n",
    "\n",
    ":::"
   ]
  },
  {
   "cell_type": "markdown",
   "metadata": {},
   "source": [
    "### Question 5"
   ]
  },
  {
   "cell_type": "markdown",
   "metadata": {},
   "source": [
    "How many dimensions should your output array have if you did each of the following:\n",
    "1. selected the 1st time value\n",
    "1. selected the 1st time value and the 100th to the 200th latitude values\n",
    "1. selected the 100th to the 200th latitude values and the 1000th to 1200th longitude values\n",
    "1. selected the 1st time value, the 1st elevation value, the 100th to the 200th latitude values and the 1000th to 1200th longitude values\n",
    "1. selected the 1st time value, 1st elevation value, the 1st latitude value and the 1st longitude value"
   ]
  },
  {
   "cell_type": "markdown",
   "metadata": {},
   "source": [
    "CONGRATS if you made it this far! Ask me for the answers if you get here before class ends. And help those around you!\n",
    "\n",
    "If you are curious about more things with xarray, start to explore the material on the SARP website, or check out [xarray.dev](https://tutorial.xarray.dev/overview/get-started.html)"
   ]
  }
 ],
 "metadata": {
  "interpreter": {
   "hash": "9faa26feb1f18d0836273982f6b47dba7e6edbbdc30051db03817ead886d6429"
  },
  "kernelspec": {
   "display_name": "Python 3 (ipykernel)",
   "language": "python",
   "name": "python3"
  },
  "language_info": {
   "codemirror_mode": {
    "name": "ipython",
    "version": 3
   },
   "file_extension": ".py",
   "mimetype": "text/x-python",
   "name": "python",
   "nbconvert_exporter": "python",
   "pygments_lexer": "ipython3",
   "version": "3.11.9"
  }
 },
 "nbformat": 4,
 "nbformat_minor": 4
}
