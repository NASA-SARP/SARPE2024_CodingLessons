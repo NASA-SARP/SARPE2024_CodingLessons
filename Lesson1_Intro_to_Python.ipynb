{
 "cells": [
  {
   "cell_type": "markdown",
   "id": "35c959bc-40bb-42c3-938c-105763b13285",
   "metadata": {
    "editable": true,
    "slideshow": {
     "slide_type": ""
    },
    "tags": []
   },
   "source": [
    "# SARP-East Coding Lesson 1\n",
    "01 July 2024\n",
    "<br> Riley McCue"
   ]
  },
  {
   "cell_type": "markdown",
   "id": "aeeb1f1d-cffc-4953-a003-473cc94abd57",
   "metadata": {},
   "source": [
    "[SARP Programming Website](https://nasa-sarp.github.io/sarp_lessons/index.html)"
   ]
  },
  {
   "cell_type": "markdown",
   "id": "ea05c8f3-a722-4daf-9602-4c53b49d9128",
   "metadata": {},
   "source": [
    ":::{admonition} 🧠 Recap: Why do we code?\n",
    ":class: tip\n",
    "1. Scale\n",
    "2. Reproducibility\n",
    "3. Practice!"
   ]
  },
  {
   "cell_type": "markdown",
   "id": "0167d7b7-443f-447c-8bf7-57b4711016a2",
   "metadata": {},
   "source": [
    "## 🪐*Using the Jupyter Notebook Environment*\n",
    "1. Types of Cells\n",
    "<br> a. Code (default) - python syntax language a computer can understand.\n",
    "<br> b. Markdown - text written in language a human can understand.\n",
    "3. To run a cell, Crtl + Enter or Shift + Enter<br>\n",
    "Read more about Jupyter notebooks [here](https://www.dataquest.io/blog/jupyter-notebook-tutorial/).\n",
    "## ☁️ *Using the Cloud Environment*\n",
    "1. Folders: shared-public we can ALL access.\n",
    "<br>-->Task: Go to home 📁\n",
    "<br>--> Create a folder named 'Coding Lessons' and go into that folder.\n",
    "<br>--> Hit the blue `+` if the top left. Hit Terminal from the options. A new tab should pop up.\n",
    "<br>--> In the command line (just start typing), type: `wget URL` and press enter.\n",
    "<br>And you should see the file for today's lesson appear in your new folder! Woohoo!\n",
    "<BR>\n",
    "3. When you are done coding for a bit:\n",
    "<br> --> File --> Hub Control Panel --> Stop my Server\n",
    "<br>This reduces data and energy usage on the NASA servers! After ~3hours of inactivity, Cryocloud will automatically shut down your kernel."
   ]
  },
  {
   "cell_type": "markdown",
   "id": "cbee38a3-a563-430c-b765-8ecddcaa1b25",
   "metadata": {},
   "source": [
    ":::{admonition} 📝 Check your understanding\n",
    ":class: tip\n",
    "\n",
    "1. Create a new cell in your notebook. Change it from a code cell to a markdown cell.\n",
    "2. Write your definition of a markdown cell, and run it.\n",
    "\n",
    ":::{admonition} Answer\n",
    ":class: note, dropdown\n",
    "1. Click the + button in the top left. Going a few icons over to the right, click \"Code\" and select \"Markdown\" instead.\n",
    "2. Type your defintion into your new cell, then hit Shift+Enter to run the cell."
   ]
  },
  {
   "cell_type": "markdown",
   "id": "6c73928d-8907-4054-ac00-1b34b5479ffd",
   "metadata": {},
   "source": [
    "## 👩🏽‍💻 Communicating with the computer\n",
    "\n",
    "Programming is the language we humans have created to communicate with computers. We learn code so we can make computers do work for us! Just as learning a foreign language like Spanish, French, or German, you must learn vocabulary -- what words mean -- first! In programming, this is called **syntax**."
   ]
  },
  {
   "cell_type": "markdown",
   "id": "9010aa30-f22e-47b8-888d-b71503cb6a1a",
   "metadata": {},
   "source": [
    "::: {admonition} 🔠 Coding Vocabulary\n",
    ":class: warning\n",
    "**Syntax:** The words and characters of a programming langauge which a computer can interpret. The computer interprets the syntax to do an action for the programmer.\n",
    ":::"
   ]
  },
  {
   "cell_type": "markdown",
   "id": "7cd54d2e-1edf-470c-8715-c23c343de4e6",
   "metadata": {},
   "source": [
    "## 🗣️*Let's Communicate!*\n",
    "The `print()` command asks the computer to repeat a line back to you. \n",
    "<br> Let's practice!"
   ]
  },
  {
   "cell_type": "code",
   "execution_count": 37,
   "id": "647607da-7e0a-4cfe-a6e6-96038d527cee",
   "metadata": {},
   "outputs": [
    {
     "name": "stdout",
     "output_type": "stream",
     "text": [
      "Hello World\n",
      "Hallo Welt\n"
     ]
    }
   ],
   "source": [
    "#This is a code cell -- what we type here, the computer attempts to interpret.\n",
    "\n",
    "print('Hello World') #English\n",
    "print(\"Hallo Welt\") #Deutsch\n",
    "\n",
    "#After running this code (Shift+Enter), the output is displayed below!"
   ]
  },
  {
   "cell_type": "code",
   "execution_count": 38,
   "id": "584ebcf6-e586-48bf-bebf-1b6f7602b744",
   "metadata": {},
   "outputs": [
    {
     "name": "stdout",
     "output_type": "stream",
     "text": [
      "3.1415927\n"
     ]
    }
   ],
   "source": [
    "#You can print numbers\n",
    "print(3.1415927)"
   ]
  },
  {
   "cell_type": "code",
   "execution_count": 39,
   "id": "8bceabfa-b538-491f-877d-d0504f318f7b",
   "metadata": {},
   "outputs": [
    {
     "name": "stdout",
     "output_type": "stream",
     "text": [
      "height= 1.7 meters\n"
     ]
    }
   ],
   "source": [
    "#You can print multiple objects, separated by commas\n",
    "print('height=', 1.7, 'meters')"
   ]
  },
  {
   "cell_type": "code",
   "execution_count": 40,
   "id": "60681100-1845-4fc3-9690-261731a1a7b3",
   "metadata": {},
   "outputs": [
    {
     "name": "stdout",
     "output_type": "stream",
     "text": [
      "3\n"
     ]
    }
   ],
   "source": [
    "#You can print the output of math calculations\n",
    "print(2*5-7)"
   ]
  },
  {
   "cell_type": "markdown",
   "id": "d84b45ed-47d9-48bb-a91a-d05c9e62d65f",
   "metadata": {},
   "source": [
    "CONGRATULATIONS - You just talked to a computer!\n",
    "<br>Notice how the computer ignores what is written after the **#** symbol. We use this # symbol to leave **comments** on our code. Comments are a powerful tool we use to explain our code to ourselves and others."
   ]
  },
  {
   "cell_type": "markdown",
   "id": "2ceab3bb-a461-47cc-804d-ff3ecb59f4fb",
   "metadata": {},
   "source": [
    "The `print()` command may seem a bit useless on its own, but it is incredibly useful when figuring out what is happening in your code, as well as when finding errors. You can use `print()` to check outputs of your code at different points."
   ]
  },
  {
   "cell_type": "markdown",
   "id": "49d46abe-8162-4dac-8161-2539102a3902",
   "metadata": {},
   "source": [
    ":::{admonition} 📝 Check your Understanding\n",
    ":class: tip\n",
    "Write a cell of code to display *the time you woke* up followed by *what you ate for breakfast*.\n",
    ":::{admonition} Answer\n",
    ":class: note, dropdown\n",
    "print(8, 'apple')"
   ]
  },
  {
   "cell_type": "markdown",
   "id": "356a6a33-d104-4162-af08-012196c2e0f1",
   "metadata": {},
   "source": [
    "## *User Input*\n",
    "We can use the `input()` command to ask the user for information."
   ]
  },
  {
   "cell_type": "code",
   "execution_count": 41,
   "id": "9f09edd7-96d0-4eae-9139-a189a01d525c",
   "metadata": {},
   "outputs": [
    {
     "name": "stdin",
     "output_type": "stream",
     "text": [
      "How are you feeling today good\n"
     ]
    },
    {
     "data": {
      "text/plain": [
       "'good'"
      ]
     },
     "execution_count": 41,
     "metadata": {},
     "output_type": "execute_result"
    }
   ],
   "source": [
    "#Example\n",
    "input('How are you feeling today')"
   ]
  },
  {
   "cell_type": "markdown",
   "id": "fefc7d6b-a7e9-4366-be10-4dce56c6d2dd",
   "metadata": {},
   "source": [
    "# Variables, Data Types, Operators, and If Statements"
   ]
  },
  {
   "cell_type": "markdown",
   "id": "90153485-9a10-4729-bc7b-364777cedaea",
   "metadata": {},
   "source": [
    "## *Variables*\n",
    "A **variable** is a named piece of information. As scientific programmers, we need to keep track of many different values at one time, so we assign each a name. When we give a value a name, it becomes a variable."
   ]
  },
  {
   "cell_type": "markdown",
   "id": "5b0f0d0c-37ec-44d0-864b-0cdf4e3d4533",
   "metadata": {},
   "source": [
    ":::{admonition} 🔠 Coding Vocabulary\n",
    ":class: warning\n",
    "**Variable** - a named value. The same variable will often change values throughout a program."
   ]
  },
  {
   "cell_type": "code",
   "execution_count": 42,
   "id": "12aa8e0a-bf9c-4ce0-b5e3-d6497bcda381",
   "metadata": {},
   "outputs": [],
   "source": [
    "#Assigning the value 100 to a variable named x\n",
    "x = 100\n",
    "#Assigning the value 1 to a variabled named y\n",
    "y = 1\n",
    "#Assigning the string 'apple' to a variable named my_breakfast\n",
    "my_breakfast = 'apple'"
   ]
  },
  {
   "cell_type": "markdown",
   "id": "404b2cae-8248-4b6f-bd2f-b2bf982cab19",
   "metadata": {},
   "source": [
    "Note: After running the cell, there is no output. That is because we did not `print()` anything. The computer simply stored this value as a variable."
   ]
  },
  {
   "cell_type": "markdown",
   "id": "a9eb20b7-1a1a-4cf7-ad5b-beb829f94b16",
   "metadata": {},
   "source": [
    ":::{admonition} The Next Step\n",
    ":class: caution, dropdown\n",
    "Overwrite my_breakfast with what the user ate for breakfast.\n",
    ":::{admonition}Answer\n",
    ":class: note, dropdown\n",
    "my_breakfast = input('What did you eat for breakfast?')"
   ]
  },
  {
   "cell_type": "markdown",
   "id": "44410b22-404f-4ee8-a120-018a4a4ef445",
   "metadata": {},
   "source": [
    ":::{admonition} 📝 Check your Understanding\n",
    ":class: tip\n",
    "How would you determine the current state of *my_breakfast*?\n",
    ":::{admonition} Answer\n",
    ":class: note, dropdown\n",
    "print(my_breakfast)"
   ]
  },
  {
   "cell_type": "markdown",
   "id": "1056ecef-d11b-4957-97a8-4093f746f473",
   "metadata": {},
   "source": [
    ":::{admonition} 📝 Check your Understanding\n",
    ":class: tip\n",
    "`print` the sum of x and y\n",
    ":::{admonition} Answer\n",
    ":class: note, dropdown\n",
    "print(x+y)"
   ]
  },
  {
   "cell_type": "markdown",
   "id": "e84a4cad-e7d3-438e-b2ed-eaee5b07fe4e",
   "metadata": {},
   "source": [
    ":::{admonition}📝 Check your Understanding\n",
    ":class: tip\n",
    "This will test your understanding of variables, `print()`, and the order of execution when coding.<br>\n",
    "What is the output of the following lines of code?\n",
    "```\n",
    "x = 10\n",
    "x = 20\n",
    "print('x=', x)\n",
    "y = x + 5\n",
    "print('x+y=', x+y)\n",
    "```\n",
    "a) x= 20\n",
    "   <br>x+y= 25\n",
    "\n",
    "b) x=10\n",
    "  <br>x+y= 15\n",
    "\n",
    "c) x= 20\n",
    "   <br>x+y= 45\n",
    "   \n",
    "d) None are correct\n",
    ":::{admonition} Answer\n",
    ":class: note, dropdown\n",
    "c"
   ]
  },
  {
   "cell_type": "markdown",
   "id": "6e1bde78-54f7-42cb-8910-4146a55d93bf",
   "metadata": {},
   "source": [
    "In programming, the computer executes code from top to bottom. Notice how you can *overwrite* a variable. Here, x was assigned a value of 10, then *overwritten* and assigned the value 20. When naming your variables, be sure to give unique names to different values. "
   ]
  },
  {
   "cell_type": "markdown",
   "id": "fc799a3f-bc4d-49c6-903c-5fef0f44d745",
   "metadata": {},
   "source": [
    "## *Data Types*"
   ]
  },
  {
   "cell_type": "markdown",
   "id": "0316e52d-1219-4351-8c34-3c951600fddb",
   "metadata": {},
   "source": [
    "There are 4 types of data in the Python language:<br>\n",
    "\n",
    "| Python Data Type |Command| English | Example |\n",
    "|:---|:---:|:---:|:---:|\n",
    "|`string` (`str`)|str()| text| 'Happy'|\n",
    "|`integer` (`int`)|int()| whole number|24|\n",
    "|`float` (`float`)|float()|decimal number| 6.789|\n",
    "|`boolean` (`bool`)|bool()| Yes/No|True|\n",
    "\n",
    "A **data type** is a way of classifying a value in Python. It allows the computer to understand what it can do with the assigned value.\n",
    "\n",
    "<br>Note: You can make anything a `string` by surrounding it in quotations. `'` and `\"` are the same. "
   ]
  },
  {
   "cell_type": "markdown",
   "id": "1461445d-680a-4f31-9c60-6af647fd4fe1",
   "metadata": {},
   "source": [
    ":::{admonition} 🔠 Coding Vocabulary\n",
    ":class: warning\n",
    "**Data type** - a way to categorize data that tells the computer something about how we are going to be using the data\n",
    ":::"
   ]
  },
  {
   "cell_type": "markdown",
   "id": "db7fb323-8bfd-4d79-ba8a-9e0b52b668ca",
   "metadata": {},
   "source": [
    "If you are unsure of the data type of a variable, you can check using the command `type()`."
   ]
  },
  {
   "cell_type": "markdown",
   "id": "d9da951b-4a6b-4173-a5dd-07a863d427aa",
   "metadata": {},
   "source": [
    ":::{admonition} 📝Check your Understanding\n",
    ":class: tip\n",
    "```\n",
    "a = 'banana'\n",
    "b = 1.0\n",
    "c = True\n",
    "d = 'false'\n",
    "e = '20.0'\n",
    "f = 678\n",
    "```\n",
    "Check the data types of a, b, c, d, e, and f.\n",
    "\n",
    ":::{admonition} Answer\n",
    ":class: note, dropdown\n",
    "Two ways to figure this out:\n",
    "1. You must run the commands `type(a)`, `type(b)`, and `type(c)` separately.\n",
    "2. Use the commands\n",
    "`print(type(variable))`\n",
    "in which the outputs will appear as <class 'data type'>.<br>\n",
    "<br> Answers:\n",
    "<br> a is a string\n",
    "<br> b is a float\n",
    "<br> c is a boolean\n",
    "<br> d is a string\n",
    "<br> e is a string\n",
    "<br> f is an integer"
   ]
  },
  {
   "cell_type": "markdown",
   "id": "d1dd86a1-c847-4176-a3b2-3b4e7bee7202",
   "metadata": {},
   "source": [
    "TIP: To help keep track of data types, you can use a naming convention in which the name of the variable begins with type_variablename. We can simplify by using only the firsts letter of the data type.\n",
    "<br> s_age = '23' --> string\n",
    "<br> i_age = 23 --> integer\n",
    "<br> f_age = 23.0 --> float"
   ]
  },
  {
   "cell_type": "markdown",
   "id": "b4cb0599-53b9-4d7b-991f-3ec8bd1208fa",
   "metadata": {},
   "source": [
    "## *Operators*\n",
    "Why do we care about data types? The data type helps the comuter understand the types of **operators** that can act on a variable.<br>\n",
    "The most common mathematical operators in python are:\n",
    "|Arithmetic Operator|Operation|\n",
    "|:---:|:---:|\n",
    "|+|addition|\n",
    "|-|subtraction|\n",
    "|*|muliplication|\n",
    "|/|division|\n",
    "|**|exponentiation|\n",
    "|%|modulus|\n",
    "|//|floor division|"
   ]
  },
  {
   "cell_type": "markdown",
   "id": "279f31be-bd59-4682-b7aa-1ab606b2fb8f",
   "metadata": {},
   "source": [
    ":::{admonition} 🔠 Coding Vocabulary\n",
    ":class: warning\n",
    "**Operator** - symbols that represent actions performed on variables and values."
   ]
  },
  {
   "cell_type": "markdown",
   "id": "1e279b8f-b6df-4c30-854f-451e09db8385",
   "metadata": {},
   "source": [
    "As you can imagine, the mathematical operators work very well with `float` and `integer` data types. \n",
    "<br>Let's look at the following variables:"
   ]
  },
  {
   "cell_type": "code",
   "execution_count": 2,
   "id": "e0082b3b-099c-48d0-be4a-ab84567864eb",
   "metadata": {},
   "outputs": [],
   "source": [
    "x = 8\n",
    "y = 9.6\n",
    "a = 'red'\n",
    "b = 'blue'"
   ]
  },
  {
   "cell_type": "code",
   "execution_count": 44,
   "id": "8aa5bed9-b2f5-4390-8c96-5063ef9d7036",
   "metadata": {},
   "outputs": [
    {
     "name": "stdout",
     "output_type": "stream",
     "text": [
      "z_add= 17.6\n",
      "c_add= redblue\n"
     ]
    }
   ],
   "source": [
    "#Addition\n",
    "z = x + y\n",
    "print('z=', z)\n",
    "\n",
    "c = a + b\n",
    "print('c=', c)\n",
    "\n",
    "add = x + a\n",
    "print('add=', add)"
   ]
  },
  {
   "cell_type": "code",
   "execution_count": 45,
   "id": "91509913-c0d5-4194-86ab-1a952d22439c",
   "metadata": {},
   "outputs": [
    {
     "name": "stdout",
     "output_type": "stream",
     "text": [
      "z_sub= -1.5999999999999996\n"
     ]
    }
   ],
   "source": [
    "#Subtraction\n",
    "z = x - y\n",
    "print('z=', z)\n",
    "\n",
    "c = a - b\n",
    "print('c=', c)\n",
    "\n",
    "sub = x - a\n",
    "print('sub=', sub)"
   ]
  },
  {
   "cell_type": "markdown",
   "id": "baed4eec-a90d-4958-a0d0-eacc8d7309f1",
   "metadata": {},
   "source": [
    "--> Strings are only compatible with the `+` arithmetic operator.\n",
    ":::{admonition} ❤️‍🩹 Errors\n",
    ":class: important\n",
    "**TypeError** -occurs when the data type of objects in an operation is inappropriate."
   ]
  },
  {
   "cell_type": "code",
   "execution_count": 3,
   "id": "3ff862fa-2ce7-4ee3-beb8-322c51edbd10",
   "metadata": {},
   "outputs": [
    {
     "name": "stdout",
     "output_type": "stream",
     "text": [
      "z_mult= 76.8\n",
      "z_div= 0.8333333333333334\n",
      "z_fdiv= 0.0\n",
      "z_exp= 467373274.8589035\n"
     ]
    }
   ],
   "source": [
    "#Multiplication\n",
    "z_mult = x*y\n",
    "print('z_mult=', z_mult)\n",
    "#Division\n",
    "z_div = x/y\n",
    "print('z_div=', z_div)\n",
    "#Floor Division\n",
    "z_fdiv = x//y\n",
    "print('z_fdiv=', z_fdiv)\n",
    "#Exponentiation\n",
    "z_exp = x**y\n",
    "print('z_exp=', z_exp)"
   ]
  },
  {
   "cell_type": "markdown",
   "id": "8cdffc68-49d5-4f83-8e6f-2d2bb63789d5",
   "metadata": {},
   "source": [
    ":::{admonition} 📝Check your Understanding\n",
    ":class: tip\n",
    "Chose Y/N whether each of the follow will present a TypeError.\n",
    "<br><br>\n",
    "1. 3**3\n",
    "2. 'hi'+90\n",
    "3. 70/'1'\n",
    "4. 'hello'+'world'\n",
    "5. 'hello'-'world'\n",
    "6. 8/100\n",
    "\n",
    ":::{admonition} Answer\n",
    ":class: note, dropdown\n",
    "1. No error\n",
    "2. TypeError: strings are only compatible with other strings using the + operator\n",
    "3. TypeError: '1' is a string here, not an integer. strings are not compatible with /\n",
    "4. No error\n",
    "5. TypeError: strings are not compatible with -\n",
    "6. No error"
   ]
  },
  {
   "cell_type": "markdown",
   "id": "c3c9f51c-b811-43ce-88c9-cc43b7446ce7",
   "metadata": {},
   "source": [
    "## ⚖️ *Booleans and Comparisons*\n"
   ]
  },
  {
   "cell_type": "markdown",
   "id": "edc5e771-fe27-460a-bb2a-2badbe5b22f8",
   "metadata": {},
   "source": [
    "Boolean logic is a type of algebra in which results are either True or False. With booleans, we have a set of operators that compare the variables, and another set that allows us to write logical statements.\n",
    "|Comparison Operator|Operation|\n",
    "|:-:|:-:|\n",
    "|==|equal|\n",
    "|!=|not equal|\n",
    "|<|less than|\n",
    "|>|greater than|\n",
    "|<=|less than or equal to|\n",
    "|>=|greater than or equal to|\n",
    "\n",
    "|Logical Operator|Operation|\n",
    "|:-:|:-:|\n",
    "|and|condition must be met in both variables|\n",
    "|or|condition must be met in either variable|\n",
    "|not|reverses condition of variable|"
   ]
  },
  {
   "cell_type": "markdown",
   "id": "9b0aa9df-f532-42b6-94d4-00f8f1a7b638",
   "metadata": {},
   "source": [
    "Examples with Comparisons"
   ]
  },
  {
   "cell_type": "code",
   "execution_count": 47,
   "id": "98c1f559-93df-4d5f-aca2-c2513c54070d",
   "metadata": {},
   "outputs": [
    {
     "data": {
      "text/plain": [
       "False"
      ]
     },
     "execution_count": 47,
     "metadata": {},
     "output_type": "execute_result"
    }
   ],
   "source": [
    "4+5 == 10"
   ]
  },
  {
   "cell_type": "code",
   "execution_count": 48,
   "id": "f503f726-2d76-4049-ab22-3b391ae852e0",
   "metadata": {},
   "outputs": [
    {
     "data": {
      "text/plain": [
       "True"
      ]
     },
     "execution_count": 48,
     "metadata": {},
     "output_type": "execute_result"
    }
   ],
   "source": [
    "4+5 >= 6"
   ]
  },
  {
   "cell_type": "code",
   "execution_count": 49,
   "id": "d67f31ae-5620-4d9b-b971-d0dccfa9a186",
   "metadata": {},
   "outputs": [
    {
     "data": {
      "text/plain": [
       "False"
      ]
     },
     "execution_count": 49,
     "metadata": {},
     "output_type": "execute_result"
    }
   ],
   "source": [
    "state = 'VA' #assigns the string 'VA' to the variable state\n",
    "state == 'KY' #checks for equality if the variable state equals 'KY'"
   ]
  },
  {
   "cell_type": "markdown",
   "id": "7fa1d88c-1235-4e99-9b6b-8a59550090d8",
   "metadata": {},
   "source": [
    ":::{admonition} 📝 Check your Understanding\n",
    ":class: tip\n",
    "What is the output of the following operations?\n",
    "1. 4*6 < 30\n",
    "2. 3 == 'three'\n",
    "3. 24 != 4*6\n",
    "\n",
    ":::{admonition} Answer\n",
    ":class: note, dropdown\n",
    "1. True\n",
    "2. False\n",
    "3. False"
   ]
  },
  {
   "cell_type": "markdown",
   "id": "553055b1-46ec-4ace-b89c-f8368afb746d",
   "metadata": {},
   "source": [
    "Examples with Logical Operators"
   ]
  },
  {
   "cell_type": "code",
   "execution_count": 50,
   "id": "9fda7819-12da-4626-a758-592b88ed7668",
   "metadata": {},
   "outputs": [],
   "source": [
    "True andTrue"
   ]
  },
  {
   "cell_type": "markdown",
   "id": "5ced5313-fa50-4d84-b885-a4f0f27ade4f",
   "metadata": {},
   "source": [
    ":::{admonition} ❤️‍🩹 Errors\n",
    ":class: important\n",
    "***SyntaxError*** - invalid syntax, the computer does not recognize an expression you are telling it. \n",
    "<br>-->*This would be like you having a conversation with someone in English, and then they all of a sudden start speaking Russian.*\n",
    "<br>This is a very common error typically caused by mispellings, typos, or small forgotten details.\n",
    "\n"
   ]
  },
  {
   "cell_type": "code",
   "execution_count": 51,
   "id": "e30ac3ee-9dc8-47f5-bf2d-8e25b050b1c7",
   "metadata": {},
   "outputs": [
    {
     "data": {
      "text/plain": [
       "False"
      ]
     },
     "execution_count": 51,
     "metadata": {},
     "output_type": "execute_result"
    }
   ],
   "source": [
    "True and False"
   ]
  },
  {
   "cell_type": "code",
   "execution_count": 52,
   "id": "a15d205b-a003-4a86-b18e-6b512ca19c1c",
   "metadata": {},
   "outputs": [
    {
     "data": {
      "text/plain": [
       "True"
      ]
     },
     "execution_count": 52,
     "metadata": {},
     "output_type": "execute_result"
    }
   ],
   "source": [
    "True or True"
   ]
  },
  {
   "cell_type": "code",
   "execution_count": 53,
   "id": "8630ac25-2cf4-49e3-9882-dee277bc5dc8",
   "metadata": {},
   "outputs": [
    {
     "data": {
      "text/plain": [
       "False"
      ]
     },
     "execution_count": 53,
     "metadata": {},
     "output_type": "execute_result"
    }
   ],
   "source": [
    "True and False"
   ]
  },
  {
   "cell_type": "code",
   "execution_count": 54,
   "id": "5719355e-bcab-4f29-a43f-9a1f78838ada",
   "metadata": {},
   "outputs": [
    {
     "data": {
      "text/plain": [
       "False"
      ]
     },
     "execution_count": 54,
     "metadata": {},
     "output_type": "execute_result"
    }
   ],
   "source": [
    "2!=3 and 2^2>4\n",
    "#True and False --> False"
   ]
  },
  {
   "cell_type": "code",
   "execution_count": 55,
   "id": "17e5cfa5-1045-4fa8-b2ce-9d81089116bb",
   "metadata": {},
   "outputs": [
    {
     "data": {
      "text/plain": [
       "True"
      ]
     },
     "execution_count": 55,
     "metadata": {},
     "output_type": "execute_result"
    }
   ],
   "source": [
    "2!=3 and not 2^2>4\n",
    "#True and not False --> True"
   ]
  },
  {
   "cell_type": "code",
   "execution_count": 56,
   "id": "a2c29760-6b1c-4c3a-a401-ef0c41892b89",
   "metadata": {
    "scrolled": true
   },
   "outputs": [
    {
     "data": {
      "text/plain": [
       "True"
      ]
     },
     "execution_count": 56,
     "metadata": {},
     "output_type": "execute_result"
    }
   ],
   "source": [
    "2!=3 or 2^2>4\n",
    "#True or False --> True"
   ]
  },
  {
   "cell_type": "markdown",
   "id": "dffaea7b-86f1-40a8-9eb0-b4142a01ea6d",
   "metadata": {},
   "source": [
    "Note: All operators can be used together in **statements**. Statements are composed of **expressions**."
   ]
  },
  {
   "cell_type": "markdown",
   "id": "bcec73e1-2bab-4184-bfb6-c4e1d5d5b068",
   "metadata": {},
   "source": [
    ":::{admonition} 🔠 Coding Vocabulary\n",
    ":class: warning\n",
    "**Expression** - a value or anything that executes to come to a value.\n",
    "<br>**Statement** - a line of code, a syntactic unit. \n",
    "<br> In comparison to English:\n",
    "    <br> Words = Expressions\n",
    "    <br> Sentences = Statements"
   ]
  },
  {
   "cell_type": "markdown",
   "id": "8b49a691-b507-452d-8782-f0a077620f91",
   "metadata": {
    "editable": true,
    "slideshow": {
     "slide_type": ""
    },
    "tags": []
   },
   "source": [
    ":::{admonition} 📝 Check your Understanding\n",
    ":class: tip\n",
    "Evaluate the following:\n",
    "```\n",
    "1. 16//3 <= 5 and 16 == 'sixteen'\n",
    "2. not 'dog != 'dog'\n",
    "```\n",
    ":::{admonition} Answer\n",
    ":class: note, dropdown\n",
    "```\n",
    "1. False\n",
    "2. True\n",
    "```"
   ]
  },
  {
   "cell_type": "markdown",
   "id": "102929be-dfac-4654-8437-04bf3718baf5",
   "metadata": {},
   "source": [
    "To learn about more types of operators in python, check out [this link](https://www.w3schools.com/python/python_operators.asp), which also has good resources on other Python topics."
   ]
  },
  {
   "cell_type": "markdown",
   "id": "1e8c6bc1-e29e-46c5-aa61-d8b54bebe76d",
   "metadata": {},
   "source": [
    "## 🌥️ *`if` statments*\n",
    "Why do we need operators and booleans? `if` statements may help this all make more sense.\n",
    "<br>Many times, we want to compare something, and then make a decision based on the output.\n",
    "<br><br>Example:\n",
    "<br>English: If cloud cover is less than 30 percent, start processing. Otherwise, skip to the next image.\n",
    "```\n",
    "Code:\n",
    "if <<True/False statement>>:\n",
    "        <<do something>>\n",
    "else:\n",
    "        <<do something else>>\n",
    "```"
   ]
  },
  {
   "cell_type": "code",
   "execution_count": 57,
   "id": "68f7ec82-4a67-4ef2-bb1f-bbbe7e43d978",
   "metadata": {},
   "outputs": [
    {
     "name": "stdout",
     "output_type": "stream",
     "text": [
      "Image too cloudy. Skip to the next.\n"
     ]
    }
   ],
   "source": [
    "#Let's write this example out now in code.\n",
    "cloud_cover = 50\n",
    "if cloud_cover <= 30:\n",
    "    print('Image good for processing')\n",
    "else:\n",
    "    print('Image too cloudy. Skip to the next.')"
   ]
  },
  {
   "cell_type": "markdown",
   "id": "07fc834d-106d-4aed-aebe-daa1fb705ee0",
   "metadata": {},
   "source": [
    "If you need multiple conditional **if** statements, you can add an **elif**, or else if, statement.\n",
    "<br> <br> To add to the previous example:\n",
    "<br><br> English:\n",
    "<br> If cloud cover is less than 30%, the image is awesome. If it is less than 40% but greater than 30%, it is good. If it is less than 50% but greater than 40%, it is okay. If cloud cover is greater than 50%, the image is unprocessable."
   ]
  },
  {
   "cell_type": "code",
   "execution_count": 58,
   "id": "feb8d30f-9c9d-454b-ab10-931513d316fd",
   "metadata": {},
   "outputs": [
    {
     "name": "stdout",
     "output_type": "stream",
     "text": [
      "Image okay for processing.\n"
     ]
    }
   ],
   "source": [
    "#Code\n",
    "cloud_cover = 50\n",
    "if cloud_cover <= 30:\n",
    "    print('Image awesome for processing.')\n",
    "elif 30 < cloud_cover <= 40:\n",
    "    print('Image good for processing.')\n",
    "elif 40 < cloud_cover <= 50:\n",
    "    print('Image okay for processing.')\n",
    "else:\n",
    "    print('Image too cloudy. Skip to the next.')"
   ]
  },
  {
   "cell_type": "markdown",
   "id": "33529120-00f8-498b-bd81-50854e19a9dc",
   "metadata": {
    "editable": true,
    "slideshow": {
     "slide_type": ""
    },
    "tags": []
   },
   "source": [
    ":::{admonition} The Next Step\n",
    ":class: caution, dropdown\n",
    "How could we improve the efficiency of the previous example?\n",
    ":::{admonition} Answer\n",
    ":class: note, dropdown\n",
    "Since code is sequentially ran from top to bottom, we can simplify our **elif** conditional statements.\n",
    "<br> After the initial **if** statement, any images with cloud_cover <=30 are accounted for. So in our **elif** statement, we do not need to worry about these images, and we can simplify the statement to \n",
    "```\n",
    "elif cloud_cover <= 40:\n",
    "```\n",
    "Taking this same concept to the next line:\n",
    "```\n",
    "elif cloud_cover <= 50:\n",
    "```\n",
    ":::\n",
    "The computer exits the if/elif/else statement as soon as one True condition is met."
   ]
  },
  {
   "cell_type": "markdown",
   "id": "90268d10-c59e-4776-bbd3-5f1b5fc17197",
   "metadata": {
    "editable": true,
    "slideshow": {
     "slide_type": ""
    },
    "tags": []
   },
   "source": [
    "# 🏁 Wrap-up: Think, Pair, Share!\n",
    "## Think!\n",
    "Take 4 minutes and review on your own what you learned, and write a summary. This can be in paragraph style, bullet points, drawings, whatever makes sense to you. Feel free to create a cell below (either a Markdown or a Code cell) and play around!\n",
    "## Pair!\n",
    "Take 4 minutes and discuss at your tables what you all learned today.\n",
    "## Share!\n",
    ":::{admonition} Riley's Version\n",
    ":class: note, dropdown\n",
    "1. In learning programming, we are learning what words (syntax) the computer understands to mean certain things.\n",
    "2. SyntaxErrors occur when the computer does not recognize an expression we gave it.\n",
    "3. We organize variables into 4 data types: strings, integers, floats, booleans. Data type determines what you can do with a variable.\n",
    "4. TypeErrors occur when the data type and operator are not compatible.\n",
    "5. We assign a variable to a value using =\n",
    "6. Operators perform actions on variables. There are 3 types of operators: arithmetic, comparison, logical.\n",
    "7. Booleans output only either True or False.\n",
    "8. If statements allow us to change how our code runs based on a condition. The computer exits the if statement as soon as it finds a True condition."
   ]
  },
  {
   "cell_type": "markdown",
   "id": "a6bf975f-e80b-4472-8df9-ae5494914e2f",
   "metadata": {},
   "source": [
    "CONGRATULATIONS -- You completed your first SARP Coding Lesson!\n",
    "<br>Prost und Guten Tag!\n",
    "<br> ¡Saludos y Buen Día!\n",
    "<br> Cheers and Good Day!"
   ]
  }
 ],
 "metadata": {
  "kernelspec": {
   "display_name": "Python 3 (ipykernel)",
   "language": "python",
   "name": "python3"
  },
  "language_info": {
   "codemirror_mode": {
    "name": "ipython",
    "version": 3
   },
   "file_extension": ".py",
   "mimetype": "text/x-python",
   "name": "python",
   "nbconvert_exporter": "python",
   "pygments_lexer": "ipython3",
   "version": "3.11.9"
  }
 },
 "nbformat": 4,
 "nbformat_minor": 5
}
